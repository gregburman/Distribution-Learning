{
 "cells": [
  {
   "cell_type": "code",
   "execution_count": 79,
   "metadata": {
    "scrolled": true
   },
   "outputs": [
    {
     "data": {
      "text/html": [
       "<style>.container { width:100% !important; }</style><iframe src=\"http://localhost:8880/neuroglancer#!%7B%22layers%22:%7B%22image%22:%7B%22source%22:%22python://http://localhost:8880/893a591bf367e98e65d9bcd2c06c8bf4a26af394%22,%22type%22:%22image%22%7D,%22image2%22:%7B%22source%22:%22python://http://localhost:8880/2ee80b944c1421e848ad38192c868247d93084e6%22,%22type%22:%22image%22%7D,%22image3%22:%7B%22source%22:%22python://http://localhost:8880/f5ed3190db57c54999ff76ab80af6251c45a7d3d%22,%22type%22:%22image%22%7D,%22image4%22:%7B%22source%22:%22python://http://localhost:8880/127b9b0d9df00797fff62f20a22f019d1c730b79%22,%22type%22:%22image%22%7D%7D%7D\" width=\"100%\" height=\"1024px\"><\\iframe>"
      ],
      "text/plain": [
       "<IPython.core.display.HTML object>"
      ]
     },
     "execution_count": 79,
     "metadata": {},
     "output_type": "execute_result"
    }
   ],
   "source": [
    "import nyroglancer\n",
    "import numpy as np\n",
    "import h5py\n",
    "\n",
    "\n",
    "# file1 = h5py.File('../snapshots/prob_unet/setup_8/prediction_0000000{}.hdf'.fomat())\n",
    "# filename2 = '../snapshots/prob_unet/setup_8/prediction_00000001.hdf'\n",
    "# filename3 = '../snapshots/prob_unet/setup_8/prediction_00000002.hdf'\n",
    "# filename4 = '../snapshots/prob_unet/setup_8/prediction_00000003.hdf'\n",
    "\n",
    "dset = []\n",
    "viewer = nyroglancer.Viewer()\n",
    "for i in range(4):\n",
    "    dataset = h5py.File('../snapshots/prob_unet/setup_8/prediction_0000000{}.hdf'.format(i), 'r')['volumes/pred_affs']\n",
    "    viewer.add(dataset)\n",
    "\n",
    "\n",
    "viewer.set_hostname('localhost:8880')\n",
    "viewer.set_large()\n",
    "viewer.show()"
   ]
  },
  {
   "cell_type": "code",
   "execution_count": 525,
   "metadata": {
    "scrolled": false
   },
   "outputs": [
    {
     "name": "stdout",
     "output_type": "stream",
     "text": [
      "Closing previously open ../tests/snapshots/gt_1_merge_3/batch_00000000.hdf\n",
      "Adding dataset ../tests/snapshots/gt_1_merge_3/batch_00000000.hdf/volumes/labels as 1\n",
      "Adding dataset ../tests/snapshots/gt_1_merge_3/batch_00000000.hdf/volumes/merged_labels_1 as 2\n",
      "Adding dataset ../tests/snapshots/gt_1_merge_3/batch_00000000.hdf/volumes/merged_labels_2 as 3\n",
      "Adding dataset ../tests/snapshots/gt_1_merge_3/batch_00000000.hdf/volumes/merged_labels_3 as 4\n"
     ]
    },
    {
     "data": {
      "text/html": [
       "<style>.container { width:100% !important; }</style><iframe src=\"http://localhost:8880/neuroglancer#!%7B%22layers%22:%7B%22../tests/snapshots/gt_1_merge_3/batch_00000000.hdf/volumes/labels%22:%7B%22source%22:%22python://http://localhost:8880/71d62056aa5701263ebb2039d8ef609442b7ebba%22,%22type%22:%22segmentation%22%7D,%22../tests/snapshots/gt_1_merge_3/batch_00000000.hdf/volumes/merged_labels_1%22:%7B%22source%22:%22python://http://localhost:8880/046ac324530136bc42cc3f2c3efbcfc8774dcb8f%22,%22type%22:%22segmentation%22%7D,%22../tests/snapshots/gt_1_merge_3/batch_00000000.hdf/volumes/merged_labels_2%22:%7B%22source%22:%22python://http://localhost:8880/4c7b7dd4117c13138a47861160a3294d801451c5%22,%22type%22:%22segmentation%22%7D,%22../tests/snapshots/gt_1_merge_3/batch_00000000.hdf/volumes/merged_labels_3%22:%7B%22source%22:%22python://http://localhost:8880/0f3a94de2265e6b0b7c237e4e610dffb8fef71ba%22,%22type%22:%22segmentation%22%7D%7D%7D\" width=\"100%\" height=\"1024px\"><\\iframe>"
      ],
      "text/plain": [
       "<IPython.core.display.HTML object>"
      ]
     },
     "execution_count": 525,
     "metadata": {},
     "output_type": "execute_result"
    }
   ],
   "source": [
    "import nyroglancer\n",
    "import numpy as np\n",
    "\n",
    "filename = '../tests/snapshots/gt_1_merge_3/batch_00000000.hdf'\n",
    "\n",
    "viewer = nyroglancer.Hdf5Viewer(filename)\n",
    "viewer.set_hostname('localhost:8880')\n",
    "viewer.set_large()\n",
    "viewer.show()"
   ]
  },
  {
   "cell_type": "code",
   "execution_count": 105,
   "metadata": {
    "scrolled": false
   },
   "outputs": [
    {
     "name": "stdout",
     "output_type": "stream",
     "text": [
      "Closing previously open ../snapshots/prob_unet/setup_12/batch_1.hdf\n",
      "Adding dataset ../snapshots/prob_unet/setup_12/batch_1.hdf/volumes/gt_affs as 1\n",
      "Adding dataset ../snapshots/prob_unet/setup_12/batch_1.hdf/volumes/labels as 2\n",
      "Adding dataset ../snapshots/prob_unet/setup_12/batch_1.hdf/volumes/merged_labels as 3\n",
      "Adding dataset ../snapshots/prob_unet/setup_12/batch_1.hdf/volumes/raw as 4\n",
      "Adding dataset ../snapshots/prob_unet/setup_12/batch_1.hdf/volumes/raw_affs as 5\n"
     ]
    },
    {
     "data": {
      "text/html": [
       "<style>.container { width:100% !important; }</style><iframe src=\"http://localhost:8880/neuroglancer#!%7B%22layers%22:%7B%22../snapshots/prob_unet/setup_12/batch_1.hdf/volumes/gt_affs%22:%7B%22source%22:%22python://http://localhost:8880/13956fa57de25256b557ac92c5c72e9ef9bf2b41%22,%22type%22:%22image%22,%22shader%22:%22void%20main()%20%7B%20emitRGB(vec3(toNormalized(getDataValue(0)),toNormalized(getDataValue(1)),toNormalized(getDataValue(2))));%20%7D%22%7D,%22../snapshots/prob_unet/setup_12/batch_1.hdf/volumes/labels%22:%7B%22source%22:%22python://http://localhost:8880/fb763226de1a28186d296aa22a8580c1d55b88fe%22,%22type%22:%22segmentation%22%7D,%22../snapshots/prob_unet/setup_12/batch_1.hdf/volumes/merged_labels%22:%7B%22source%22:%22python://http://localhost:8880/2594fd7b0c422196abfe301aad6ca1e16bc967ae%22,%22type%22:%22segmentation%22%7D,%22../snapshots/prob_unet/setup_12/batch_1.hdf/volumes/raw%22:%7B%22source%22:%22python://http://localhost:8880/eb66c2a23b316340bc72bace5869cd8543a48788%22,%22type%22:%22image%22%7D,%22../snapshots/prob_unet/setup_12/batch_1.hdf/volumes/raw_affs%22:%7B%22source%22:%22python://http://localhost:8880/ec0b23c67f38613358e88f00d7417983252b451f%22,%22type%22:%22image%22,%22shader%22:%22void%20main()%20%7B%20emitRGB(vec3(toNormalized(getDataValue(0)),toNormalized(getDataValue(1)),toNormalized(getDataValue(2))));%20%7D%22%7D%7D%7D\" width=\"100%\" height=\"1024px\"><\\iframe>"
      ],
      "text/plain": [
       "<IPython.core.display.HTML object>"
      ]
     },
     "execution_count": 105,
     "metadata": {},
     "output_type": "execute_result"
    }
   ],
   "source": [
    "import nyroglancer\n",
    "import numpy as np\n",
    "\n",
    "filename = '../snapshots/prob_unet/setup_12/batch_1.hdf'\n",
    "\n",
    "viewer = nyroglancer.Hdf5Viewer(filename)\n",
    "viewer.set_hostname('localhost:8880')\n",
    "viewer.set_large()\n",
    "viewer.show()"
   ]
  },
  {
   "cell_type": "code",
   "execution_count": 204,
   "metadata": {},
   "outputs": [
    {
     "name": "stdout",
     "output_type": "stream",
     "text": [
      "Adding dataset ../snapshots/prob_unet/setup_12/batch_2001.hdf/volumes/gt_affs as 1\n",
      "Adding dataset ../snapshots/prob_unet/setup_12/batch_2001.hdf/volumes/labels as 2\n",
      "Adding dataset ../snapshots/prob_unet/setup_12/batch_2001.hdf/volumes/merged_labels as 3\n",
      "Adding dataset ../snapshots/prob_unet/setup_12/batch_2001.hdf/volumes/raw as 4\n",
      "Adding dataset ../snapshots/prob_unet/setup_12/batch_2001.hdf/volumes/raw_affs as 5\n"
     ]
    },
    {
     "data": {
      "text/html": [
       "<style>.container { width:100% !important; }</style><iframe src=\"http://localhost:8880/neuroglancer#!%7B%22layers%22:%7B%22../snapshots/prob_unet/setup_12/batch_2001.hdf/volumes/gt_affs%22:%7B%22source%22:%22python://http://localhost:8880/d0dbb5c606e1d9af4a3aefa6cbaf7c92ca088bcf%22,%22type%22:%22image%22,%22shader%22:%22void%20main()%20%7B%20emitRGB(vec3(toNormalized(getDataValue(0)),toNormalized(getDataValue(1)),toNormalized(getDataValue(2))));%20%7D%22%7D,%22../snapshots/prob_unet/setup_12/batch_2001.hdf/volumes/labels%22:%7B%22source%22:%22python://http://localhost:8880/1a408bc0364977dca53114f16626cbf414f1f988%22,%22type%22:%22segmentation%22%7D,%22../snapshots/prob_unet/setup_12/batch_2001.hdf/volumes/merged_labels%22:%7B%22source%22:%22python://http://localhost:8880/64a114fc5e18576bd9cfb70d2326aecd8b745607%22,%22type%22:%22segmentation%22%7D,%22../snapshots/prob_unet/setup_12/batch_2001.hdf/volumes/raw%22:%7B%22source%22:%22python://http://localhost:8880/c78d257f824f83fa1b312fd6427c561204514809%22,%22type%22:%22image%22%7D,%22../snapshots/prob_unet/setup_12/batch_2001.hdf/volumes/raw_affs%22:%7B%22source%22:%22python://http://localhost:8880/8eefd201587df84c568f1f7f2ed056a93986fb47%22,%22type%22:%22image%22,%22shader%22:%22void%20main()%20%7B%20emitRGB(vec3(toNormalized(getDataValue(0)),toNormalized(getDataValue(1)),toNormalized(getDataValue(2))));%20%7D%22%7D%7D%7D\" width=\"100%\" height=\"1024px\"><\\iframe>"
      ],
      "text/plain": [
       "<IPython.core.display.HTML object>"
      ]
     },
     "execution_count": 204,
     "metadata": {},
     "output_type": "execute_result"
    }
   ],
   "source": [
    "import nyroglancer\n",
    "import numpy as np\n",
    "\n",
    "filename = '../snapshots/prob_unet/setup_12/batch_2001.hdf'\n",
    "\n",
    "viewer = nyroglancer.Hdf5Viewer(filename)\n",
    "viewer.set_hostname('localhost:8880')\n",
    "viewer.set_large()\n",
    "viewer.show()"
   ]
  },
  {
   "cell_type": "code",
   "execution_count": null,
   "metadata": {},
   "outputs": [],
   "source": []
  }
 ],
 "metadata": {
  "kernelspec": {
   "display_name": "Python 2",
   "language": "python",
   "name": "python2"
  },
  "language_info": {
   "codemirror_mode": {
    "name": "ipython",
    "version": 2
   },
   "file_extension": ".py",
   "mimetype": "text/x-python",
   "name": "python",
   "nbconvert_exporter": "python",
   "pygments_lexer": "ipython2",
   "version": "2.7.12"
  }
 },
 "nbformat": 4,
 "nbformat_minor": 2
}
