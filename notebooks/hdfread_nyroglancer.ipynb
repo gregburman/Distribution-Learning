{
 "cells": [
  {
   "cell_type": "code",
   "execution_count": 101,
   "metadata": {
    "scrolled": false
   },
   "outputs": [
    {
     "name": "stdout",
     "output_type": "stream",
     "text": [
      "Adding dataset ../tests/snapshots/test_sample.hdf/volumes/affinities as 1\n",
      "Adding dataset ../tests/snapshots/test_sample.hdf/volumes/joined_affs as 2\n",
      "Adding dataset ../tests/snapshots/test_sample.hdf/volumes/labels as 3\n",
      "Adding dataset ../tests/snapshots/test_sample.hdf/volumes/raw as 4\n"
     ]
    },
    {
     "data": {
      "text/html": [
       "<style>.container { width:100% !important; }</style><iframe src=\"http://localhost:8880/neuroglancer#!%7B%22layers%22:%7B%22../tests/snapshots/test_sample.hdf/volumes/affinities%22:%7B%22source%22:%22python://http://localhost:8880/99f0cf43a239fe517e6c7add3905f1ab54368393%22,%22type%22:%22image%22,%22shader%22:%22void%20main()%20%7B%20emitRGB(vec3(toNormalized(getDataValue(0)),toNormalized(getDataValue(1)),toNormalized(getDataValue(2))));%20%7D%22%7D,%22../tests/snapshots/test_sample.hdf/volumes/joined_affs%22:%7B%22source%22:%22python://http://localhost:8880/7d1c00c4f234375e33d2376d8410a436c616d2c7%22,%22type%22:%22image%22%7D,%22../tests/snapshots/test_sample.hdf/volumes/labels%22:%7B%22source%22:%22python://http://localhost:8880/6d091734d618a78c2f194040b39d519e69708e94%22,%22type%22:%22segmentation%22%7D,%22../tests/snapshots/test_sample.hdf/volumes/raw%22:%7B%22source%22:%22python://http://localhost:8880/2dba19b98cf4daa9757b101dfe833a90f78eef0f%22,%22type%22:%22image%22%7D%7D%7D\" width=\"100%\" height=\"1024px\"><\\iframe>"
      ],
      "text/plain": [
       "<IPython.core.display.HTML object>"
      ]
     },
     "execution_count": 101,
     "metadata": {},
     "output_type": "execute_result"
    }
   ],
   "source": [
    "import nyroglancer\n",
    "import numpy as np\n",
    "\n",
    "filename = '../tests/snapshots/test_sample.hdf'\n",
    "\n",
    "viewer = nyroglancer.Hdf5Viewer(filename)\n",
    "viewer.set_hostname('localhost:8880')\n",
    "viewer.set_large()\n",
    "viewer.show()"
   ]
  },
  {
   "cell_type": "code",
   "execution_count": 8,
   "metadata": {
    "scrolled": false
   },
   "outputs": [
    {
     "name": "stdout",
     "output_type": "stream",
     "text": [
      "Adding dataset ../snapshots/prob_unet/prediction_00000000.hdf/volumes/affs as 1\n",
      "Adding dataset ../snapshots/prob_unet/prediction_00000000.hdf/volumes/labels as 2\n",
      "Adding dataset ../snapshots/prob_unet/prediction_00000000.hdf/volumes/pred_affs as 3\n",
      "Adding dataset ../snapshots/prob_unet/prediction_00000000.hdf/volumes/raw as 4\n",
      "Adding dataset ../snapshots/prob_unet/prediction_00000000.hdf/volumes/sample_z as 5\n"
     ]
    },
    {
     "data": {
      "text/html": [
       "<iframe src=\"http://localhost:8880/neuroglancer#!%7B%22layers%22:%7B%22../snapshots/prob_unet/prediction_00000000.hdf/volumes/affs%22:%7B%22source%22:%22python://http://localhost:8880/171b2523b41d73a166a5b57eda73cc0ad1501b03%22,%22type%22:%22image%22,%22shader%22:%22void%20main()%20%7B%20emitRGB(vec3(toNormalized(getDataValue(0)),toNormalized(getDataValue(1)),toNormalized(getDataValue(2))));%20%7D%22%7D,%22../snapshots/prob_unet/prediction_00000000.hdf/volumes/labels%22:%7B%22source%22:%22python://http://localhost:8880/b9e9754b549df75854adf8e798b8688548d5df8c%22,%22type%22:%22segmentation%22%7D,%22../snapshots/prob_unet/prediction_00000000.hdf/volumes/pred_affs%22:%7B%22source%22:%22python://http://localhost:8880/b5baf73679fed9bbf8d3434426153963e18fbb74%22,%22type%22:%22image%22,%22shader%22:%22void%20main()%20%7B%20emitRGB(vec3(toNormalized(getDataValue(0)),toNormalized(getDataValue(1)),toNormalized(getDataValue(2))));%20%7D%22%7D,%22../snapshots/prob_unet/prediction_00000000.hdf/volumes/raw%22:%7B%22source%22:%22python://http://localhost:8880/a91c0c757041db03184c371e8f95ec88da5ac939%22,%22type%22:%22image%22%7D,%22../snapshots/prob_unet/prediction_00000000.hdf/volumes/sample_z%22:%7B%22source%22:%22python://http://localhost:8880/20a25aa3aa05ea8766fe93b093fdde4d3213a5d1%22,%22type%22:%22image%22%7D%7D%7D\" width=\"100%\" height=\"1024px\"><\\iframe>"
      ],
      "text/plain": [
       "<IPython.core.display.HTML object>"
      ]
     },
     "execution_count": 8,
     "metadata": {},
     "output_type": "execute_result"
    }
   ],
   "source": [
    "import nyroglancer\n",
    "import numpy as np\n",
    "\n",
    "filename = '../snapshots/prob_unet/prediction_00000000.hdf'\n",
    "\n",
    "viewer = nyroglancer.Hdf5Viewer(filename)\n",
    "viewer.set_hostname('localhost:8880')\n",
    "# viewer.set_large()\n",
    "viewer.show() "
   ]
  },
  {
   "cell_type": "code",
   "execution_count": 321,
   "metadata": {},
   "outputs": [
    {
     "name": "stdout",
     "output_type": "stream",
     "text": [
      "Adding dataset ../snapshots/prob_unet/prediction.hdf/volumes/labels as 1\n",
      "Adding dataset ../snapshots/prob_unet/prediction.hdf/volumes/pred_affs as 2\n",
      "Adding dataset ../snapshots/prob_unet/prediction.hdf/volumes/raw as 3\n",
      "Adding dataset ../snapshots/prob_unet/prediction.hdf/volumes/raw_affs as 4\n"
     ]
    },
    {
     "data": {
      "text/html": [
       "<iframe src=\"http://localhost:8880/neuroglancer#!%7B%22layers%22:%7B%22../snapshots/prob_unet/prediction.hdf/volumes/labels%22:%7B%22source%22:%22python://http://localhost:8880/25fb6d7c5006c6973b2003abc0d61e1f643919bd%22,%22type%22:%22segmentation%22%7D,%22../snapshots/prob_unet/prediction.hdf/volumes/pred_affs%22:%7B%22source%22:%22python://http://localhost:8880/91fa273cd34b6c81cbc346e7f0a07a0460083cab%22,%22type%22:%22image%22,%22shader%22:%22void%20main()%20%7B%20emitRGB(vec3(toNormalized(getDataValue(0)),toNormalized(getDataValue(1)),toNormalized(getDataValue(2))));%20%7D%22%7D,%22../snapshots/prob_unet/prediction.hdf/volumes/raw%22:%7B%22source%22:%22python://http://localhost:8880/a962087f7ba3676b36425f496fb26eb6f7462916%22,%22type%22:%22image%22%7D,%22../snapshots/prob_unet/prediction.hdf/volumes/raw_affs%22:%7B%22source%22:%22python://http://localhost:8880/8b00e6a3b59a7a057da4a3647ef50ea555154f15%22,%22type%22:%22image%22,%22shader%22:%22void%20main()%20%7B%20emitRGB(vec3(toNormalized(getDataValue(0)),toNormalized(getDataValue(1)),toNormalized(getDataValue(2))));%20%7D%22%7D%7D%7D\" width=\"100%\" height=\"1024px\"><\\iframe>"
      ],
      "text/plain": [
       "<IPython.core.display.HTML object>"
      ]
     },
     "execution_count": 321,
     "metadata": {},
     "output_type": "execute_result"
    }
   ],
   "source": [
    "import nyroglancer\n",
    "import numpy as np\n",
    "\n",
    "filename = '../snapshots/prob_unet/prediction.hdf'\n",
    "\n",
    "viewer = nyroglancer.Hdf5Viewer(filename)\n",
    "viewer.set_hostname('localhost:8880')\n",
    "# viewer.set_large()\n",
    "viewer.show() "
   ]
  },
  {
   "cell_type": "code",
   "execution_count": null,
   "metadata": {},
   "outputs": [],
   "source": []
  }
 ],
 "metadata": {
  "kernelspec": {
   "display_name": "Python 2",
   "language": "python",
   "name": "python2"
  },
  "language_info": {
   "codemirror_mode": {
    "name": "ipython",
    "version": 2
   },
   "file_extension": ".py",
   "mimetype": "text/x-python",
   "name": "python",
   "nbconvert_exporter": "python",
   "pygments_lexer": "ipython2",
   "version": "2.7.12"
  }
 },
 "nbformat": 4,
 "nbformat_minor": 2
}
