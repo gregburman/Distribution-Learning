{
 "cells": [
  {
   "cell_type": "code",
   "execution_count": 736,
   "metadata": {
    "scrolled": false
   },
   "outputs": [
    {
     "data": {
      "text/html": [
       "<style>.container { width:100% !important; }</style><iframe src=\"http://localhost:8880/neuroglancer#!%7B%22layers%22:%7B%22pred_0%22:%7B%22source%22:%22python://http://localhost:8880/478f18227a90fb003e308756985cdce6c91dc089%22,%22type%22:%22image%22,%22shader%22:%22void%20main()%20%7B%20emitRGB(vec3(toNormalized(getDataValue(0)),toNormalized(getDataValue(1)),toNormalized(getDataValue(2))));%20%7D%22%7D,%22raw%22:%7B%22source%22:%22python://http://localhost:8880/d15601b84751ff6f4f0a6f656f0ba0a57c350705%22,%22type%22:%22image%22,%22shader%22:%22void%20main()%20%7B%20emitRGB(vec3(toNormalized(getDataValue(0)),toNormalized(getDataValue(1)),toNormalized(getDataValue(2))));%20%7D%22%7D,%22pred_1%22:%7B%22source%22:%22python://http://localhost:8880/16efb64dd6ff390aef8d5bd7d58f1224a9584d35%22,%22type%22:%22image%22,%22shader%22:%22void%20main()%20%7B%20emitRGB(vec3(toNormalized(getDataValue(0)),toNormalized(getDataValue(1)),toNormalized(getDataValue(2))));%20%7D%22%7D,%22pred_2%22:%7B%22source%22:%22python://http://localhost:8880/57105dccb0aea4cc63823fe5878915bb33978d35%22,%22type%22:%22image%22,%22shader%22:%22void%20main()%20%7B%20emitRGB(vec3(toNormalized(getDataValue(0)),toNormalized(getDataValue(1)),toNormalized(getDataValue(2))));%20%7D%22%7D,%22pred_3%22:%7B%22source%22:%22python://http://localhost:8880/2c5331db0933628d4612acbe0995edbac4d338c9%22,%22type%22:%22image%22,%22shader%22:%22void%20main()%20%7B%20emitRGB(vec3(toNormalized(getDataValue(0)),toNormalized(getDataValue(1)),toNormalized(getDataValue(2))));%20%7D%22%7D%7D%7D\" width=\"100%\" height=\"1024px\"><\\iframe>"
      ],
      "text/plain": [
       "<IPython.core.display.HTML object>"
      ]
     },
     "execution_count": 736,
     "metadata": {},
     "output_type": "execute_result"
    }
   ],
   "source": [
    "import nyroglancer\n",
    "import numpy as np\n",
    "import h5py\n",
    "\n",
    "viewer = nyroglancer.Viewer()\n",
    "for i in range(4):\n",
    "    with h5py.File('../snapshots/prob_unet/setup_12/prediction_0000000{}.hdf'.format(i), 'r') as f:\n",
    "        affs = np.array(f['volumes/pred_affs'], dtype=np.float32)\n",
    "        raw = np.array(f['volumes/raw'], dtype=np.float32)\n",
    "#         logits = np.array(f['volumes/pred_logits'], dtype=np.float32)\n",
    "        \n",
    "#         print(logits.shape)\n",
    "\n",
    "        viewer.add(affs, \"pred_{}\".format(i), shader=nyroglancer.shaders.rgb())\n",
    "        viewer.add(raw, \"raw\", shader=nyroglancer.shaders.rgb())\n",
    "#         viewer.add(logits, \"logits\", shader=nyroglancer.shaders.rgb())\n",
    "\n",
    "\n",
    "# with h5py.File('../snapshots/prob_unet/test_sample.hdf', 'r') as f:\n",
    "#     labels = np.array(f[\"volumes/labels\"])\n",
    "#     gt_affs = np.array(f[\"volumes/gt_affs\"])\n",
    "#     raw = np.array(f[\"volumes/raw\"])\n",
    "\n",
    "    \n",
    "# with h5py.File('../snapshots/prob_unet/setup_15/prediction_00000000.hdf', 'r') as f:\n",
    "#     pred_1 = np.array(f[\"volumes/pred_affs\"])\n",
    "#     print(pred_1.shape)\n",
    "\n",
    "# with h5py.File('../snapshots/prob_unet/setup_15/prediction_00000001.hdf', 'r') as f:\n",
    "#     pred_2 = np.array(f[\"volumes/pred_affs\"])\n",
    "        \n",
    "# with h5py.File('../snapshots/prob_unet/setup_15/prediction_00000002.hdf', 'r') as f:\n",
    "#     pred_3 = np.array(f[\"volumes/pred_affs\"])\n",
    "        \n",
    "# with h5py.File('../snapshots/prob_unet/setup_15/prediction_00000003.hdf', 'r') as f:\n",
    "#     pred_4 = np.array(f[\"volumes/pred_affs\"])\n",
    "\n",
    "\n",
    "#viewer.add(labels, \"labels\")\n",
    "#viewer.add(gt_affs, \"gt_affs\")\n",
    "#viewer.add(raw, \"raw\")\n",
    "# viewer.add(pred_1, \"pred_1\")\n",
    "# viewer.add(pred_1, \"pred_2\",  shader=nyroglancer.shaders.rgb())\n",
    "# viewer.add(pred_1, \"pred_3\",  shader=nyroglancer.shaders.rgb())\n",
    "# viewer.add(pred_1, \"pred_4\",  shader=nyroglancer.shaders.rgb())\n",
    "# viewer.add(dataset2, \"plus\", shader=nyroglancer.shaders.rgb())\n",
    "# viewer.add(dataset3, \"zero\", shader=nyroglancer.shaders.rgb())\n",
    "# viewer.add(dataset4, \"both5\", shader=nyroglancer.shaders.rgb())\n",
    "# viewer.add(dataset5, \"times10\", shader=nyroglancer.shaders.rgb())\n",
    "# viewer.add(dataset6[1,:,:,:], \"times100\")\n",
    "# viewer.add(dataset6_affs, \"affs_times100\", shader=nyroglancer.shaders.rgb())\n",
    "\n",
    "# viewer.add(dataset7[1,:,:,:], \"bc\")\n",
    "# viewer.add(dataset7_affs, \"bc_affs\", shader=nyroglancer.shaders.rgb())34\n",
    "# print(dataset7[0,0,:,:,:])\n",
    "\n",
    "\n",
    "# viewer.add(dataset7[0,:,0,:,:], \"bc_mc\")\n",
    "# viewer.add(dataset8_affs, \"bc_mc_affs\", shader=nyroglancer.shaders.rgb())\n",
    "\n",
    "\n",
    "viewer.set_hostname('localhost:8880')\n",
    "viewer.set_large()\n",
    "viewer.show()"
   ]
  },
  {
   "cell_type": "code",
   "execution_count": 601,
   "metadata": {},
   "outputs": [
    {
     "name": "stdout",
     "output_type": "stream",
     "text": [
      "Adding dataset ../data/gt_1_merge_3/batch_00000001.hdf/volumes/labels as 1\n",
      "Adding dataset ../data/gt_1_merge_3/batch_00000001.hdf/volumes/merged_labels_1 as 2\n",
      "Adding dataset ../data/gt_1_merge_3/batch_00000001.hdf/volumes/merged_labels_2 as 3\n",
      "Adding dataset ../data/gt_1_merge_3/batch_00000001.hdf/volumes/merged_labels_3 as 4\n"
     ]
    },
    {
     "data": {
      "text/html": [
       "<style>.container { width:100% !important; }</style><iframe src=\"http://localhost:8880/neuroglancer#!%7B%22layers%22:%7B%22../data/gt_1_merge_3/batch_00000001.hdf/volumes/labels%22:%7B%22source%22:%22python://http://localhost:8880/04d53bdb4dc6d4d8e646ae592375ba5e37f9d894%22,%22type%22:%22segmentation%22%7D,%22../data/gt_1_merge_3/batch_00000001.hdf/volumes/merged_labels_1%22:%7B%22source%22:%22python://http://localhost:8880/2db1d4ccb3e9a0157aa1673f43769247a250bd80%22,%22type%22:%22segmentation%22%7D,%22../data/gt_1_merge_3/batch_00000001.hdf/volumes/merged_labels_2%22:%7B%22source%22:%22python://http://localhost:8880/5cb08bb5e9e37187a1f96a474d23d88fec82d065%22,%22type%22:%22segmentation%22%7D,%22../data/gt_1_merge_3/batch_00000001.hdf/volumes/merged_labels_3%22:%7B%22source%22:%22python://http://localhost:8880/bd6f94877fdd1c2382e766db7f9159c1231d0a7c%22,%22type%22:%22segmentation%22%7D%7D%7D\" width=\"100%\" height=\"1024px\"><\\iframe>"
      ],
      "text/plain": [
       "<IPython.core.display.HTML object>"
      ]
     },
     "execution_count": 601,
     "metadata": {},
     "output_type": "execute_result"
    }
   ],
   "source": [
    "# import nyroglancer\n",
    "import numpy as np\n",
    "import  h5py\n",
    "\n",
    "filename = '../data/gt_1_merge_3/batch_00000001.hdf'\n",
    "\n",
    "viewer = nyroglancer.Hdf5Viewer(filename)  \n",
    "viewer.set_hostname('localhost:8880')\n",
    "viewer.set_large()\n",
    "viewer.show()"
   ]
  },
  {
   "cell_type": "code",
   "execution_count": null,
   "metadata": {},
   "outputs": [],
   "source": [
    "import nyroglancer\n",
    "import numpy as np\n",
    "import h5py\n",
    "\n",
    "\n",
    "filename = '../snapshots/prob_unet/debug_setup/batch_1.hdf'\n",
    "\n",
    "viewer = nyroglancer.Hdf5Viewer(filename)\n",
    "viewer.set_hostname('localhost:8880')\n",
    "viewer.set_large()\n",
    "viewer.show()"
   ]
  },
  {
   "cell_type": "code",
   "execution_count": null,
   "metadata": {},
   "outputs": [],
   "source": [
    "import nyroglancer\n",
    "import numpy as np\n",
    "\n",
    "filename = '../snapshots/prob_unet/setup_15/batch_44001.hdf'\n",
    "\n",
    "viewer = nyroglancer.Hdf5Viewer(filename)\n",
    "viewer.set_hostname('localhost:8880')\n",
    "viewer.set_large()\n",
    "viewer.show()"
   ]
  },
  {
   "cell_type": "code",
   "execution_count": null,
   "metadata": {},
   "outputs": [],
   "source": []
  }
 ],
 "metadata": {
  "kernelspec": {
   "display_name": "Python 2",
   "language": "python",
   "name": "python2"
  },
  "language_info": {
   "codemirror_mode": {
    "name": "ipython",
    "version": 2
   },
   "file_extension": ".py",
   "mimetype": "text/x-python",
   "name": "python",
   "nbconvert_exporter": "python",
   "pygments_lexer": "ipython2",
   "version": "2.7.12"
  }
 },
 "nbformat": 4,
 "nbformat_minor": 2
}
