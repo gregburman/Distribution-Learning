{
 "cells": [
  {
   "cell_type": "code",
   "execution_count": 106,
   "metadata": {
    "scrolled": false
   },
   "outputs": [
    {
     "name": "stdout",
     "output_type": "stream",
     "text": [
      "Adding dataset ../snapshots/prob_unet/setup_3/batch_1001.hdf/volumes/labels as 1\n",
      "Adding dataset ../snapshots/prob_unet/setup_3/batch_1001.hdf/volumes/output_affs as 2\n",
      "Adding dataset ../snapshots/prob_unet/setup_3/batch_1001.hdf/volumes/pred_affs as 3\n",
      "Adding dataset ../snapshots/prob_unet/setup_3/batch_1001.hdf/volumes/raw as 4\n"
     ]
    },
    {
     "data": {
      "text/html": [
       "<style>.container { width:100% !important; }</style><iframe src=\"http://localhost:8880/neuroglancer#!%7B%22layers%22:%7B%22../snapshots/prob_unet/setup_3/batch_1001.hdf/volumes/labels%22:%7B%22source%22:%22python://http://localhost:8880/e6c0719b69bd930bb46a3b8c92a235f91ae81cef%22,%22type%22:%22segmentation%22%7D,%22../snapshots/prob_unet/setup_3/batch_1001.hdf/volumes/output_affs%22:%7B%22source%22:%22python://http://localhost:8880/d7da9f6f145557e3da4b064c8aa967c0d3622cdf%22,%22type%22:%22image%22,%22shader%22:%22void%20main()%20%7B%20emitRGB(vec3(toNormalized(getDataValue(0)),toNormalized(getDataValue(1)),toNormalized(getDataValue(2))));%20%7D%22%7D,%22../snapshots/prob_unet/setup_3/batch_1001.hdf/volumes/pred_affs%22:%7B%22source%22:%22python://http://localhost:8880/7a22a5cbc8c8a24f59b0a5aeeb601a367ec6ec28%22,%22type%22:%22image%22,%22shader%22:%22void%20main()%20%7B%20emitRGB(vec3(toNormalized(getDataValue(0)),toNormalized(getDataValue(1)),toNormalized(getDataValue(2))));%20%7D%22%7D,%22../snapshots/prob_unet/setup_3/batch_1001.hdf/volumes/raw%22:%7B%22source%22:%22python://http://localhost:8880/73714fd247e6c7217be9a010eeed8f401bf8485d%22,%22type%22:%22image%22%7D%7D%7D\" width=\"100%\" height=\"1024px\"><\\iframe>"
      ],
      "text/plain": [
       "<IPython.core.display.HTML object>"
      ]
     },
     "execution_count": 106,
     "metadata": {},
     "output_type": "execute_result"
    }
   ],
   "source": [
    "import nyroglancer\n",
    "import numpy as np\n",
    "\n",
    "filename = '../snapshots/prob_unet/setup_3/batch_1001.hdf'\n",
    "\n",
    "viewer = nyroglancer.Hdf5Viewer(filename)\n",
    "viewer.set_hostname('localhost:8880')\n",
    "viewer.set_large()\n",
    "viewer.show()"
   ]
  },
  {
   "cell_type": "code",
   "execution_count": null,
   "metadata": {},
   "outputs": [],
   "source": []
  }
 ],
 "metadata": {
  "kernelspec": {
   "display_name": "Python 2",
   "language": "python",
   "name": "python2"
  },
  "language_info": {
   "codemirror_mode": {
    "name": "ipython",
    "version": 2
   },
   "file_extension": ".py",
   "mimetype": "text/x-python",
   "name": "python",
   "nbconvert_exporter": "python",
   "pygments_lexer": "ipython2",
   "version": "2.7.12"
  }
 },
 "nbformat": 4,
 "nbformat_minor": 2
}
