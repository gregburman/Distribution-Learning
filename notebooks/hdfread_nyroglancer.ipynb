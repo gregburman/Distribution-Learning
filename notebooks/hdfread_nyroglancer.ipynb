{
 "cells": [
  {
   "cell_type": "code",
   "execution_count": 327,
   "metadata": {
    "scrolled": false
   },
   "outputs": [
    {
     "name": "stdout",
     "output_type": "stream",
     "text": [
      "Closing previously open ../tests/snapshots/test_edges.hdf\n",
      "Adding dataset ../tests/snapshots/test_edges.hdf/volumes/gt_affs as 1\n",
      "Adding dataset ../tests/snapshots/test_edges.hdf/volumes/gt_affs_in as 2\n",
      "Adding dataset ../tests/snapshots/test_edges.hdf/volumes/labels as 3\n",
      "Adding dataset ../tests/snapshots/test_edges.hdf/volumes/merged_labels as 4\n",
      "Adding dataset ../tests/snapshots/test_edges.hdf/volumes/raw as 5\n",
      "Adding dataset ../tests/snapshots/test_edges.hdf/volumes/raw_affs as 6\n"
     ]
    },
    {
     "data": {
      "text/html": [
       "<style>.container { width:100% !important; }</style><iframe src=\"http://localhost:8880/neuroglancer#!%7B%22layers%22:%7B%22../tests/snapshots/test_edges.hdf/volumes/gt_affs%22:%7B%22source%22:%22python://http://localhost:8880/b72f61664c32f7cad518a220d4834596a5e5dd76%22,%22type%22:%22image%22,%22shader%22:%22void%20main()%20%7B%20emitRGB(vec3(toNormalized(getDataValue(0)),toNormalized(getDataValue(1)),toNormalized(getDataValue(2))));%20%7D%22%7D,%22../tests/snapshots/test_edges.hdf/volumes/gt_affs_in%22:%7B%22source%22:%22python://http://localhost:8880/a3005050f2bb28c2a7468552c52eb3158eb030e6%22,%22type%22:%22image%22,%22shader%22:%22void%20main()%20%7B%20emitRGB(vec3(toNormalized(getDataValue(0)),toNormalized(getDataValue(1)),toNormalized(getDataValue(2))));%20%7D%22%7D,%22../tests/snapshots/test_edges.hdf/volumes/labels%22:%7B%22source%22:%22python://http://localhost:8880/eddcee10011565287013cf47c09f49b0ba433621%22,%22type%22:%22segmentation%22%7D,%22../tests/snapshots/test_edges.hdf/volumes/merged_labels%22:%7B%22source%22:%22python://http://localhost:8880/30d72c1144c72998d2e269d106ac36bbd233502d%22,%22type%22:%22segmentation%22%7D,%22../tests/snapshots/test_edges.hdf/volumes/raw%22:%7B%22source%22:%22python://http://localhost:8880/cd909ab3005f266aec74ba93797b39742b805c34%22,%22type%22:%22image%22%7D,%22../tests/snapshots/test_edges.hdf/volumes/raw_affs%22:%7B%22source%22:%22python://http://localhost:8880/2cba99fc70268d2bec7253e7aa7bee56ca5288d8%22,%22type%22:%22image%22,%22shader%22:%22void%20main()%20%7B%20emitRGB(vec3(toNormalized(getDataValue(0)),toNormalized(getDataValue(1)),toNormalized(getDataValue(2))));%20%7D%22%7D%7D%7D\" width=\"100%\" height=\"1024px\"><\\iframe>"
      ],
      "text/plain": [
       "<IPython.core.display.HTML object>"
      ]
     },
     "execution_count": 327,
     "metadata": {},
     "output_type": "execute_result"
    }
   ],
   "source": [
    "import nyroglancer\n",
    "import numpy as np\n",
    "\n",
    "filename = '../tests/snapshots/test_edges.hdf'\n",
    "\n",
    "viewer = nyroglancer.Hdf5Viewer(filename)\n",
    "viewer.set_hostname('localhost:8880')\n",
    "viewer.set_large()\n",
    "viewer.show()"
   ]
  },
  {
   "cell_type": "code",
   "execution_count": null,
   "metadata": {},
   "outputs": [],
   "source": []
  },
  {
   "cell_type": "code",
   "execution_count": null,
   "metadata": {},
   "outputs": [],
   "source": []
  }
 ],
 "metadata": {
  "kernelspec": {
   "display_name": "Python 2",
   "language": "python",
   "name": "python2"
  },
  "language_info": {
   "codemirror_mode": {
    "name": "ipython",
    "version": 2
   },
   "file_extension": ".py",
   "mimetype": "text/x-python",
   "name": "python",
   "nbconvert_exporter": "python",
   "pygments_lexer": "ipython2",
   "version": "2.7.12"
  }
 },
 "nbformat": 4,
 "nbformat_minor": 2
}
