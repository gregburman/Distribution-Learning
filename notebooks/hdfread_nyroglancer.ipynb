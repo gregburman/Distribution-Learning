{
 "cells": [
  {
   "cell_type": "code",
   "execution_count": 646,
   "metadata": {},
   "outputs": [
    {
     "data": {
      "text/html": [
       "<style>.container { width:100% !important; }</style><iframe src=\"http://localhost:8880/neuroglancer#!%7B%22layers%22:%7B%22pred_0%22:%7B%22source%22:%22python://http://localhost:8880/bc2ec8f35e46c7363326d6d3eb9a3753536b63ec%22,%22type%22:%22image%22,%22shader%22:%22void%20main()%20%7B%20emitRGB(vec3(toNormalized(getDataValue(0)),toNormalized(getDataValue(1)),toNormalized(getDataValue(2))));%20%7D%22%7D,%22gt%22:%7B%22source%22:%22python://http://localhost:8880/a481ad3ba22d0113b5adae4b54213d6864aeeba7%22,%22type%22:%22image%22,%22shader%22:%22void%20main()%20%7B%20emitRGB(vec3(toNormalized(getDataValue(0)),toNormalized(getDataValue(1)),toNormalized(getDataValue(2))));%20%7D%22%7D,%22pred_1%22:%7B%22source%22:%22python://http://localhost:8880/79b2509d248bda4001933ade9adcf2bbe94b8501%22,%22type%22:%22image%22,%22shader%22:%22void%20main()%20%7B%20emitRGB(vec3(toNormalized(getDataValue(0)),toNormalized(getDataValue(1)),toNormalized(getDataValue(2))));%20%7D%22%7D,%22pred_2%22:%7B%22source%22:%22python://http://localhost:8880/127b47f922e98c426b4e0f8ba9cd8efc992911d3%22,%22type%22:%22image%22,%22shader%22:%22void%20main()%20%7B%20emitRGB(vec3(toNormalized(getDataValue(0)),toNormalized(getDataValue(1)),toNormalized(getDataValue(2))));%20%7D%22%7D%7D%7D\" width=\"100%\" height=\"1024px\"><\\iframe>"
      ],
      "text/plain": [
       "<IPython.core.display.HTML object>"
      ]
     },
     "execution_count": 646,
     "metadata": {},
     "output_type": "execute_result"
    }
   ],
   "source": [
    "# import nyroglancer\n",
    "import numpy as np\n",
    "import h5py\n",
    "\n",
    "viewer = nyroglancer.Viewer()\n",
    "for i in range(3):\n",
    "    with h5py.File('../snapshots/prob_unet/setup_22c/prediction_0000000{}.hdf'.format(i), 'r') as f:\n",
    "        affs = np.array(f['volumes/pred_affs'], dtype=np.float32)\n",
    "#         raw = np.array(f['volumes/raw'], dtype=np.float32)\n",
    "        gt = np.array(f['volumes/gt_affs'], dtype=np.float32)\n",
    "#         logits = np.array(f['volumes/pred_logits'], dtype=np.float32)\n",
    "        \n",
    "#         print(logits.shape)\n",
    "\n",
    "        viewer.add(affs, \"pred_{}\".format(i), shader=nyroglancer.shaders.rgb())\n",
    "        viewer.add(gt, \"gt\".format(i), shader=nyroglancer.shaders.rgb())\n",
    "#         viewer.add(raw, \"raw\", shader=nyroglancer.shaders.rgb())\n",
    "#         viewer.add(logits, \"logits\", shader=nyroglancer.shaders.rgb())\n",
    "\n",
    "\n",
    "# with h5py.File('../snapshots/prob_unet/test_sample.hdf', 'r') as f:\n",
    "#     labels = np.array(f[\"volumes/labels\"])\n",
    "#     gt_affs = np.array(f[\"volumes/gt_affs\"])\n",
    "#     raw = np.array(f[\"volumes/raw\"])\n",
    "\n",
    "    \n",
    "# with h5py.File('../snapshots/prob_unet/setup_15/prediction_00000000.hdf', 'r') as f:\n",
    "#     pred_1 = np.array(f[\"volumes/pred_affs\"])\n",
    "#     print(pred_1.shape)\n",
    "\n",
    "# with h5py.File('../snapshots/prob_unet/setup_15/prediction_00000001.hdf', 'r') as f:\n",
    "#     pred_2 = np.array(f[\"volumes/pred_affs\"])\n",
    "        \n",
    "# with h5py.File('../snapshots/prob_unet/setup_15/prediction_00000002.hdf', 'r') as f:\n",
    "#     pred_3 = np.array(f[\"volumes/pred_affs\"])\n",
    "        \n",
    "# with h5py.File('../snapshots/prob_unet/setup_15/prediction_00000003.hdf', 'r') as f:\n",
    "#     pred_4 = np.array(f[\"volumes/pred_affs\"])\n",
    "\n",
    "\n",
    "#viewer.add(labels, \"labels\")\n",
    "#viewer.add(gt_affs, \"gt_affs\")\n",
    "#viewer.add(raw, \"raw\")\n",
    "# viewer.add(pred_1, \"pred_1\")\n",
    "# viewer.add(pred_1, \"pred_2\",  shader=nyroglancer.shaders.rgb())\n",
    "# viewer.add(pred_1, \"pred_3\",  shader=nyroglancer.shaders.rgb())\n",
    "# viewer.add(pred_1, \"pred_4\",  shader=nyroglancer.shaders.rgb())\n",
    "# viewer.add(dataset2, \"plus\", shader=nyroglancer.shaders.rgb())\n",
    "# viewer.add(dataset3, \"zero\", shader=nyroglancer.shaders.rgb())\n",
    "# viewer.add(dataset4, \"both5\", shader=nyroglancer.shaders.rgb())\n",
    "# viewer.add(dataset5, \"times10\", shader=nyroglancer.shaders.rgb())\n",
    "# viewer.add(dataset6[1,:,:,:], \"times100\")\n",
    "# viewer.add(dataset6_affs, \"affs_times100\", shader=nyroglancer.shaders.rgb())\n",
    "\n",
    "# viewer.add(dataset7[1,:,:,:], \"bc\")\n",
    "# viewer.add(dataset7_affs, \"bc_affs\", shader=nyroglancer.shaders.rgb())34\n",
    "# print(dataset7[0,0,:,:,:])\n",
    "\n",
    "\n",
    "# viewer.add(dataset7[0,:,0,:,:], \"bc_mc\")\n",
    "# viewer.add(dataset8_affs, \"bc_mc_affs\", shader=nyroglancer.shaders.rgb())\n",
    "\n",
    "\n",
    "viewer.set_hostname('localhost:8880')\n",
    "viewer.set_large()\n",
    "viewer.show()"
   ]
  },
  {
   "cell_type": "markdown",
   "metadata": {},
   "source": [
    "# import nyroglancer\n",
    "import numpy as np\n",
    "\n",
    "filename = '../snapshots/prob_unet/test_sample.hdf'\n",
    "\n",
    "viewer = nyroglancer.Hdf5Viewer(filename)\n",
    "viewer.set_hostname('localhost:8880')\n",
    "viewer.set_large()\n",
    "viewer.show()"
   ]
  },
  {
   "cell_type": "markdown",
   "metadata": {},
   "source": [
    "# import nyroglancer\n",
    "import numpy as np\n",
    "\n",
    "with h5py.File('../snapshots/prob_unet/setup_15/batch_44001.hdf', 'r') as f:\n",
    "    broadcast = np.array(f[\"volumes/broadcast\"])\n",
    "    \n",
    "print(broadcast.shape)\n",
    "\n",
    "# filename = '../snapshots/prob_unet/setup_15/prediction_00000000.hdf'\n",
    "\n",
    "# viewer = nyroglancer.Hdf5Viewer(filename)\n",
    "# viewer.set_hostname('localhost:8880')\n",
    "# viewer.set_large()\n",
    "# viewer.show()"
   ]
  },
  {
   "cell_type": "code",
   "execution_count": 69,
   "metadata": {
    "scrolled": false
   },
   "outputs": [
    {
     "name": "stdout",
     "output_type": "stream",
     "text": [
      "Adding dataset ../tests/snapshots/all_affinities.hdf/volumes/gt_affs as 1\n",
      "Adding dataset ../tests/snapshots/all_affinities.hdf/volumes/labels as 2\n",
      "Adding dataset ../tests/snapshots/all_affinities.hdf/volumes/merged_affs_1 as 3\n",
      "Adding dataset ../tests/snapshots/all_affinities.hdf/volumes/merged_affs_2 as 4\n",
      "Adding dataset ../tests/snapshots/all_affinities.hdf/volumes/merged_affs_3 as 5\n",
      "Adding dataset ../tests/snapshots/all_affinities.hdf/volumes/merged_labels_1 as 6\n",
      "Adding dataset ../tests/snapshots/all_affinities.hdf/volumes/merged_labels_2 as 7\n",
      "Adding dataset ../tests/snapshots/all_affinities.hdf/volumes/merged_labels_3 as 8\n"
     ]
    },
    {
     "data": {
      "text/html": [
       "<style>.container { width:100% !important; }</style><iframe src=\"http://localhost:8880/neuroglancer#!%7B%22layers%22:%7B%22../tests/snapshots/all_affinities.hdf/volumes/gt_affs%22:%7B%22source%22:%22python://http://localhost:8880/8e231c9bc78d51e9c5345dfa7c72adfa306420fd%22,%22type%22:%22image%22,%22shader%22:%22void%20main()%20%7B%20emitRGB(vec3(toNormalized(getDataValue(0)),toNormalized(getDataValue(1)),toNormalized(getDataValue(2))));%20%7D%22%7D,%22../tests/snapshots/all_affinities.hdf/volumes/labels%22:%7B%22source%22:%22python://http://localhost:8880/9b104ec657c3a8e27400886afbfa444e09298a24%22,%22type%22:%22segmentation%22%7D,%22../tests/snapshots/all_affinities.hdf/volumes/merged_affs_1%22:%7B%22source%22:%22python://http://localhost:8880/4f27b11ca2104b7445709643d26ca4ebd95c6f4d%22,%22type%22:%22image%22,%22shader%22:%22void%20main()%20%7B%20emitRGB(vec3(toNormalized(getDataValue(0)),toNormalized(getDataValue(1)),toNormalized(getDataValue(2))));%20%7D%22%7D,%22../tests/snapshots/all_affinities.hdf/volumes/merged_affs_2%22:%7B%22source%22:%22python://http://localhost:8880/dcb7df2e0ef0b377bd121afcacba22e14dbf398b%22,%22type%22:%22image%22,%22shader%22:%22void%20main()%20%7B%20emitRGB(vec3(toNormalized(getDataValue(0)),toNormalized(getDataValue(1)),toNormalized(getDataValue(2))));%20%7D%22%7D,%22../tests/snapshots/all_affinities.hdf/volumes/merged_affs_3%22:%7B%22source%22:%22python://http://localhost:8880/2dc8feffba51f3f31196141e19ebe6e0e5e897de%22,%22type%22:%22image%22,%22shader%22:%22void%20main()%20%7B%20emitRGB(vec3(toNormalized(getDataValue(0)),toNormalized(getDataValue(1)),toNormalized(getDataValue(2))));%20%7D%22%7D,%22../tests/snapshots/all_affinities.hdf/volumes/merged_labels_1%22:%7B%22source%22:%22python://http://localhost:8880/e2493bb5ef9e62c0bd5342af77e9d6b2bb7fa870%22,%22type%22:%22segmentation%22%7D,%22../tests/snapshots/all_affinities.hdf/volumes/merged_labels_2%22:%7B%22source%22:%22python://http://localhost:8880/f9df291effe41cda791a75326dfc07994515cc8d%22,%22type%22:%22segmentation%22%7D,%22../tests/snapshots/all_affinities.hdf/volumes/merged_labels_3%22:%7B%22source%22:%22python://http://localhost:8880/c650468b69670f42723f1a9947f8f5b4ccab7faf%22,%22type%22:%22segmentation%22%7D%7D%7D\" width=\"100%\" height=\"1024px\"><\\iframe>"
      ],
      "text/plain": [
       "<IPython.core.display.HTML object>"
      ]
     },
     "execution_count": 69,
     "metadata": {},
     "output_type": "execute_result"
    }
   ],
   "source": [
    "import nyroglancer\n",
    "import numpy as np\n",
    "\n",
    "filename = '../tests/snapshots/all_affinities.hdf'\n",
    "\n",
    "viewer = nyroglancer.Hdf5Viewer(filename)\n",
    "viewer.set_hostname('localhost:8880')\n",
    "viewer.set_large()\n",
    "viewer.show()"
   ]
  },
  {
   "cell_type": "markdown",
   "metadata": {},
   "source": [
    "##### "
   ]
  }
 ],
 "metadata": {
  "kernelspec": {
   "display_name": "Python 2",
   "language": "python",
   "name": "python2"
  },
  "language_info": {
   "codemirror_mode": {
    "name": "ipython",
    "version": 2
   },
   "file_extension": ".py",
   "mimetype": "text/x-python",
   "name": "python",
   "nbconvert_exporter": "python",
   "pygments_lexer": "ipython2",
   "version": "2.7.12"
  }
 },
 "nbformat": 4,
 "nbformat_minor": 2
}
