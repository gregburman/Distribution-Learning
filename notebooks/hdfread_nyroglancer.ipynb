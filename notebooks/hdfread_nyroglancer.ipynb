{
 "cells": [
  {
   "cell_type": "code",
   "execution_count": 51,
   "metadata": {
    "scrolled": false
   },
   "outputs": [
    {
     "name": "stdout",
     "output_type": "stream",
     "text": [
      "sample_z:  [[[ -56.81786   -46.08256  -120.063805   18.447409  140.00133\n",
      "    -10.403479]]]\n",
      "(1, 6, 44, 44, 44)\n",
      "[[[-56.81786    -56.81786    -56.81786    ... -56.81786    -56.81786\n",
      "   -56.81786   ]\n",
      "  [-56.81786    -56.81786    -56.81786    ... -56.81786    -56.81786\n",
      "   -56.81786   ]\n",
      "  [-56.81786    -56.81786    -56.81786    ... -56.81786    -56.81786\n",
      "   -56.81786   ]\n",
      "  ...\n",
      "  [-56.81786    -56.81786    -56.81786    ... -56.81786    -56.81786\n",
      "   -56.81786   ]\n",
      "  [-56.81786    -56.81786    -56.81786    ... -56.81786    -56.81786\n",
      "   -56.81786   ]\n",
      "  [-56.81786    -56.81786    -56.81786    ... -56.81786    -56.81786\n",
      "   -56.81786   ]]\n",
      "\n",
      " [[-56.81786    -56.81786    -56.81786    ... -56.81786    -56.81786\n",
      "   -56.81786   ]\n",
      "  [-56.81786    -56.81786    -56.81786    ... -56.81786    -56.81786\n",
      "   -56.81786   ]\n",
      "  [-56.81786    -56.81786    -56.81786    ... -56.81786    -56.81786\n",
      "   -56.81786   ]\n",
      "  ...\n",
      "  [-56.81786    -56.81786    -56.81786    ... -56.81786    -56.81786\n",
      "   -56.81786   ]\n",
      "  [-56.81786    -56.81786    -56.81786    ... -56.81786    -56.81786\n",
      "   -56.81786   ]\n",
      "  [-56.81786    -56.81786    -56.81786    ... -56.81786    -56.81786\n",
      "   -56.81786   ]]\n",
      "\n",
      " [[-56.81786    -56.81786    -56.81786    ... -56.81786    -56.81786\n",
      "   -56.81786   ]\n",
      "  [-56.81786    -56.81786    -56.81786    ... -56.81786    -56.81786\n",
      "   -56.81786   ]\n",
      "  [-56.81786    -56.81786    -56.81786    ... -56.81786    -56.81786\n",
      "   -56.81786   ]\n",
      "  ...\n",
      "  [-56.81786    -56.81786    -56.81786    ... -56.81786    -56.81786\n",
      "   -56.81786   ]\n",
      "  [-56.81786    -56.81786    -56.81786    ... -56.81786    -56.81786\n",
      "   -56.81786   ]\n",
      "  [-56.81786    -56.81786    -56.81786    ... -56.81786    -56.81786\n",
      "   -56.81786   ]]\n",
      "\n",
      " ...\n",
      "\n",
      " [[  0.9999659    0.99996436   0.99996555 ...   0.9999863    0.99998546\n",
      "     0.99998534]\n",
      "  [  0.99996805   0.99996626   0.99996805 ...   0.9999852    0.99998415\n",
      "     0.99997985]\n",
      "  [  0.9999727    0.9999684    0.9999696  ...   0.9999862    0.99997854\n",
      "     0.99997425]\n",
      "  ...\n",
      "  [  0.99998856   0.9999943    0.9999958  ...   0.9999875    0.9999894\n",
      "     0.99999094]\n",
      "  [  0.9999827    0.99998677   0.99999356 ...   0.99998736   0.99998844\n",
      "     0.99998903]\n",
      "  [  0.9999707    0.99997497   0.99998295 ...   0.9999895    0.99999\n",
      "     0.9999912 ]]\n",
      "\n",
      " [[  0.9999671    0.9999641    0.99996626 ...   0.9999875    0.9999844\n",
      "     0.9999814 ]\n",
      "  [  0.9999683    0.99996674   0.9999676  ...   0.9999864    0.99998164\n",
      "     0.99997604]\n",
      "  [  0.99997187   0.9999684    0.99997103 ...   0.9999852    0.9999769\n",
      "     0.99996495]\n",
      "  ...\n",
      "  [  0.99999046   0.9999956    0.9999962  ...   0.9999863    0.99998665\n",
      "     0.99998844]\n",
      "  [  0.9999819    0.9999871    0.9999925  ...   0.99998796   0.99998856\n",
      "     0.9999896 ]\n",
      "  [  0.99996734   0.999972     0.99997926 ...   0.99999154   0.9999918\n",
      "     0.99999297]]\n",
      "\n",
      " [[  0.9999658    0.9999652    0.9999664  ...   0.9999883    0.99998295\n",
      "     0.99997735]\n",
      "  [  0.999967     0.99996555   0.99996686 ...   0.99998486   0.99997807\n",
      "     0.9999685 ]\n",
      "  [  0.9999703    0.9999685    0.9999789  ...   0.9999796    0.9999702\n",
      "     0.99996996]\n",
      "  ...\n",
      "  [  0.9999913    0.99999595   0.99999654 ...   0.99998844   0.99998856\n",
      "     0.9999906 ]\n",
      "  [  0.99997985   0.9999863    0.99999213 ...   0.9999893    0.99999\n",
      "     0.9999901 ]\n",
      "  [  0.9999645    0.99996984   0.9999769  ...   0.9999931    0.99999297\n",
      "     0.99999213]]]\n"
     ]
    },
    {
     "data": {
      "text/html": [
       "<style>.container { width:100% !important; }</style><iframe src=\"http://localhost:8880/neuroglancer#!%7B%22layers%22:%7B%22bc_mc%22:%7B%22source%22:%22python://http://localhost:8880/f4f80d14974a07cafcd74cf3bf12e794035a8309%22,%22type%22:%22image%22%7D%7D%7D\" width=\"100%\" height=\"1024px\"><\\iframe>"
      ],
      "text/plain": [
       "<IPython.core.display.HTML object>"
      ]
     },
     "execution_count": 51,
     "metadata": {},
     "output_type": "execute_result"
    }
   ],
   "source": [
    "import nyroglancer\n",
    "import numpy as np\n",
    "import h5py\n",
    "\n",
    "viewer = nyroglancer.Viewer()\n",
    "# for i in range(4):\n",
    "#     dataset = h5py.File('../snapshots/prob_unet/setup_12/prediction_0000000{}.hdf'.format(i), 'r')['volumes/pred_affs']\n",
    "#     print(dataset.shape)\n",
    "#     viewer.add_dataset(dataset, \"pred_%i\"%(i+1))\n",
    "\n",
    "#dataset1 = h5py.File('../minus_5.hdf', 'r')['volumes/pred_affs'].value\n",
    "#dataset2 = h5py.File('../plus_5.hdf', 'r')['volumes/pred_affs'].value\n",
    "#dataset3 = h5py.File('../zero.hdf', 'r')['volumes/pred_affs'].value\n",
    "#dataset4 = h5py.File('../both_5.hdf', 'r')['volumes/pred_affs'].value\n",
    "#dataset5 = h5py.File('../times10.hdf', 'r')['volumes/pred_affs'].value\n",
    "\n",
    "# with h5py.File('../minus_5.hdf', 'r') as f:\n",
    "#     dataset1 = np.array(f[\"volumes/pred_affs\"])\n",
    "    \n",
    "# with h5py.File('../plus_5.hdf', 'r') as f:\n",
    "#     dataset2 = np.array(f[\"volumes/pred_affs\"])\n",
    "    \n",
    "# with h5py.File('../zero.hdf', 'r') as f:\n",
    "#     dataset3 = np.array(f[\"volumes/pred_affs\"])\n",
    "    \n",
    "# with h5py.File('../both_5.hdf', 'r') as f:\n",
    "#     dataset4 = np.array(f[\"volumes/pred_affs\"])\n",
    "    \n",
    "# with h5py.File('../times10.hdf', 'r') as f:\n",
    "#     dataset5 = np.array(f[\"volumes/pred_affs\"])\n",
    "\n",
    "# with h5py.File('../times100.hdf', 'r') as f:\n",
    "#     dataset6 = np.array(f[\"volumes/broadcast\"])[0,:,:,:,:]\n",
    "#     dataset6_affs = np.array(f[\"volumes/pred_affs\"])\n",
    "    \n",
    "with h5py.File('../snapshots/prob_unet/setup_12/prediction_00000000.hdf', 'r') as f:\n",
    "    dataset7 = np.array(f[\"volumes/broadcast\"])\n",
    "    sample_z = np.array(f[\"volumes/sample_z\"])\n",
    "#     dataset7_affs = np.array(f[\"volumes/pred_affs\"])\n",
    "\n",
    "print \"sample_z: \", sample_z\n",
    "\n",
    "    \n",
    "print np.shape(dataset7)\n",
    "# with h5py.File('../broadcast_mc.hdf', 'r') as f:\n",
    "#     dataset8 = np.array(f[\"volumes/broadcast\"])\n",
    "#     dataset8_affs = np.array(f[\"volumes/pred_affs\"])\n",
    "\n",
    "# print(np.shape(dataset6))\n",
    "# viewer.add(dataset1, \"minus\", shader=nyroglancer.shaders.rgb())\n",
    "# viewer.add(dataset2, \"plus\", shader=nyroglancer.shaders.rgb())\n",
    "# viewer.add(dataset3, \"zero\", shader=nyroglancer.shaders.rgb())\n",
    "# viewer.add(dataset4, \"both5\", shader=nyroglancer.shaders.rgb())\n",
    "# viewer.add(dataset5, \"times10\", shader=nyroglancer.shaders.rgb())\n",
    "# viewer.add(dataset6[1,:,:,:], \"times100\")\n",
    "# viewer.add(dataset6_affs, \"affs_times100\", shader=nyroglancer.shaders.rgb())\n",
    "\n",
    "# viewer.add(dataset7[1,:,:,:], \"bc\")\n",
    "# viewer.add(dataset7_affs, \"bc_affs\", shader=nyroglancer.shaders.rgb())\n",
    "print(dataset7[0,0,:,:,:])\n",
    "\n",
    "\n",
    "viewer.add(dataset7[0,:,0,:,:], \"bc_mc\")\n",
    "# viewer.add(dataset8_affs, \"bc_mc_affs\", shader=nyroglancer.shaders.rgb())\n",
    "\n",
    "\n",
    "viewer.set_hostname('localhost:8880')\n",
    "viewer.set_large()\n",
    "viewer.show()"
   ]
  },
  {
   "cell_type": "markdown",
   "metadata": {},
   "source": [
    "import nyroglancer\n",
    "import numpy as np\n",
    "import h5py\n",
    "\n",
    "viewer = nyroglancer.Hdf5Viewer()\n",
    "for i in range(4):\n",
    "    dataset = h5py.File('../snapshots/prob_unet/setup_12/prediction_0000000{}.hdf'.format(i), 'r')['volumes/pred_affs']\n",
    "    print(dataset.shape)\n",
    "    viewer.add_dataset(dataset, \"pred_%i\"%(i+1))\n",
    "\n",
    "\n",
    "viewer.set_hostname('localhost:8880')\n",
    "viewer.set_large()\n",
    "viewer.show()"
   ]
  },
  {
   "cell_type": "code",
   "execution_count": 1321,
   "metadata": {},
   "outputs": [
    {
     "name": "stdout",
     "output_type": "stream",
     "text": [
      "Adding dataset ../snapshots/prob_unet/setup_15/batch_1.hdf/volumes/gt_affs_in as 1\n",
      "Adding dataset ../snapshots/prob_unet/setup_15/batch_1.hdf/volumes/gt_affs_out as 2\n",
      "Adding dataset ../snapshots/prob_unet/setup_15/batch_1.hdf/volumes/labels as 3\n",
      "Adding dataset ../snapshots/prob_unet/setup_15/batch_1.hdf/volumes/merged_labels as 4\n",
      "Adding dataset ../snapshots/prob_unet/setup_15/batch_1.hdf/volumes/pred_affs as 5\n",
      "Adding dataset ../snapshots/prob_unet/setup_15/batch_1.hdf/volumes/raw as 6\n",
      "Adding dataset ../snapshots/prob_unet/setup_15/batch_1.hdf/volumes/raw_affs as 7\n"
     ]
    },
    {
     "data": {
      "text/html": [
       "<style>.container { width:100% !important; }</style><iframe src=\"http://localhost:8880/neuroglancer#!%7B%22layers%22:%7B%22../snapshots/prob_unet/setup_15/batch_1.hdf/volumes/gt_affs_in%22:%7B%22source%22:%22python://http://localhost:8880/db71dd9c98664a861c2b33d4872ab98bc749d52a%22,%22type%22:%22image%22,%22shader%22:%22void%20main()%20%7B%20emitRGB(vec3(toNormalized(getDataValue(0)),toNormalized(getDataValue(1)),toNormalized(getDataValue(2))));%20%7D%22%7D,%22../snapshots/prob_unet/setup_15/batch_1.hdf/volumes/gt_affs_out%22:%7B%22source%22:%22python://http://localhost:8880/312b3eb6b27339846fe2babb9709870a6c34e7f5%22,%22type%22:%22image%22,%22shader%22:%22void%20main()%20%7B%20emitRGB(vec3(toNormalized(getDataValue(0)),toNormalized(getDataValue(1)),toNormalized(getDataValue(2))));%20%7D%22%7D,%22../snapshots/prob_unet/setup_15/batch_1.hdf/volumes/labels%22:%7B%22source%22:%22python://http://localhost:8880/d8674cd73d39752d941c13f325114f20ec1bcafc%22,%22type%22:%22segmentation%22%7D,%22../snapshots/prob_unet/setup_15/batch_1.hdf/volumes/merged_labels%22:%7B%22source%22:%22python://http://localhost:8880/f83d6b407be920c99a4c036a83a29f954a9a3bbb%22,%22type%22:%22segmentation%22%7D,%22../snapshots/prob_unet/setup_15/batch_1.hdf/volumes/pred_affs%22:%7B%22source%22:%22python://http://localhost:8880/d51863905834c2884bf686e2ca9e177e7fbc8890%22,%22type%22:%22image%22,%22shader%22:%22void%20main()%20%7B%20emitRGB(vec3(toNormalized(getDataValue(0)),toNormalized(getDataValue(1)),toNormalized(getDataValue(2))));%20%7D%22%7D,%22../snapshots/prob_unet/setup_15/batch_1.hdf/volumes/raw%22:%7B%22source%22:%22python://http://localhost:8880/25d24dc54884cb4c3384ad1451dc6d96e994f558%22,%22type%22:%22image%22%7D,%22../snapshots/prob_unet/setup_15/batch_1.hdf/volumes/raw_affs%22:%7B%22source%22:%22python://http://localhost:8880/29487772a5018cd03e94bd0397035ae6b3f275f8%22,%22type%22:%22image%22,%22shader%22:%22void%20main()%20%7B%20emitRGB(vec3(toNormalized(getDataValue(0)),toNormalized(getDataValue(1)),toNormalized(getDataValue(2))));%20%7D%22%7D%7D%7D\" width=\"100%\" height=\"1024px\"><\\iframe>"
      ],
      "text/plain": [
       "<IPython.core.display.HTML object>"
      ]
     },
     "execution_count": 1321,
     "metadata": {},
     "output_type": "execute_result"
    }
   ],
   "source": [
    "import nyroglancer\n",
    "import numpy as np\n",
    "\n",
    "filename = '../snapshots/prob_unet/setup_15/batch_1.hdf'\n",
    "\n",
    "viewer = nyroglancer.Hdf5Viewer(filename)\n",
    "viewer.set_hostname('localhost:8880')\n",
    "viewer.set_large()\n",
    "viewer.show()"
   ]
  },
  {
   "cell_type": "markdown",
   "metadata": {
    "scrolled": false
   },
   "source": [
    "### import nyroglancer\n",
    "import numpy as np\n",
    "\n",
    "filename = '../snapshots/prob_unet/setup_12/batch_98001.hdf'\n",
    "\n",
    "viewer = nyroglancer.Hdf5Viewer(filename)\n",
    "viewer.set_hostname('localhost:8880')\n",
    "viewer.set_large()\n",
    "viewer.show()"
   ]
  },
  {
   "cell_type": "code",
   "execution_count": 204,
   "metadata": {},
   "outputs": [
    {
     "name": "stdout",
     "output_type": "stream",
     "text": [
      "Adding dataset ../snapshots/prob_unet/setup_12/batch_2001.hdf/volumes/gt_affs as 1\n",
      "Adding dataset ../snapshots/prob_unet/setup_12/batch_2001.hdf/volumes/labels as 2\n",
      "Adding dataset ../snapshots/prob_unet/setup_12/batch_2001.hdf/volumes/merged_labels as 3\n",
      "Adding dataset ../snapshots/prob_unet/setup_12/batch_2001.hdf/volumes/raw as 4\n",
      "Adding dataset ../snapshots/prob_unet/setup_12/batch_2001.hdf/volumes/raw_affs as 5\n"
     ]
    },
    {
     "data": {
      "text/html": [
       "<style>.container { width:100% !important; }</style><iframe src=\"http://localhost:8880/neuroglancer#!%7B%22layers%22:%7B%22../snapshots/prob_unet/setup_12/batch_2001.hdf/volumes/gt_affs%22:%7B%22source%22:%22python://http://localhost:8880/d0dbb5c606e1d9af4a3aefa6cbaf7c92ca088bcf%22,%22type%22:%22image%22,%22shader%22:%22void%20main()%20%7B%20emitRGB(vec3(toNormalized(getDataValue(0)),toNormalized(getDataValue(1)),toNormalized(getDataValue(2))));%20%7D%22%7D,%22../snapshots/prob_unet/setup_12/batch_2001.hdf/volumes/labels%22:%7B%22source%22:%22python://http://localhost:8880/1a408bc0364977dca53114f16626cbf414f1f988%22,%22type%22:%22segmentation%22%7D,%22../snapshots/prob_unet/setup_12/batch_2001.hdf/volumes/merged_labels%22:%7B%22source%22:%22python://http://localhost:8880/64a114fc5e18576bd9cfb70d2326aecd8b745607%22,%22type%22:%22segmentation%22%7D,%22../snapshots/prob_unet/setup_12/batch_2001.hdf/volumes/raw%22:%7B%22source%22:%22python://http://localhost:8880/c78d257f824f83fa1b312fd6427c561204514809%22,%22type%22:%22image%22%7D,%22../snapshots/prob_unet/setup_12/batch_2001.hdf/volumes/raw_affs%22:%7B%22source%22:%22python://http://localhost:8880/8eefd201587df84c568f1f7f2ed056a93986fb47%22,%22type%22:%22image%22,%22shader%22:%22void%20main()%20%7B%20emitRGB(vec3(toNormalized(getDataValue(0)),toNormalized(getDataValue(1)),toNormalized(getDataValue(2))));%20%7D%22%7D%7D%7D\" width=\"100%\" height=\"1024px\"><\\iframe>"
      ],
      "text/plain": [
       "<IPython.core.display.HTML object>"
      ]
     },
     "execution_count": 204,
     "metadata": {},
     "output_type": "execute_result"
    }
   ],
   "source": [
    "import nyroglancer\n",
    "import numpy as np\n",
    "\n",
    "filename = '../snapshots/prob_unet/setup_12/batch_2001.hdf'\n",
    "\n",
    "viewer = nyroglancer.Hdf5Viewer(filename)\n",
    "viewer.set_hostname('localhost:8880')\n",
    "viewer.set_large()\n",
    "viewer.show()"
   ]
  },
  {
   "cell_type": "code",
   "execution_count": null,
   "metadata": {},
   "outputs": [],
   "source": []
  }
 ],
 "metadata": {
  "kernelspec": {
   "display_name": "Python 2",
   "language": "python",
   "name": "python2"
  },
  "language_info": {
   "codemirror_mode": {
    "name": "ipython",
    "version": 2
   },
   "file_extension": ".py",
   "mimetype": "text/x-python",
   "name": "python",
   "nbconvert_exporter": "python",
   "pygments_lexer": "ipython2",
   "version": "2.7.12"
  }
 },
 "nbformat": 4,
 "nbformat_minor": 2
}
