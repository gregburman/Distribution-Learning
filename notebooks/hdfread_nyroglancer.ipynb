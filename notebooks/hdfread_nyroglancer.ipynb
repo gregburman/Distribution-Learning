{
 "cells": [
  {
   "cell_type": "code",
   "execution_count": 434,
   "metadata": {
    "scrolled": false
   },
   "outputs": [
    {
     "name": "stdout",
     "output_type": "stream",
     "text": [
      "Closing previously open ../snapshots/prob_unet/test_sample.hdf\n",
      "Adding dataset ../snapshots/prob_unet/test_sample.hdf/labels as 1\n",
      "Adding dataset ../snapshots/prob_unet/test_sample.hdf/raw_affs as 2\n",
      "Adding dataset ../snapshots/prob_unet/test_sample.hdf/raw_in as 3\n",
      "Adding dataset ../snapshots/prob_unet/test_sample.hdf/raw_out as 4\n"
     ]
    },
    {
     "data": {
      "text/html": [
       "<style>.container { width:100% !important; }</style><iframe src=\"http://localhost:8880/neuroglancer#!%7B%22layers%22:%7B%22../snapshots/prob_unet/test_sample.hdf/labels%22:%7B%22source%22:%22python://http://localhost:8880/3dc29eb54fff99a34fec15d03c4aa74ebe561e9d%22,%22type%22:%22segmentation%22%7D,%22../snapshots/prob_unet/test_sample.hdf/raw_affs%22:%7B%22source%22:%22python://http://localhost:8880/6e73c3de5e3bcc66a374ae84e35370f2132c46b8%22,%22type%22:%22image%22,%22shader%22:%22void%20main()%20%7B%20emitRGB(vec3(toNormalized(getDataValue(0)),toNormalized(getDataValue(1)),toNormalized(getDataValue(2))));%20%7D%22%7D,%22../snapshots/prob_unet/test_sample.hdf/raw_in%22:%7B%22source%22:%22python://http://localhost:8880/04c706073b2feea0b8aced35d6bb13d14fe82b98%22,%22type%22:%22image%22%7D,%22../snapshots/prob_unet/test_sample.hdf/raw_out%22:%7B%22source%22:%22python://http://localhost:8880/1e920ab71956464a0bb5cbb7f844f9e04341d1db%22,%22type%22:%22image%22%7D%7D%7D\" width=\"100%\" height=\"1024px\"><\\iframe>"
      ],
      "text/plain": [
       "<IPython.core.display.HTML object>"
      ]
     },
     "execution_count": 434,
     "metadata": {},
     "output_type": "execute_result"
    }
   ],
   "source": [
    "import nyroglancer\n",
    "import numpy as np\n",
    "\n",
    "filename = '../snapshots/prob_unet/test_sample.hdf'\n",
    "\n",
    "viewer = nyroglancer.Hdf5Viewer(filename)\n",
    "viewer.set_hostname('localhost:8880')\n",
    "viewer.set_large()\n",
    "viewer.show()"
   ]
  },
  {
   "cell_type": "code",
   "execution_count": 71,
   "metadata": {},
   "outputs": [
    {
     "name": "stdout",
     "output_type": "stream",
     "text": [
      "Adding dataset ../tests/snapshots/data_00000001.hdf/volumes/labels as 1\n"
     ]
    },
    {
     "data": {
      "text/html": [
       "<style>.container { width:100% !important; }</style><iframe src=\"http://localhost:8880/neuroglancer#!%7B%22layers%22:%7B%22../tests/snapshots/data_00000001.hdf/volumes/labels%22:%7B%22source%22:%22python://http://localhost:8880/b231e87d7e2c0891409f4bde1efc46e0e2e7fd7a%22,%22type%22:%22segmentation%22%7D%7D%7D\" width=\"100%\" height=\"1024px\"><\\iframe>"
      ],
      "text/plain": [
       "<IPython.core.display.HTML object>"
      ]
     },
     "execution_count": 71,
     "metadata": {},
     "output_type": "execute_result"
    }
   ],
   "source": [
    "import nyroglancer\n",
    "import numpy as np\n",
    "\n",
    "filename = '../tests/snapshots/data_00000001.hdf'\n",
    "\n",
    "viewer = nyroglancer.Hdf5Viewer(filename)\n",
    "viewer.set_hostname('localhost:8880')\n",
    "viewer.set_large()\n",
    "viewer.show()"
   ]
  },
  {
   "cell_type": "code",
   "execution_count": null,
   "metadata": {},
   "outputs": [],
   "source": []
  },
  {
   "cell_type": "code",
   "execution_count": null,
   "metadata": {},
   "outputs": [],
   "source": []
  }
 ],
 "metadata": {
  "kernelspec": {
   "display_name": "Python 2",
   "language": "python",
   "name": "python2"
  },
  "language_info": {
   "codemirror_mode": {
    "name": "ipython",
    "version": 2
   },
   "file_extension": ".py",
   "mimetype": "text/x-python",
   "name": "python",
   "nbconvert_exporter": "python",
   "pygments_lexer": "ipython2",
   "version": "2.7.12"
  }
 },
 "nbformat": 4,
 "nbformat_minor": 2
}
