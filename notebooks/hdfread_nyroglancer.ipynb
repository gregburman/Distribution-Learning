{
 "cells": [
  {
   "cell_type": "code",
   "execution_count": 42,
   "metadata": {
    "scrolled": false
   },
   "outputs": [
    {
     "name": "stdout",
     "output_type": "stream",
     "text": [
      "Adding dataset ../tests/snapshots/sp_25.hdf/volumes/affinities as 1\n",
      "Adding dataset ../tests/snapshots/sp_25.hdf/volumes/affs_mask as 2\n",
      "Adding dataset ../tests/snapshots/sp_25.hdf/volumes/joined_affs as 3\n",
      "Adding dataset ../tests/snapshots/sp_25.hdf/volumes/labels as 4\n",
      "Adding dataset ../tests/snapshots/sp_25.hdf/volumes/raw as 5\n"
     ]
    },
    {
     "data": {
      "text/html": [
       "<style>.container { width:100% !important; }</style><iframe src=\"http://localhost:8880/neuroglancer#!%7B%22layers%22:%7B%22../tests/snapshots/sp_25.hdf/volumes/affinities%22:%7B%22source%22:%22python://http://localhost:8880/dfe6c2e1b9c6e3af1063f2076aacdbbca8869b8a%22,%22type%22:%22image%22,%22shader%22:%22void%20main()%20%7B%20emitRGB(vec3(toNormalized(getDataValue(0)),toNormalized(getDataValue(1)),toNormalized(getDataValue(2))));%20%7D%22%7D,%22../tests/snapshots/sp_25.hdf/volumes/affs_mask%22:%7B%22source%22:%22python://http://localhost:8880/5f43dd8ee124091b4c2812feefafdd57ae161f1d%22,%22type%22:%22image%22,%22shader%22:%22void%20main()%20%7B%20emitRGB(vec3(toNormalized(getDataValue(0)),toNormalized(getDataValue(1)),toNormalized(getDataValue(2))));%20%7D%22%7D,%22../tests/snapshots/sp_25.hdf/volumes/joined_affs%22:%7B%22source%22:%22python://http://localhost:8880/d509cea59f6984331db50e006dadad7234d1f4dd%22,%22type%22:%22image%22%7D,%22../tests/snapshots/sp_25.hdf/volumes/labels%22:%7B%22source%22:%22python://http://localhost:8880/851496e6665a120a97621e1eab9bf16fab8a3418%22,%22type%22:%22segmentation%22%7D,%22../tests/snapshots/sp_25.hdf/volumes/raw%22:%7B%22source%22:%22python://http://localhost:8880/ca07e75e451ea3db4bf559ef0967ed3e454c49e4%22,%22type%22:%22image%22%7D%7D%7D\" width=\"100%\" height=\"1024px\"><\\iframe>"
      ],
      "text/plain": [
       "<IPython.core.display.HTML object>"
      ]
     },
     "execution_count": 42,
     "metadata": {},
     "output_type": "execute_result"
    }
   ],
   "source": [
    "import nyroglancer\n",
    "import numpy as np\n",
    "\n",
    "filename = '../tests/snapshots/sp_25.hdf'\n",
    "\n",
    "viewer = nyroglancer.Hdf5Viewer(filename)\n",
    "viewer.set_hostname('localhost:8880')\n",
    "viewer.set_large()\n",
    "viewer.show()"
   ]
  },
  {
   "cell_type": "code",
   "execution_count": 116,
   "metadata": {},
   "outputs": [
    {
     "name": "stdout",
     "output_type": "stream",
     "text": [
      "Adding dataset ../tests/snapshots/sp_65.hdf/volumes/affinities as 1\n",
      "Adding dataset ../tests/snapshots/sp_65.hdf/volumes/affs_mask as 2\n",
      "Adding dataset ../tests/snapshots/sp_65.hdf/volumes/joined_affs as 3\n",
      "Adding dataset ../tests/snapshots/sp_65.hdf/volumes/labels as 4\n",
      "Adding dataset ../tests/snapshots/sp_65.hdf/volumes/raw as 5\n"
     ]
    },
    {
     "data": {
      "text/html": [
       "<style>.container { width:100% !important; }</style><iframe src=\"http://localhost:8880/neuroglancer#!%7B%22layers%22:%7B%22../tests/snapshots/sp_65.hdf/volumes/affinities%22:%7B%22source%22:%22python://http://localhost:8880/dc1627bc3aba724646dbf8d9b961fb00066f3909%22,%22type%22:%22image%22,%22shader%22:%22void%20main()%20%7B%20emitRGB(vec3(toNormalized(getDataValue(0)),toNormalized(getDataValue(1)),toNormalized(getDataValue(2))));%20%7D%22%7D,%22../tests/snapshots/sp_65.hdf/volumes/affs_mask%22:%7B%22source%22:%22python://http://localhost:8880/9c5a5351f9ee01aa3eb30669d3273700f0776303%22,%22type%22:%22image%22,%22shader%22:%22void%20main()%20%7B%20emitRGB(vec3(toNormalized(getDataValue(0)),toNormalized(getDataValue(1)),toNormalized(getDataValue(2))));%20%7D%22%7D,%22../tests/snapshots/sp_65.hdf/volumes/joined_affs%22:%7B%22source%22:%22python://http://localhost:8880/07c860691d2e3147fa9dd62c61ba191c2ec13b8a%22,%22type%22:%22image%22%7D,%22../tests/snapshots/sp_65.hdf/volumes/labels%22:%7B%22source%22:%22python://http://localhost:8880/ea08920910586464064d070479aec76a3ddac994%22,%22type%22:%22segmentation%22%7D,%22../tests/snapshots/sp_65.hdf/volumes/raw%22:%7B%22source%22:%22python://http://localhost:8880/67bb77f74e38927f4d341f08bda5eee86b13cf4e%22,%22type%22:%22image%22%7D%7D%7D\" width=\"100%\" height=\"1024px\"><\\iframe>"
      ],
      "text/plain": [
       "<IPython.core.display.HTML object>"
      ]
     },
     "execution_count": 116,
     "metadata": {},
     "output_type": "execute_result"
    }
   ],
   "source": [
    "import nyroglancer\n",
    "import numpy as np\n",
    "\n",
    "filename = '../tests/snapshots/sp_65.hdf'\n",
    "\n",
    "viewer = nyroglancer.Hdf5Viewer(filename)\n",
    "viewer.set_hostname('localhost:8880')\n",
    "viewer.set_large()\n",
    "viewer.show()"
   ]
  },
  {
   "cell_type": "code",
   "execution_count": 364,
   "metadata": {},
   "outputs": [
    {
     "name": "stdout",
     "output_type": "stream",
     "text": [
      "Adding dataset ../snapshots/prob_unet/setup_4/prediction_00000002.hdf/volumes/affs as 1\n",
      "Adding dataset ../snapshots/prob_unet/setup_4/prediction_00000002.hdf/volumes/labels as 2\n",
      "Adding dataset ../snapshots/prob_unet/setup_4/prediction_00000002.hdf/volumes/pred_affs as 3\n",
      "Adding dataset ../snapshots/prob_unet/setup_4/prediction_00000002.hdf/volumes/raw as 4\n",
      "Adding dataset ../snapshots/prob_unet/setup_4/prediction_00000002.hdf/volumes/sample_z as 5\n"
     ]
    },
    {
     "data": {
      "text/html": [
       "<style>.container { width:100% !important; }</style><iframe src=\"http://localhost:8880/neuroglancer#!%7B%22layers%22:%7B%22../snapshots/prob_unet/setup_4/prediction_00000002.hdf/volumes/affs%22:%7B%22source%22:%22python://http://localhost:8880/ff44b520bc621aad1ae1b18086832ed84b510bca%22,%22type%22:%22image%22,%22shader%22:%22void%20main()%20%7B%20emitRGB(vec3(toNormalized(getDataValue(0)),toNormalized(getDataValue(1)),toNormalized(getDataValue(2))));%20%7D%22%7D,%22../snapshots/prob_unet/setup_4/prediction_00000002.hdf/volumes/labels%22:%7B%22source%22:%22python://http://localhost:8880/4f4046a936f84ddfd085450437e43bb49d9302a2%22,%22type%22:%22segmentation%22%7D,%22../snapshots/prob_unet/setup_4/prediction_00000002.hdf/volumes/pred_affs%22:%7B%22source%22:%22python://http://localhost:8880/24c9a2d933e23ef2c314df2c6edb5bc9c1a9c6c2%22,%22type%22:%22image%22,%22shader%22:%22void%20main()%20%7B%20emitRGB(vec3(toNormalized(getDataValue(0)),toNormalized(getDataValue(1)),toNormalized(getDataValue(2))));%20%7D%22%7D,%22../snapshots/prob_unet/setup_4/prediction_00000002.hdf/volumes/raw%22:%7B%22source%22:%22python://http://localhost:8880/cfdf2944bc76fe36662f8cfa739c45c79718746d%22,%22type%22:%22image%22%7D,%22../snapshots/prob_unet/setup_4/prediction_00000002.hdf/volumes/sample_z%22:%7B%22source%22:%22python://http://localhost:8880/98146cafbae5fe50179fa40a1268d8826a0ce975%22,%22type%22:%22image%22%7D%7D%7D\" width=\"100%\" height=\"1024px\"><\\iframe>"
      ],
      "text/plain": [
       "<IPython.core.display.HTML object>"
      ]
     },
     "execution_count": 364,
     "metadata": {},
     "output_type": "execute_result"
    }
   ],
   "source": [
    "import nyroglancer\n",
    "import numpy as np\n",
    "\n",
    "filename = '../snapshots/prob_unet/setup_4/prediction_00000002.hdf'\n",
    "\n",
    "viewer = nyroglancer.Hdf5Viewer(filename)\n",
    "viewer.set_hostname('localhost:8880')\n",
    "viewer.set_large()\n",
    "viewer.show()"
   ]
  },
  {
   "cell_type": "code",
   "execution_count": null,
   "metadata": {},
   "outputs": [],
   "source": []
  }
 ],
 "metadata": {
  "kernelspec": {
   "display_name": "Python 2",
   "language": "python",
   "name": "python2"
  },
  "language_info": {
   "codemirror_mode": {
    "name": "ipython",
    "version": 2
   },
   "file_extension": ".py",
   "mimetype": "text/x-python",
   "name": "python",
   "nbconvert_exporter": "python",
   "pygments_lexer": "ipython2",
   "version": "2.7.12"
  }
 },
 "nbformat": 4,
 "nbformat_minor": 2
}
