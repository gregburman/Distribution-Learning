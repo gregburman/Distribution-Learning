{
 "cells": [
  {
   "cell_type": "code",
   "execution_count": 1501,
   "metadata": {
    "scrolled": false
   },
   "outputs": [
    {
     "name": "stdout",
     "output_type": "stream",
     "text": [
      "Adding dataset ../snapshots/prob_unet/test_sample.hdf/volumes/affinities as 1\n",
      "Adding dataset ../snapshots/prob_unet/test_sample.hdf/volumes/joined_affs as 2\n",
      "Adding dataset ../snapshots/prob_unet/test_sample.hdf/volumes/labels as 3\n",
      "Adding dataset ../snapshots/prob_unet/test_sample.hdf/volumes/raw as 4\n"
     ]
    },
    {
     "data": {
      "text/html": [
       "<style>.container { width:100% !important; }</style><iframe src=\"http://localhost:8880/neuroglancer#!%7B%22layers%22:%7B%22../snapshots/prob_unet/test_sample.hdf/volumes/affinities%22:%7B%22source%22:%22python://http://localhost:8880/0507ca8fbce91a1aa6a64a3942ec803b445adac3%22,%22type%22:%22image%22,%22shader%22:%22void%20main()%20%7B%20emitRGB(vec3(toNormalized(getDataValue(0)),toNormalized(getDataValue(1)),toNormalized(getDataValue(2))));%20%7D%22%7D,%22../snapshots/prob_unet/test_sample.hdf/volumes/joined_affs%22:%7B%22source%22:%22python://http://localhost:8880/f9191fbbaff9d71a5c467b31837f327712dcfdda%22,%22type%22:%22image%22%7D,%22../snapshots/prob_unet/test_sample.hdf/volumes/labels%22:%7B%22source%22:%22python://http://localhost:8880/80b283c1d17053a43af5eda59599b0973c22e514%22,%22type%22:%22segmentation%22%7D,%22../snapshots/prob_unet/test_sample.hdf/volumes/raw%22:%7B%22source%22:%22python://http://localhost:8880/c9bb0b24c97401f41027c659e225e10e6cd2af3c%22,%22type%22:%22image%22%7D%7D%7D\" width=\"100%\" height=\"1024px\"><\\iframe>"
      ],
      "text/plain": [
       "<IPython.core.display.HTML object>"
      ]
     },
     "execution_count": 1501,
     "metadata": {},
     "output_type": "execute_result"
    }
   ],
   "source": [
    "import nyroglancer\n",
    "import numpy as np\n",
    "\n",
    "filename = '../snapshots/prob_unet/test_sample.hdf'\n",
    "\n",
    "viewer = nyroglancer.Hdf5Viewer(filename)\n",
    "viewer.set_hostname('localhost:8880')\n",
    "viewer.set_large()\n",
    "viewer.show()"
   ]
  },
  {
   "cell_type": "code",
   "execution_count": 2004,
   "metadata": {
    "scrolled": false
   },
   "outputs": [
    {
     "name": "stdout",
     "output_type": "stream",
     "text": [
      "Closing previously open ../snapshots/prob_unet/prediction_00000000.hdf\n",
      "Adding dataset ../snapshots/prob_unet/prediction_00000000.hdf/volumes/affs as 1\n",
      "Adding dataset ../snapshots/prob_unet/prediction_00000000.hdf/volumes/labels as 2\n",
      "Adding dataset ../snapshots/prob_unet/prediction_00000000.hdf/volumes/pred_affs as 3\n",
      "Adding dataset ../snapshots/prob_unet/prediction_00000000.hdf/volumes/raw as 4\n",
      "Adding dataset ../snapshots/prob_unet/prediction_00000000.hdf/volumes/sample_z as 5\n"
     ]
    },
    {
     "data": {
      "text/html": [
       "<iframe src=\"http://localhost:8880/neuroglancer#!%7B%22layers%22:%7B%22../snapshots/prob_unet/prediction_00000000.hdf/volumes/affs%22:%7B%22source%22:%22python://http://localhost:8880/4f5d0aa66e7ef4c2d0b48f73743fd188d9a1a7fa%22,%22type%22:%22image%22,%22shader%22:%22void%20main()%20%7B%20emitRGB(vec3(toNormalized(getDataValue(0)),toNormalized(getDataValue(1)),toNormalized(getDataValue(2))));%20%7D%22%7D,%22../snapshots/prob_unet/prediction_00000000.hdf/volumes/labels%22:%7B%22source%22:%22python://http://localhost:8880/93f2d0e28dc6dd0cadd85d3491adccdd3e947cf9%22,%22type%22:%22segmentation%22%7D,%22../snapshots/prob_unet/prediction_00000000.hdf/volumes/pred_affs%22:%7B%22source%22:%22python://http://localhost:8880/88eaaa5be341a40d24936e4f0a0de090e9085c79%22,%22type%22:%22image%22,%22shader%22:%22void%20main()%20%7B%20emitRGB(vec3(toNormalized(getDataValue(0)),toNormalized(getDataValue(1)),toNormalized(getDataValue(2))));%20%7D%22%7D,%22../snapshots/prob_unet/prediction_00000000.hdf/volumes/raw%22:%7B%22source%22:%22python://http://localhost:8880/0acdcf0ea3d6495e6bd38b038586227bb8b57658%22,%22type%22:%22image%22%7D,%22../snapshots/prob_unet/prediction_00000000.hdf/volumes/sample_z%22:%7B%22source%22:%22python://http://localhost:8880/8263b9b8e1fb25ee72e03922e4da7e002c9df252%22,%22type%22:%22image%22%7D%7D%7D\" width=\"100%\" height=\"1024px\"><\\iframe>"
      ],
      "text/plain": [
       "<IPython.core.display.HTML object>"
      ]
     },
     "execution_count": 2004,
     "metadata": {},
     "output_type": "execute_result"
    }
   ],
   "source": [
    "import nyroglancer\n",
    "import numpy as np\n",
    "\n",
    "filename = '../snapshots/prob_unet/prediction_00000000.hdf'\n",
    "\n",
    "viewer = nyroglancer.Hdf5Viewer(filename)\n",
    "viewer.set_hostname('localhost:8880')\n",
    "# viewer.set_large()\n",
    "viewer.show() "
   ]
  },
  {
   "cell_type": "code",
   "execution_count": 321,
   "metadata": {},
   "outputs": [
    {
     "name": "stdout",
     "output_type": "stream",
     "text": [
      "Adding dataset ../snapshots/prob_unet/prediction.hdf/volumes/labels as 1\n",
      "Adding dataset ../snapshots/prob_unet/prediction.hdf/volumes/pred_affs as 2\n",
      "Adding dataset ../snapshots/prob_unet/prediction.hdf/volumes/raw as 3\n",
      "Adding dataset ../snapshots/prob_unet/prediction.hdf/volumes/raw_affs as 4\n"
     ]
    },
    {
     "data": {
      "text/html": [
       "<iframe src=\"http://localhost:8880/neuroglancer#!%7B%22layers%22:%7B%22../snapshots/prob_unet/prediction.hdf/volumes/labels%22:%7B%22source%22:%22python://http://localhost:8880/25fb6d7c5006c6973b2003abc0d61e1f643919bd%22,%22type%22:%22segmentation%22%7D,%22../snapshots/prob_unet/prediction.hdf/volumes/pred_affs%22:%7B%22source%22:%22python://http://localhost:8880/91fa273cd34b6c81cbc346e7f0a07a0460083cab%22,%22type%22:%22image%22,%22shader%22:%22void%20main()%20%7B%20emitRGB(vec3(toNormalized(getDataValue(0)),toNormalized(getDataValue(1)),toNormalized(getDataValue(2))));%20%7D%22%7D,%22../snapshots/prob_unet/prediction.hdf/volumes/raw%22:%7B%22source%22:%22python://http://localhost:8880/a962087f7ba3676b36425f496fb26eb6f7462916%22,%22type%22:%22image%22%7D,%22../snapshots/prob_unet/prediction.hdf/volumes/raw_affs%22:%7B%22source%22:%22python://http://localhost:8880/8b00e6a3b59a7a057da4a3647ef50ea555154f15%22,%22type%22:%22image%22,%22shader%22:%22void%20main()%20%7B%20emitRGB(vec3(toNormalized(getDataValue(0)),toNormalized(getDataValue(1)),toNormalized(getDataValue(2))));%20%7D%22%7D%7D%7D\" width=\"100%\" height=\"1024px\"><\\iframe>"
      ],
      "text/plain": [
       "<IPython.core.display.HTML object>"
      ]
     },
     "execution_count": 321,
     "metadata": {},
     "output_type": "execute_result"
    }
   ],
   "source": [
    "import nyroglancer\n",
    "import numpy as np\n",
    "\n",
    "filename = '../snapshots/prob_unet/prediction.hdf'\n",
    "\n",
    "viewer = nyroglancer.Hdf5Viewer(filename)\n",
    "viewer.set_hostname('localhost:8880')\n",
    "# viewer.set_large()\n",
    "viewer.show() "
   ]
  },
  {
   "cell_type": "code",
   "execution_count": null,
   "metadata": {},
   "outputs": [],
   "source": []
  }
 ],
 "metadata": {
  "kernelspec": {
   "display_name": "Python 2",
   "language": "python",
   "name": "python2"
  },
  "language_info": {
   "codemirror_mode": {
    "name": "ipython",
    "version": 2
   },
   "file_extension": ".py",
   "mimetype": "text/x-python",
   "name": "python",
   "nbconvert_exporter": "python",
   "pygments_lexer": "ipython2",
   "version": "2.7.12"
  }
 },
 "nbformat": 4,
 "nbformat_minor": 2
}
