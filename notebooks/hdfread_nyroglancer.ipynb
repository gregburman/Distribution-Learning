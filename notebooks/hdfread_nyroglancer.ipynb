{
 "cells": [
  {
   "cell_type": "code",
   "execution_count": 79,
   "metadata": {
    "scrolled": true
   },
   "outputs": [
    {
     "data": {
      "text/html": [
       "<style>.container { width:100% !important; }</style><iframe src=\"http://localhost:8880/neuroglancer#!%7B%22layers%22:%7B%22image%22:%7B%22source%22:%22python://http://localhost:8880/893a591bf367e98e65d9bcd2c06c8bf4a26af394%22,%22type%22:%22image%22%7D,%22image2%22:%7B%22source%22:%22python://http://localhost:8880/2ee80b944c1421e848ad38192c868247d93084e6%22,%22type%22:%22image%22%7D,%22image3%22:%7B%22source%22:%22python://http://localhost:8880/f5ed3190db57c54999ff76ab80af6251c45a7d3d%22,%22type%22:%22image%22%7D,%22image4%22:%7B%22source%22:%22python://http://localhost:8880/127b9b0d9df00797fff62f20a22f019d1c730b79%22,%22type%22:%22image%22%7D%7D%7D\" width=\"100%\" height=\"1024px\"><\\iframe>"
      ],
      "text/plain": [
       "<IPython.core.display.HTML object>"
      ]
     },
     "execution_count": 79,
     "metadata": {},
     "output_type": "execute_result"
    }
   ],
   "source": [
    "import nyroglancer\n",
    "import numpy as np\n",
    "import h5py\n",
    "\n",
    "\n",
    "# file1 = h5py.File('../snapshots/prob_unet/setup_8/prediction_0000000{}.hdf'.fomat())\n",
    "# filename2 = '../snapshots/prob_unet/setup_8/prediction_00000001.hdf'\n",
    "# filename3 = '../snapshots/prob_unet/setup_8/prediction_00000002.hdf'\n",
    "# filename4 = '../snapshots/prob_unet/setup_8/prediction_00000003.hdf'\n",
    "\n",
    "dset = []\n",
    "viewer = nyroglancer.Viewer()\n",
    "for i in range(4):\n",
    "    dataset = h5py.File('../snapshots/prob_unet/setup_8/prediction_0000000{}.hdf'.format(i), 'r')['volumes/pred_affs']\n",
    "    viewer.add(dataset)\n",
    "\n",
    "\n",
    "viewer.set_hostname('localhost:8880')\n",
    "viewer.set_large()\n",
    "viewer.show()"
   ]
  },
  {
   "cell_type": "code",
   "execution_count": 1,
   "metadata": {
    "scrolled": false
   },
   "outputs": [
    {
     "name": "stdout",
     "output_type": "stream",
     "text": [
      "Adding dataset ../tests/snapshots/gt_1_merge_3/batch_00000000.hdf/volumes/labels as 1\n",
      "Adding dataset ../tests/snapshots/gt_1_merge_3/batch_00000000.hdf/volumes/merged_labels_1 as 2\n",
      "Adding dataset ../tests/snapshots/gt_1_merge_3/batch_00000000.hdf/volumes/merged_labels_2 as 3\n",
      "Adding dataset ../tests/snapshots/gt_1_merge_3/batch_00000000.hdf/volumes/merged_labels_3 as 4\n"
     ]
    },
    {
     "data": {
      "text/html": [
       "<style>.container { width:100% !important; }</style><iframe src=\"http://localhost:8880/neuroglancer#!%7B%22layers%22:%7B%22../tests/snapshots/gt_1_merge_3/batch_00000000.hdf/volumes/labels%22:%7B%22source%22:%22python://http://localhost:8880/2ef4e9d96abbe2617d05ce9f7d94d9e9209ba4c2%22,%22type%22:%22segmentation%22%7D,%22../tests/snapshots/gt_1_merge_3/batch_00000000.hdf/volumes/merged_labels_1%22:%7B%22source%22:%22python://http://localhost:8880/beb5c97aa1d48eb08562892d932f39759a29eab4%22,%22type%22:%22segmentation%22%7D,%22../tests/snapshots/gt_1_merge_3/batch_00000000.hdf/volumes/merged_labels_2%22:%7B%22source%22:%22python://http://localhost:8880/bd19d1c719aa013cc92441298841de2a9476c8ea%22,%22type%22:%22segmentation%22%7D,%22../tests/snapshots/gt_1_merge_3/batch_00000000.hdf/volumes/merged_labels_3%22:%7B%22source%22:%22python://http://localhost:8880/29b60560975987946c2feb5fb31623c3fc07d489%22,%22type%22:%22segmentation%22%7D%7D%7D\" width=\"100%\" height=\"1024px\"><\\iframe>"
      ],
      "text/plain": [
       "<IPython.core.display.HTML object>"
      ]
     },
     "execution_count": 1,
     "metadata": {},
     "output_type": "execute_result"
    }
   ],
   "source": [
    "import nyroglancer\n",
    "import numpy as np\n",
    "\n",
    "filename = '../tests/snapshots/gt_1_merge_3/batch_00000000.hdf'\n",
    "\n",
    "viewer = nyroglancer.Hdf5Viewer(filename)\n",
    "viewer.set_hostname('localhost:8880')\n",
    "viewer.set_large()\n",
    "viewer.show()"
   ]
  },
  {
   "cell_type": "code",
   "execution_count": 1,
   "metadata": {
    "scrolled": false
   },
   "outputs": [
    {
     "name": "stdout",
     "output_type": "stream",
     "text": [
      "Adding dataset ../snapshots/prob_unet/setup_12/batch_1.hdf/volumes/gt_affs as 1\n",
      "Adding dataset ../snapshots/prob_unet/setup_12/batch_1.hdf/volumes/labels as 2\n",
      "Adding dataset ../snapshots/prob_unet/setup_12/batch_1.hdf/volumes/merged_labels as 3\n",
      "Adding dataset ../snapshots/prob_unet/setup_12/batch_1.hdf/volumes/raw as 4\n",
      "Adding dataset ../snapshots/prob_unet/setup_12/batch_1.hdf/volumes/raw_affs as 5\n"
     ]
    },
    {
     "data": {
      "text/html": [
       "<style>.container { width:100% !important; }</style><iframe src=\"http://localhost:8880/neuroglancer#!%7B%22layers%22:%7B%22../snapshots/prob_unet/setup_12/batch_1.hdf/volumes/gt_affs%22:%7B%22source%22:%22python://http://localhost:8880/2155124cbac68e8e5237886bdbcbc530133e3c38%22,%22type%22:%22image%22,%22shader%22:%22void%20main()%20%7B%20emitRGB(vec3(toNormalized(getDataValue(0)),toNormalized(getDataValue(1)),toNormalized(getDataValue(2))));%20%7D%22%7D,%22../snapshots/prob_unet/setup_12/batch_1.hdf/volumes/labels%22:%7B%22source%22:%22python://http://localhost:8880/5fb6ec390f1d4450b4178e28ab2c9f0aa1295fcb%22,%22type%22:%22segmentation%22%7D,%22../snapshots/prob_unet/setup_12/batch_1.hdf/volumes/merged_labels%22:%7B%22source%22:%22python://http://localhost:8880/a49903758f891a6eb4083dd60862f70015a92ea7%22,%22type%22:%22segmentation%22%7D,%22../snapshots/prob_unet/setup_12/batch_1.hdf/volumes/raw%22:%7B%22source%22:%22python://http://localhost:8880/c889f2169350d88cebbd288ca90101fa7536da17%22,%22type%22:%22image%22%7D,%22../snapshots/prob_unet/setup_12/batch_1.hdf/volumes/raw_affs%22:%7B%22source%22:%22python://http://localhost:8880/29a301600372ed6ceaf98e76a6d249cf1464cbd1%22,%22type%22:%22image%22,%22shader%22:%22void%20main()%20%7B%20emitRGB(vec3(toNormalized(getDataValue(0)),toNormalized(getDataValue(1)),toNormalized(getDataValue(2))));%20%7D%22%7D%7D%7D\" width=\"100%\" height=\"1024px\"><\\iframe>"
      ],
      "text/plain": [
       "<IPython.core.display.HTML object>"
      ]
     },
     "execution_count": 1,
     "metadata": {},
     "output_type": "execute_result"
    }
   ],
   "source": [
    "import nyroglancer\n",
    "import numpy as np\n",
    "\n",
    "filename = '../snapshots/prob_unet/setup_12/batch_1.hdf'\n",
    "\n",
    "viewer = nyroglancer.Hdf5Viewer(filename)\n",
    "viewer.set_hostname('localhost:8880')\n",
    "viewer.set_large()\n",
    "viewer.show()"
   ]
  },
  {
   "cell_type": "code",
   "execution_count": null,
   "metadata": {},
   "outputs": [],
   "source": []
  }
 ],
 "metadata": {
  "kernelspec": {
   "display_name": "Python 2",
   "language": "python",
   "name": "python2"
  },
  "language_info": {
   "codemirror_mode": {
    "name": "ipython",
    "version": 2
   },
   "file_extension": ".py",
   "mimetype": "text/x-python",
   "name": "python",
   "nbconvert_exporter": "python",
   "pygments_lexer": "ipython2",
   "version": "2.7.12"
  }
 },
 "nbformat": 4,
 "nbformat_minor": 2
}
