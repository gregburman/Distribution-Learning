{
 "cells": [
  {
   "cell_type": "code",
   "execution_count": 57,
   "metadata": {
    "scrolled": false
   },
   "outputs": [
    {
     "name": "stdout",
     "output_type": "stream",
     "text": [
      "Adding dataset ../snapshots/unet/train/batch_501.hdf/volumes/labels as 1\n",
      "Adding dataset ../snapshots/unet/train/batch_501.hdf/volumes/output_affs as 2\n",
      "Adding dataset ../snapshots/unet/train/batch_501.hdf/volumes/pred_affs as 3\n",
      "Adding dataset ../snapshots/unet/train/batch_501.hdf/volumes/raw as 4\n"
     ]
    },
    {
     "data": {
      "text/html": [
       "<style>.container { width:100% !important; }</style><iframe src=\"http://localhost:8880/neuroglancer#!%7B%22layers%22:%7B%22../snapshots/unet/train/batch_501.hdf/volumes/labels%22:%7B%22source%22:%22python://http://localhost:8880/efd626ad59478a7f7c7ca6074269f64ab3364519%22,%22type%22:%22segmentation%22%7D,%22../snapshots/unet/train/batch_501.hdf/volumes/output_affs%22:%7B%22source%22:%22python://http://localhost:8880/5c934af4e4e65946374baf12325abb163fcb526e%22,%22type%22:%22image%22,%22shader%22:%22void%20main()%20%7B%20emitRGB(vec3(toNormalized(getDataValue(0)),toNormalized(getDataValue(1)),toNormalized(getDataValue(2))));%20%7D%22%7D,%22../snapshots/unet/train/batch_501.hdf/volumes/pred_affs%22:%7B%22source%22:%22python://http://localhost:8880/14c5d3e9e61ee8015565c5e5f2681bef19148a51%22,%22type%22:%22image%22,%22shader%22:%22void%20main()%20%7B%20emitRGB(vec3(toNormalized(getDataValue(0)),toNormalized(getDataValue(1)),toNormalized(getDataValue(2))));%20%7D%22%7D,%22../snapshots/unet/train/batch_501.hdf/volumes/raw%22:%7B%22source%22:%22python://http://localhost:8880/e0c5f710c645e8d5da5e263d9efa9bda8fe2f63b%22,%22type%22:%22image%22%7D%7D%7D\" width=\"100%\" height=\"1024px\"><\\iframe>"
      ],
      "text/plain": [
       "<IPython.core.display.HTML object>"
      ]
     },
     "execution_count": 57,
     "metadata": {},
     "output_type": "execute_result"
    }
   ],
   "source": [
    "import nyroglancer\n",
    "import numpy as np\n",
    "\n",
    "filename = '../snapshots/unet/train/batch_501.hdf'\n",
    "\n",
    "viewer = nyroglancer.Hdf5Viewer(filename)\n",
    "viewer.set_hostname('localhost:8880')\n",
    "viewer.set_large()\n",
    "viewer.show()"
   ]
  },
  {
   "cell_type": "code",
   "execution_count": null,
   "metadata": {},
   "outputs": [],
   "source": []
  }
 ],
 "metadata": {
  "kernelspec": {
   "display_name": "Python 2",
   "language": "python",
   "name": "python2"
  },
  "language_info": {
   "codemirror_mode": {
    "name": "ipython",
    "version": 2
   },
   "file_extension": ".py",
   "mimetype": "text/x-python",
   "name": "python",
   "nbconvert_exporter": "python",
   "pygments_lexer": "ipython2",
   "version": "2.7.12"
  }
 },
 "nbformat": 4,
 "nbformat_minor": 2
}
