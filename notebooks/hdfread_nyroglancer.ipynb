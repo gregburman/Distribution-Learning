{
 "cells": [
  {
   "cell_type": "code",
   "execution_count": 974,
   "metadata": {
    "scrolled": false
   },
   "outputs": [
    {
     "data": {
      "text/html": [
       "<style>.container { width:100% !important; }</style><iframe src=\"http://localhost:8881/neuroglancer#!%7B%22layers%22:%7B%22pred_0%22:%7B%22source%22:%22python://http://localhost:8881/3ab84ae92b3039215f3b2f6218bfacfea08eab3c%22,%22type%22:%22image%22,%22shader%22:%22void%20main()%20%7B%20emitRGB(vec3(toNormalized(getDataValue(0)),toNormalized(getDataValue(1)),toNormalized(getDataValue(2))));%20%7D%22%7D,%22gt%22:%7B%22source%22:%22python://http://localhost:8881/cf974b81516446030a4cb594d9b81651d228171b%22,%22type%22:%22image%22,%22shader%22:%22void%20main()%20%7B%20emitRGB(vec3(toNormalized(getDataValue(0)),toNormalized(getDataValue(1)),toNormalized(getDataValue(2))));%20%7D%22%7D,%22pred_1%22:%7B%22source%22:%22python://http://localhost:8881/c3d8d7d11cf3e441bb80bce02df6a065571f6a8a%22,%22type%22:%22image%22,%22shader%22:%22void%20main()%20%7B%20emitRGB(vec3(toNormalized(getDataValue(0)),toNormalized(getDataValue(1)),toNormalized(getDataValue(2))));%20%7D%22%7D,%22pred_2%22:%7B%22source%22:%22python://http://localhost:8881/94adb2924d2ec6ef276540a07a6ddf06386794ff%22,%22type%22:%22image%22,%22shader%22:%22void%20main()%20%7B%20emitRGB(vec3(toNormalized(getDataValue(0)),toNormalized(getDataValue(1)),toNormalized(getDataValue(2))));%20%7D%22%7D,%22pred_3%22:%7B%22source%22:%22python://http://localhost:8881/2437cfbf2dfe2a0fc72684726ec3dd569a065e23%22,%22type%22:%22image%22,%22shader%22:%22void%20main()%20%7B%20emitRGB(vec3(toNormalized(getDataValue(0)),toNormalized(getDataValue(1)),toNormalized(getDataValue(2))));%20%7D%22%7D%7D%7D\" width=\"100%\" height=\"1024px\"><\\iframe>"
      ],
      "text/plain": [
       "<IPython.core.display.HTML object>"
      ]
     },
     "execution_count": 974,
     "metadata": {},
     "output_type": "execute_result"
    }
   ],
   "source": [
    "import nyroglancer\n",
    "import numpy as np\n",
    "import h5py\n",
    "\n",
    "viewer = nyroglancer.Viewer()\n",
    "for i in range(4):\n",
    "    with h5py.File('../snapshots/prob_unet/setup_21/prediction_0000000{}.hdf'.format(i), 'r') as f:\n",
    "        affs = np.array(f['volumes/pred_affs'], dtype=np.float32)\n",
    "#         raw = np.array(f['volumes/raw'], dtype=np.float32)\n",
    "        gt = np.array(f['volumes/gt_affs'], dtype=np.float32)\n",
    "#         logits = np.array(f['volumes/pred_logits'], dtype=np.float32)\n",
    "        \n",
    "#         print(logits.shape)\n",
    "\n",
    "        viewer.add(affs, \"pred_{}\".format(i), shader=nyroglancer.shaders.rgb())\n",
    "        viewer.add(affs, \"gt\".format(i), shader=nyroglancer.shaders.rgb())\n",
    "#         viewer.add(raw, \"raw\", shader=nyroglancer.shaders.rgb())\n",
    "#         viewer.add(logits, \"logits\", shader=nyroglancer.shaders.rgb())\n",
    "\n",
    "\n",
    "# with h5py.File('../snapshots/prob_unet/test_sample.hdf', 'r') as f:\n",
    "#     labels = np.array(f[\"volumes/labels\"])\n",
    "#     gt_affs = np.array(f[\"volumes/gt_affs\"])\n",
    "#     raw = np.array(f[\"volumes/raw\"])\n",
    "\n",
    "    \n",
    "# with h5py.File('../snapshots/prob_unet/setup_15/prediction_00000000.hdf', 'r') as f:\n",
    "#     pred_1 = np.array(f[\"volumes/pred_affs\"])\n",
    "#     print(pred_1.shape)\n",
    "\n",
    "# with h5py.File('../snapshots/prob_unet/setup_15/prediction_00000001.hdf', 'r') as f:\n",
    "#     pred_2 = np.array(f[\"volumes/pred_affs\"])\n",
    "        \n",
    "# with h5py.File('../snapshots/prob_unet/setup_15/prediction_00000002.hdf', 'r') as f:\n",
    "#     pred_3 = np.array(f[\"volumes/pred_affs\"])\n",
    "        \n",
    "# with h5py.File('../snapshots/prob_unet/setup_15/prediction_00000003.hdf', 'r') as f:\n",
    "#     pred_4 = np.array(f[\"volumes/pred_affs\"])\n",
    "\n",
    "\n",
    "#viewer.add(labels, \"labels\")\n",
    "#viewer.add(gt_affs, \"gt_affs\")\n",
    "#viewer.add(raw, \"raw\")\n",
    "# viewer.add(pred_1, \"pred_1\")\n",
    "# viewer.add(pred_1, \"pred_2\",  shader=nyroglancer.shaders.rgb())\n",
    "# viewer.add(pred_1, \"pred_3\",  shader=nyroglancer.shaders.rgb())\n",
    "# viewer.add(pred_1, \"pred_4\",  shader=nyroglancer.shaders.rgb())\n",
    "# viewer.add(dataset2, \"plus\", shader=nyroglancer.shaders.rgb())\n",
    "# viewer.add(dataset3, \"zero\", shader=nyroglancer.shaders.rgb())\n",
    "# viewer.add(dataset4, \"both5\", shader=nyroglancer.shaders.rgb())\n",
    "# viewer.add(dataset5, \"times10\", shader=nyroglancer.shaders.rgb())\n",
    "# viewer.add(dataset6[1,:,:,:], \"times100\")\n",
    "# viewer.add(dataset6_affs, \"affs_times100\", shader=nyroglancer.shaders.rgb())\n",
    "\n",
    "# viewer.add(dataset7[1,:,:,:], \"bc\")\n",
    "# viewer.add(dataset7_affs, \"bc_affs\", shader=nyroglancer.shaders.rgb())34\n",
    "# print(dataset7[0,0,:,:,:])\n",
    "\n",
    "\n",
    "# viewer.add(dataset7[0,:,0,:,:], \"bc_mc\")\n",
    "# viewer.add(dataset8_affs, \"bc_mc_affs\", shader=nyroglancer.shaders.rgb())\n",
    "\n",
    "\n",
    "viewer.set_hostname('localhost:8881')\n",
    "viewer.set_large()\n",
    "viewer.show()"
   ]
  },
  {
   "cell_type": "code",
   "execution_count": 1015,
   "metadata": {},
   "outputs": [
    {
     "name": "stdout",
     "output_type": "stream",
     "text": [
      "Adding dataset ../snapshots/prob_unet/setup_23/batch_50001.hdf/volumes/gt_affs_in as 1\n",
      "Adding dataset ../snapshots/prob_unet/setup_23/batch_50001.hdf/volumes/gt_affs_out as 2\n",
      "Adding dataset ../snapshots/prob_unet/setup_23/batch_50001.hdf/volumes/labels as 3\n",
      "Adding dataset ../snapshots/prob_unet/setup_23/batch_50001.hdf/volumes/merged_labels as 4\n",
      "Adding dataset ../snapshots/prob_unet/setup_23/batch_50001.hdf/volumes/pred_affs as 5\n",
      "Adding dataset ../snapshots/prob_unet/setup_23/batch_50001.hdf/volumes/pred_logits as 6\n",
      "Adding dataset ../snapshots/prob_unet/setup_23/batch_50001.hdf/volumes/raw as 7\n",
      "Adding dataset ../snapshots/prob_unet/setup_23/batch_50001.hdf/volumes/raw_affs as 8\n"
     ]
    },
    {
     "data": {
      "text/html": [
       "<style>.container { width:100% !important; }</style><iframe src=\"http://localhost:8881/neuroglancer#!%7B%22layers%22:%7B%22../snapshots/prob_unet/setup_23/batch_50001.hdf/volumes/gt_affs_in%22:%7B%22source%22:%22python://http://localhost:8881/b2e10b95c4997831eaedaf72e04495d077727b82%22,%22type%22:%22image%22,%22shader%22:%22void%20main()%20%7B%20emitRGB(vec3(toNormalized(getDataValue(0)),toNormalized(getDataValue(1)),toNormalized(getDataValue(2))));%20%7D%22%7D,%22../snapshots/prob_unet/setup_23/batch_50001.hdf/volumes/gt_affs_out%22:%7B%22source%22:%22python://http://localhost:8881/f21de43c4cb4a9db9689f964f32ef43c6a0de178%22,%22type%22:%22image%22,%22shader%22:%22void%20main()%20%7B%20emitRGB(vec3(toNormalized(getDataValue(0)),toNormalized(getDataValue(1)),toNormalized(getDataValue(2))));%20%7D%22%7D,%22../snapshots/prob_unet/setup_23/batch_50001.hdf/volumes/labels%22:%7B%22source%22:%22python://http://localhost:8881/275d0080573969eed389132f3f57d7efb47a8942%22,%22type%22:%22segmentation%22%7D,%22../snapshots/prob_unet/setup_23/batch_50001.hdf/volumes/merged_labels%22:%7B%22source%22:%22python://http://localhost:8881/25644872f09a06c07429ffc312e888d2430c05a8%22,%22type%22:%22segmentation%22%7D,%22../snapshots/prob_unet/setup_23/batch_50001.hdf/volumes/pred_affs%22:%7B%22source%22:%22python://http://localhost:8881/2d747e0071ba51ac9780e7877662eccbeff3d344%22,%22type%22:%22image%22,%22shader%22:%22void%20main()%20%7B%20emitRGB(vec3(toNormalized(getDataValue(0)),toNormalized(getDataValue(1)),toNormalized(getDataValue(2))));%20%7D%22%7D,%22../snapshots/prob_unet/setup_23/batch_50001.hdf/volumes/pred_logits%22:%7B%22source%22:%22python://http://localhost:8881/ecefa9a8a1eb831242ff6936dc420ccfc6a91cc4%22,%22type%22:%22image%22,%22shader%22:%22void%20main()%20%7B%20emitRGB(vec3(toNormalized(getDataValue(0)),toNormalized(getDataValue(1)),toNormalized(getDataValue(2))));%20%7D%22%7D,%22../snapshots/prob_unet/setup_23/batch_50001.hdf/volumes/raw%22:%7B%22source%22:%22python://http://localhost:8881/b5d2c429c0841d75dfdcc7c3fad8ebacbfdf0d6e%22,%22type%22:%22image%22%7D,%22../snapshots/prob_unet/setup_23/batch_50001.hdf/volumes/raw_affs%22:%7B%22source%22:%22python://http://localhost:8881/9de7413c7a96eeb0a5c0d6864e37c2b6bb734302%22,%22type%22:%22image%22,%22shader%22:%22void%20main()%20%7B%20emitRGB(vec3(toNormalized(getDataValue(0)),toNormalized(getDataValue(1)),toNormalized(getDataValue(2))));%20%7D%22%7D%7D%7D\" width=\"100%\" height=\"1024px\"><\\iframe>"
      ],
      "text/plain": [
       "<IPython.core.display.HTML object>"
      ]
     },
     "execution_count": 1015,
     "metadata": {},
     "output_type": "execute_result"
    }
   ],
   "source": [
    "import nyroglancer\n",
    "import numpy as np\n",
    "\n",
    "filename = '../snapshots/prob_unet/setup_23/batch_50001.hdf'\n",
    "\n",
    "viewer = nyroglancer.Hdf5Viewer(filename)\n",
    "viewer.set_hostname('localhost:8881')\n",
    "viewer.set_large()\n",
    "viewer.show()"
   ]
  },
  {
   "cell_type": "markdown",
   "metadata": {},
   "source": [
    "# import nyroglancer\n",
    "import numpy as np\n",
    "\n",
    "with h5py.File('../snapshots/prob_unet/setup_15/batch_44001.hdf', 'r') as f:\n",
    "    broadcast = np.array(f[\"volumes/broadcast\"])\n",
    "    \n",
    "print(broadcast.shape)\n",
    "\n",
    "# filename = '../snapshots/prob_unet/setup_15/prediction_00000000.hdf'\n",
    "\n",
    "# viewer = nyroglancer.Hdf5Viewer(filename)\n",
    "# viewer.set_hostname('localhost:8880')\n",
    "# viewer.set_large()\n",
    "# viewer.show()"
   ]
  },
  {
   "cell_type": "code",
   "execution_count": 127,
   "metadata": {},
   "outputs": [
    {
     "name": "stdout",
     "output_type": "stream",
     "text": [
      "Adding dataset ../snapshots/prob_unet/setup_15/batch_44001.hdf/volumes/gt_affs_in as 1\n",
      "Adding dataset ../snapshots/prob_unet/setup_15/batch_44001.hdf/volumes/gt_affs_out as 2\n",
      "Adding dataset ../snapshots/prob_unet/setup_15/batch_44001.hdf/volumes/labels as 3\n",
      "Adding dataset ../snapshots/prob_unet/setup_15/batch_44001.hdf/volumes/merged_labels as 4\n",
      "Adding dataset ../snapshots/prob_unet/setup_15/batch_44001.hdf/volumes/pred_affs as 5\n",
      "Adding dataset ../snapshots/prob_unet/setup_15/batch_44001.hdf/volumes/raw as 6\n",
      "Adding dataset ../snapshots/prob_unet/setup_15/batch_44001.hdf/volumes/raw_affs as 7\n"
     ]
    },
    {
     "data": {
      "text/html": [
       "<style>.container { width:100% !important; }</style><iframe src=\"http://localhost:8880/neuroglancer#!%7B%22layers%22:%7B%22../snapshots/prob_unet/setup_15/batch_44001.hdf/volumes/gt_affs_in%22:%7B%22source%22:%22python://http://localhost:8880/7076a94107a25853944cc831c9b1377efa6d9aab%22,%22type%22:%22image%22,%22shader%22:%22void%20main()%20%7B%20emitRGB(vec3(toNormalized(getDataValue(0)),toNormalized(getDataValue(1)),toNormalized(getDataValue(2))));%20%7D%22%7D,%22../snapshots/prob_unet/setup_15/batch_44001.hdf/volumes/gt_affs_out%22:%7B%22source%22:%22python://http://localhost:8880/04877bb1246c6b5846a3b9ed149f0e7654b0c3df%22,%22type%22:%22image%22,%22shader%22:%22void%20main()%20%7B%20emitRGB(vec3(toNormalized(getDataValue(0)),toNormalized(getDataValue(1)),toNormalized(getDataValue(2))));%20%7D%22%7D,%22../snapshots/prob_unet/setup_15/batch_44001.hdf/volumes/labels%22:%7B%22source%22:%22python://http://localhost:8880/514bfade12c0a02dc9180b18481154071bd1238a%22,%22type%22:%22segmentation%22%7D,%22../snapshots/prob_unet/setup_15/batch_44001.hdf/volumes/merged_labels%22:%7B%22source%22:%22python://http://localhost:8880/a42c44ebe69f96c5ad8ea17eddf100f061208c9a%22,%22type%22:%22segmentation%22%7D,%22../snapshots/prob_unet/setup_15/batch_44001.hdf/volumes/pred_affs%22:%7B%22source%22:%22python://http://localhost:8880/605c7d3f5975275c6360c40c9038c40d814d9aba%22,%22type%22:%22image%22,%22shader%22:%22void%20main()%20%7B%20emitRGB(vec3(toNormalized(getDataValue(0)),toNormalized(getDataValue(1)),toNormalized(getDataValue(2))));%20%7D%22%7D,%22../snapshots/prob_unet/setup_15/batch_44001.hdf/volumes/raw%22:%7B%22source%22:%22python://http://localhost:8880/a6531c76d192f25011edb04e14937c9470bae3ee%22,%22type%22:%22image%22%7D,%22../snapshots/prob_unet/setup_15/batch_44001.hdf/volumes/raw_affs%22:%7B%22source%22:%22python://http://localhost:8880/b067daf302fbc793cd0ba08d6bc8b25dd7c95dde%22,%22type%22:%22image%22,%22shader%22:%22void%20main()%20%7B%20emitRGB(vec3(toNormalized(getDataValue(0)),toNormalized(getDataValue(1)),toNormalized(getDataValue(2))));%20%7D%22%7D%7D%7D\" width=\"100%\" height=\"1024px\"><\\iframe>"
      ],
      "text/plain": [
       "<IPython.core.display.HTML object>"
      ]
     },
     "execution_count": 127,
     "metadata": {},
     "output_type": "execute_result"
    }
   ],
   "source": [
    "import nyroglancer\n",
    "import numpy as np\n",
    "\n",
    "filename = '../snapshots/prob_unet/setup_15/batch_44001.hdf'\n",
    "\n",
    "viewer = nyroglancer.Hdf5Viewer(filename)\n",
    "viewer.set_hostname('localhost:8880')\n",
    "viewer.set_large()\n",
    "viewer.show()"
   ]
  },
  {
   "cell_type": "code",
   "execution_count": null,
   "metadata": {},
   "outputs": [],
   "source": []
  }
 ],
 "metadata": {
  "kernelspec": {
   "display_name": "Python 2",
   "language": "python",
   "name": "python2"
  },
  "language_info": {
   "codemirror_mode": {
    "name": "ipython",
    "version": 2
   },
   "file_extension": ".py",
   "mimetype": "text/x-python",
   "name": "python",
   "nbconvert_exporter": "python",
   "pygments_lexer": "ipython2",
   "version": "2.7.12"
  }
 },
 "nbformat": 4,
 "nbformat_minor": 2
}
