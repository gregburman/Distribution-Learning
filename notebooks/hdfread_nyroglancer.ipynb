{
 "cells": [
  {
   "cell_type": "code",
   "execution_count": 216,
   "metadata": {
    "scrolled": false
   },
   "outputs": [
    {
     "name": "stdout",
     "output_type": "stream",
     "text": [
      "Adding dataset ../snapshots/prob_unet/setup_4/prediction_00000000.hdf/volumes/affs as 1\n",
      "Adding dataset ../snapshots/prob_unet/setup_4/prediction_00000000.hdf/volumes/labels as 2\n",
      "Adding dataset ../snapshots/prob_unet/setup_4/prediction_00000000.hdf/volumes/pred_affs as 3\n",
      "Adding dataset ../snapshots/prob_unet/setup_4/prediction_00000000.hdf/volumes/raw as 4\n",
      "Adding dataset ../snapshots/prob_unet/setup_4/prediction_00000000.hdf/volumes/sample_z as 5\n"
     ]
    },
    {
     "data": {
      "text/html": [
       "<style>.container { width:100% !important; }</style><iframe src=\"http://localhost:8880/neuroglancer#!%7B%22layers%22:%7B%22../snapshots/prob_unet/setup_4/prediction_00000000.hdf/volumes/affs%22:%7B%22source%22:%22python://http://localhost:8880/3595bf5f94d0610812dc22aecbd312c96f8cc0a8%22,%22type%22:%22image%22,%22shader%22:%22void%20main()%20%7B%20emitRGB(vec3(toNormalized(getDataValue(0)),toNormalized(getDataValue(1)),toNormalized(getDataValue(2))));%20%7D%22%7D,%22../snapshots/prob_unet/setup_4/prediction_00000000.hdf/volumes/labels%22:%7B%22source%22:%22python://http://localhost:8880/76ba59f62ede76dd7e24e54dd7fd04dafbd13101%22,%22type%22:%22segmentation%22%7D,%22../snapshots/prob_unet/setup_4/prediction_00000000.hdf/volumes/pred_affs%22:%7B%22source%22:%22python://http://localhost:8880/55f7f670766033e3e3b04225e985036361602124%22,%22type%22:%22image%22,%22shader%22:%22void%20main()%20%7B%20emitRGB(vec3(toNormalized(getDataValue(0)),toNormalized(getDataValue(1)),toNormalized(getDataValue(2))));%20%7D%22%7D,%22../snapshots/prob_unet/setup_4/prediction_00000000.hdf/volumes/raw%22:%7B%22source%22:%22python://http://localhost:8880/d13e7798c66d436dfca6d0c6a67acf5c08d56a6d%22,%22type%22:%22image%22%7D,%22../snapshots/prob_unet/setup_4/prediction_00000000.hdf/volumes/sample_z%22:%7B%22source%22:%22python://http://localhost:8880/68d15433781a5fdc3ca8672ea67fac85dd63feb8%22,%22type%22:%22image%22%7D%7D%7D\" width=\"100%\" height=\"1024px\"><\\iframe>"
      ],
      "text/plain": [
       "<IPython.core.display.HTML object>"
      ]
     },
     "execution_count": 216,
     "metadata": {},
     "output_type": "execute_result"
    }
   ],
   "source": [
    "import nyroglancer\n",
    "import numpy as np\n",
    "\n",
    "filename = '../snapshots/prob_unet/setup_4/prediction_00000000.hdf'\n",
    "# filename_1 = '../snapshots/prob_unet/setup_4/prediction_00000001.hdf'\n",
    " \n",
    "\n",
    "viewer = nyroglancer.Hdf5Viewer(filename)\n",
    "viewer.set_hostname('localhost:8880')\n",
    "viewer.set_large()\n",
    "viewer.show()"
   ]
  },
  {
   "cell_type": "code",
   "execution_count": 290,
   "metadata": {},
   "outputs": [
    {
     "name": "stdout",
     "output_type": "stream",
     "text": [
      "Adding dataset ../snapshots/prob_unet/setup_4/prediction_00000001.hdf/volumes/affs as 1\n",
      "Adding dataset ../snapshots/prob_unet/setup_4/prediction_00000001.hdf/volumes/labels as 2\n",
      "Adding dataset ../snapshots/prob_unet/setup_4/prediction_00000001.hdf/volumes/pred_affs as 3\n",
      "Adding dataset ../snapshots/prob_unet/setup_4/prediction_00000001.hdf/volumes/raw as 4\n",
      "Adding dataset ../snapshots/prob_unet/setup_4/prediction_00000001.hdf/volumes/sample_z as 5\n"
     ]
    },
    {
     "data": {
      "text/html": [
       "<style>.container { width:100% !important; }</style><iframe src=\"http://localhost:8880/neuroglancer#!%7B%22layers%22:%7B%22../snapshots/prob_unet/setup_4/prediction_00000001.hdf/volumes/affs%22:%7B%22source%22:%22python://http://localhost:8880/a1e1fcac833ea56b59f5fc364e2c1aa9ab649e22%22,%22type%22:%22image%22,%22shader%22:%22void%20main()%20%7B%20emitRGB(vec3(toNormalized(getDataValue(0)),toNormalized(getDataValue(1)),toNormalized(getDataValue(2))));%20%7D%22%7D,%22../snapshots/prob_unet/setup_4/prediction_00000001.hdf/volumes/labels%22:%7B%22source%22:%22python://http://localhost:8880/946685b289cd684117e654939dd03f92b5cd3f9a%22,%22type%22:%22segmentation%22%7D,%22../snapshots/prob_unet/setup_4/prediction_00000001.hdf/volumes/pred_affs%22:%7B%22source%22:%22python://http://localhost:8880/b82aa878a98e793a00a826f8a5a4079f9dc23fa7%22,%22type%22:%22image%22,%22shader%22:%22void%20main()%20%7B%20emitRGB(vec3(toNormalized(getDataValue(0)),toNormalized(getDataValue(1)),toNormalized(getDataValue(2))));%20%7D%22%7D,%22../snapshots/prob_unet/setup_4/prediction_00000001.hdf/volumes/raw%22:%7B%22source%22:%22python://http://localhost:8880/64b370baf9e5f8cd9ab18b25673607c91625bd2f%22,%22type%22:%22image%22%7D,%22../snapshots/prob_unet/setup_4/prediction_00000001.hdf/volumes/sample_z%22:%7B%22source%22:%22python://http://localhost:8880/9a708978a70b2a84855d40107ae52f27d6c09c94%22,%22type%22:%22image%22%7D%7D%7D\" width=\"100%\" height=\"1024px\"><\\iframe>"
      ],
      "text/plain": [
       "<IPython.core.display.HTML object>"
      ]
     },
     "execution_count": 290,
     "metadata": {},
     "output_type": "execute_result"
    }
   ],
   "source": [
    "import nyroglancer\n",
    "import numpy as np\n",
    "\n",
    "filename = '../snapshots/prob_unet/setup_4/prediction_00000001.hdf'\n",
    "\n",
    "viewer = nyroglancer.Hdf5Viewer(filename)\n",
    "viewer.set_hostname('localhost:8880')\n",
    "viewer.set_large()\n",
    "viewer.show()"
   ]
  },
  {
   "cell_type": "code",
   "execution_count": 364,
   "metadata": {},
   "outputs": [
    {
     "name": "stdout",
     "output_type": "stream",
     "text": [
      "Adding dataset ../snapshots/prob_unet/setup_4/prediction_00000002.hdf/volumes/affs as 1\n",
      "Adding dataset ../snapshots/prob_unet/setup_4/prediction_00000002.hdf/volumes/labels as 2\n",
      "Adding dataset ../snapshots/prob_unet/setup_4/prediction_00000002.hdf/volumes/pred_affs as 3\n",
      "Adding dataset ../snapshots/prob_unet/setup_4/prediction_00000002.hdf/volumes/raw as 4\n",
      "Adding dataset ../snapshots/prob_unet/setup_4/prediction_00000002.hdf/volumes/sample_z as 5\n"
     ]
    },
    {
     "data": {
      "text/html": [
       "<style>.container { width:100% !important; }</style><iframe src=\"http://localhost:8880/neuroglancer#!%7B%22layers%22:%7B%22../snapshots/prob_unet/setup_4/prediction_00000002.hdf/volumes/affs%22:%7B%22source%22:%22python://http://localhost:8880/ff44b520bc621aad1ae1b18086832ed84b510bca%22,%22type%22:%22image%22,%22shader%22:%22void%20main()%20%7B%20emitRGB(vec3(toNormalized(getDataValue(0)),toNormalized(getDataValue(1)),toNormalized(getDataValue(2))));%20%7D%22%7D,%22../snapshots/prob_unet/setup_4/prediction_00000002.hdf/volumes/labels%22:%7B%22source%22:%22python://http://localhost:8880/4f4046a936f84ddfd085450437e43bb49d9302a2%22,%22type%22:%22segmentation%22%7D,%22../snapshots/prob_unet/setup_4/prediction_00000002.hdf/volumes/pred_affs%22:%7B%22source%22:%22python://http://localhost:8880/24c9a2d933e23ef2c314df2c6edb5bc9c1a9c6c2%22,%22type%22:%22image%22,%22shader%22:%22void%20main()%20%7B%20emitRGB(vec3(toNormalized(getDataValue(0)),toNormalized(getDataValue(1)),toNormalized(getDataValue(2))));%20%7D%22%7D,%22../snapshots/prob_unet/setup_4/prediction_00000002.hdf/volumes/raw%22:%7B%22source%22:%22python://http://localhost:8880/cfdf2944bc76fe36662f8cfa739c45c79718746d%22,%22type%22:%22image%22%7D,%22../snapshots/prob_unet/setup_4/prediction_00000002.hdf/volumes/sample_z%22:%7B%22source%22:%22python://http://localhost:8880/98146cafbae5fe50179fa40a1268d8826a0ce975%22,%22type%22:%22image%22%7D%7D%7D\" width=\"100%\" height=\"1024px\"><\\iframe>"
      ],
      "text/plain": [
       "<IPython.core.display.HTML object>"
      ]
     },
     "execution_count": 364,
     "metadata": {},
     "output_type": "execute_result"
    }
   ],
   "source": [
    "import nyroglancer\n",
    "import numpy as np\n",
    "\n",
    "filename = '../snapshots/prob_unet/setup_4/prediction_00000002.hdf'\n",
    "\n",
    "viewer = nyroglancer.Hdf5Viewer(filename)\n",
    "viewer.set_hostname('localhost:8880')\n",
    "viewer.set_large()\n",
    "viewer.show()"
   ]
  },
  {
   "cell_type": "code",
   "execution_count": null,
   "metadata": {},
   "outputs": [],
   "source": []
  }
 ],
 "metadata": {
  "kernelspec": {
   "display_name": "Python 2",
   "language": "python",
   "name": "python2"
  },
  "language_info": {
   "codemirror_mode": {
    "name": "ipython",
    "version": 2
   },
   "file_extension": ".py",
   "mimetype": "text/x-python",
   "name": "python",
   "nbconvert_exporter": "python",
   "pygments_lexer": "ipython2",
   "version": "2.7.12"
  }
 },
 "nbformat": 4,
 "nbformat_minor": 2
}
