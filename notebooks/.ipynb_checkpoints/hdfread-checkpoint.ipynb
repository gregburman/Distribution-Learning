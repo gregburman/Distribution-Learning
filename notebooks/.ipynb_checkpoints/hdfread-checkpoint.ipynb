{
 "cells": [
  {
   "cell_type": "code",
   "execution_count": 33,
   "metadata": {
    "scrolled": false
   },
   "outputs": [
    {
     "name": "stdout",
     "output_type": "stream",
     "text": [
      "f:  [u'final']\n",
      "(2, 99, 99, 1)\n"
     ]
    },
    {
     "data": {
      "text/html": [
       "<iframe src=\"http://localhost:8888/neuroglancer#!%7B%22layers%22:%7B%22labels%22:%7B%22source%22:%22python://http://localhost:8888/ae0d2252d8cb1b999b55af9760704a8753bbdec1%22,%22type%22:%22segmentation%22%7D,%22affmap%22:%7B%22source%22:%22python://http://localhost:8888/dccc82ebc45efec1e04c66e49deaa186177170d7%22,%22type%22:%22segmentation%22%7D,%22defects%22:%7B%22source%22:%22python://http://localhost:8888/238d5acd2b4d5f14bc4e22b6cd9a8aa5826af2cf%22,%22type%22:%22segmentation%22%7D%7D%7D\" width=\"100%\" height=\"1024px\"><\\iframe>"
      ],
      "text/plain": [
       "<IPython.core.display.HTML object>"
      ]
     },
     "execution_count": 33,
     "metadata": {},
     "output_type": "execute_result"
    }
   ],
   "source": [
    "import nyroglancer\n",
    "import numpy as np\n",
    "import h5py\n",
    "\n",
    "filename = 'labels/00000000.hdf'\n",
    "f = h5py.File(filename, 'r')\n",
    "labels = f['labels'].value \n",
    "f.close()\n",
    "\n",
    "filename = 'affmaps/00000000.hdf'\n",
    "f = h5py.File(filename, 'r')\n",
    "affmap = f['affmap'].value \n",
    "affs1 = affmap[0]\n",
    "affs1 = affs1.reshape((99,99, 1))\n",
    "affs2 = affmap[1]\n",
    "affs1 = affs1.reshape((99,99, 1))\n",
    "affs = np.logical_and(affs1 == 1, affs2 == 1)\n",
    "f.close()\n",
    "\n",
    "filename = 'final/00000000.hdf'\n",
    "f = h5py.File(filename, 'r')\n",
    "print \"f: \", f.keys()\n",
    "defects = f['final'].value \n",
    "defs1 = defects[0]\n",
    "defs1 = defs1.reshape((99,99, 1))\n",
    "defs2 = defects[1]\n",
    "defs2 = defs2.reshape((99,99, 1))\n",
    "defs = np.logical_and(defs1 == 1, defs2 == 1)\n",
    "print np.shape(defects)\n",
    "f.close()\n",
    "\n",
    "\n",
    "\n",
    "# dummy_volume = np.ones((300, 300, 1), dtype=np.uint32)\n",
    "# dummy_volume[:100, :100, :1] = 0\n",
    "\n",
    "viewer = nyroglancer.Viewer()\n",
    "viewer.add(labels.astype(np.uint32), name='labels', voxel_size=[1, 1, 1])\n",
    "viewer.add(affs.astype(np.uint32), name='affmap', voxel_size=[1, 1, 1])\n",
    "viewer.add(defs.astype(np.uint32), name='final', voxel_size=[1, 1, 1])\n",
    "\n",
    "viewer.show()\n"
   ]
  },
  {
   "cell_type": "code",
   "execution_count": null,
   "metadata": {},
   "outputs": [],
   "source": []
  },
  {
   "cell_type": "code",
   "execution_count": null,
   "metadata": {},
   "outputs": [],
   "source": []
  }
 ],
 "metadata": {
  "kernelspec": {
   "display_name": "Python 2",
   "language": "python",
   "name": "python2"
  },
  "language_info": {
   "codemirror_mode": {
    "name": "ipython",
    "version": 2
   },
   "file_extension": ".py",
   "mimetype": "text/x-python",
   "name": "python",
   "nbconvert_exporter": "python",
   "pygments_lexer": "ipython2",
   "version": "2.7.15"
  }
 },
 "nbformat": 4,
 "nbformat_minor": 2
}
