{
 "cells": [
  {
   "cell_type": "code",
   "execution_count": 1872,
   "metadata": {
    "scrolled": false
   },
   "outputs": [
    {
     "name": "stdout",
     "output_type": "stream",
     "text": [
      "Adding dataset ../snapshots/train/batch_101.hdf/volumes/joined_affinities as 1\n",
      "Adding dataset ../snapshots/train/batch_101.hdf/volumes/labels/labels as 2\n",
      "Adding dataset ../snapshots/train/batch_101.hdf/volumes/pred_affinities as 3\n",
      "Adding dataset ../snapshots/train/batch_101.hdf/volumes/raw as 4\n"
     ]
    },
    {
     "data": {
      "text/html": [
       "<iframe src=\"http://localhost:8880/neuroglancer#!%7B%22layers%22:%7B%22../snapshots/train/batch_101.hdf/volumes/joined_affinities%22:%7B%22source%22:%22python://http://localhost:8880/3070bdcce900cd39d77dd527e3eae161e2c59c7f%22,%22type%22:%22image%22%7D,%22../snapshots/train/batch_101.hdf/volumes/labels/labels%22:%7B%22source%22:%22python://http://localhost:8880/3dc811d1f6737adec4bcfeb5b63f2c2e0fbfbe12%22,%22type%22:%22segmentation%22%7D,%22../snapshots/train/batch_101.hdf/volumes/pred_affinities%22:%7B%22source%22:%22python://http://localhost:8880/075bcfb9c837b30e09526c41667ac4172b282c99%22,%22type%22:%22image%22,%22shader%22:%22void%20main()%20%7B%20emitRGB(vec3(toNormalized(getDataValue(0)),toNormalized(getDataValue(1)),toNormalized(getDataValue(2))));%20%7D%22%7D,%22../snapshots/train/batch_101.hdf/volumes/raw%22:%7B%22source%22:%22python://http://localhost:8880/02e53837efaacb4e661a1e8999904ea1d33e0e3d%22,%22type%22:%22segmentation%22%7D%7D%7D\" width=\"100%\" height=\"1024px\"><\\iframe>"
      ],
      "text/plain": [
       "<IPython.core.display.HTML object>"
      ]
     },
     "execution_count": 1872,
     "metadata": {},
     "output_type": "execute_result"
    }
   ],
   "source": [
    "import nyroglancer\n",
    "import numpy as np\n",
    "import h5py\n",
    "\n",
    "filename = '../snapshots/train/batch_101.hdf'\n",
    "# filename = '../snapshots/tests/isotropic.hdf'\n",
    "\n",
    "viewer = nyroglancer.Hdf5Viewer(filename)\n",
    "viewer.set_hostname('localhost:8880')\n",
    "viewer.show()"
   ]
  },
  {
   "cell_type": "code",
   "execution_count": 1682,
   "metadata": {},
   "outputs": [
    {
     "name": "stdout",
     "output_type": "stream",
     "text": [
      "Adding dataset ../snapshots/tests/non-isotropic.hdf/volumes/affinities as 1\n",
      "Adding dataset ../snapshots/tests/non-isotropic.hdf/volumes/labels as 2\n",
      "Adding dataset ../snapshots/tests/non-isotropic.hdf/volumes/raw as 3\n"
     ]
    },
    {
     "data": {
      "text/html": [
       "<iframe src=\"http://localhost:8880/neuroglancer#!%7B%22layers%22:%7B%22../snapshots/tests/non-isotropic.hdf/volumes/affinities%22:%7B%22source%22:%22python://http://localhost:8880/7022cb73b9597d5f657ef7d517001e82605a508b%22,%22type%22:%22image%22%7D,%22../snapshots/tests/non-isotropic.hdf/volumes/labels%22:%7B%22source%22:%22python://http://localhost:8880/1c5cf5304e9a697196afbb39155577f8b6ef7ed4%22,%22type%22:%22segmentation%22%7D,%22../snapshots/tests/non-isotropic.hdf/volumes/raw%22:%7B%22source%22:%22python://http://localhost:8880/780fc11ac2776f066bdc8165547c8e1e1eebd894%22,%22type%22:%22segmentation%22%7D%7D%7D\" width=\"100%\" height=\"1024px\"><\\iframe>"
      ],
      "text/plain": [
       "<IPython.core.display.HTML object>"
      ]
     },
     "execution_count": 1682,
     "metadata": {},
     "output_type": "execute_result"
    }
   ],
   "source": [
    "filename = '../snapshots/train/batch_00000006.hdf'\n",
    "# filename = '../snapshots/tests/non-isotropic.hdf'\n",
    "\n",
    "viewer = nyroglancer.Hdf5Viewer(filename)\n",
    "viewer.set_hostname('localhost:8880')\n",
    "viewer.show()"
   ]
  },
  {
   "cell_type": "code",
   "execution_count": null,
   "metadata": {},
   "outputs": [],
   "source": []
  }
 ],
 "metadata": {
  "kernelspec": {
   "display_name": "Python 2",
   "language": "python",
   "name": "python2"
  },
  "language_info": {
   "codemirror_mode": {
    "name": "ipython",
    "version": 2
   },
   "file_extension": ".py",
   "mimetype": "text/x-python",
   "name": "python",
   "nbconvert_exporter": "python",
   "pygments_lexer": "ipython2",
   "version": "2.7.12"
  }
 },
 "nbformat": 4,
 "nbformat_minor": 2
}
