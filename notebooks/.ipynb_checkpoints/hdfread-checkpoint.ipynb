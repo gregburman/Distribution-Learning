{
 "cells": [
  {
   "cell_type": "code",
   "execution_count": 2,
   "metadata": {
    "scrolled": false
   },
   "outputs": [
    {
     "name": "stdout",
     "output_type": "stream",
     "text": [
      "Adding dataset ../snapshots/batch_1.hdf/volumes/input_affinities_key as 1\n",
      "Adding dataset ../snapshots/batch_1.hdf/volumes/labels/labels as 2\n",
      "Adding dataset ../snapshots/batch_1.hdf/volumes/output_affinities_key as 3\n",
      "Adding dataset ../snapshots/batch_1.hdf/volumes/pred_affinities as 4\n",
      "Adding dataset ../snapshots/batch_1.hdf/volumes/raw as 5\n"
     ]
    },
    {
     "data": {
      "text/html": [
       "<iframe src=\"http://localhost:8880/neuroglancer#!%7B%22layers%22:%7B%22../snapshots/batch_1.hdf/volumes/input_affinities_key%22:%7B%22source%22:%22python://http://localhost:8880/987c402fd947724b53e914e258f3542e2982f357%22,%22type%22:%22image%22,%22shader%22:%22void%20main()%20%7B%20emitRGB(vec3(toNormalized(getDataValue(0)),toNormalized(getDataValue(1)),toNormalized(getDataValue(2))));%20%7D%22%7D,%22../snapshots/batch_1.hdf/volumes/labels/labels%22:%7B%22source%22:%22python://http://localhost:8880/7768580f394789d2e90daf877b26c3f2ebcea796%22,%22type%22:%22segmentation%22%7D,%22../snapshots/batch_1.hdf/volumes/output_affinities_key%22:%7B%22source%22:%22python://http://localhost:8880/f57a3ded984b9a0e435816689ff6b4d1ddbbdae5%22,%22type%22:%22image%22,%22shader%22:%22void%20main()%20%7B%20emitRGB(vec3(toNormalized(getDataValue(0)),toNormalized(getDataValue(1)),toNormalized(getDataValue(2))));%20%7D%22%7D,%22../snapshots/batch_1.hdf/volumes/pred_affinities%22:%7B%22source%22:%22python://http://localhost:8880/dad4c63acd280655f0b6561f4c9c915ef3e43707%22,%22type%22:%22image%22,%22shader%22:%22void%20main()%20%7B%20emitRGB(vec3(toNormalized(getDataValue(0)),toNormalized(getDataValue(1)),toNormalized(getDataValue(2))));%20%7D%22%7D,%22../snapshots/batch_1.hdf/volumes/raw%22:%7B%22source%22:%22python://http://localhost:8880/e61802ee93ff63ed1ad04ec27c5000be7dea83ae%22,%22type%22:%22image%22%7D%7D%7D\" width=\"100%\" height=\"1024px\"><\\iframe>"
      ],
      "text/plain": [
       "<IPython.core.display.HTML object>"
      ]
     },
     "execution_count": 2,
     "metadata": {},
     "output_type": "execute_result"
    }
   ],
   "source": [
    "import nyroglancer\n",
    "import numpy as np\n",
    "import h5py\n",
    "\n",
    "filename = '../snapshots/train/batch_1.hdf'\n",
    "\n",
    "viewer = nyroglancer.Hdf5Viewer(filename)\n",
    "viewer.set_hostname('localhost:8880')\n",
    "viewer.show()"
   ]
  },
  {
   "cell_type": "code",
   "execution_count": 333,
   "metadata": {},
   "outputs": [
    {
     "name": "stdout",
     "output_type": "stream",
     "text": [
      "Closing previously open ../snapshots/prediction/batch_0.hdf\n",
      "Adding dataset ../snapshots/prediction/batch_0.hdf/volumes/labels/labels as 1\n",
      "Adding dataset ../snapshots/prediction/batch_0.hdf/volumes/raw as 2\n",
      "Adding dataset ../snapshots/prediction/batch_0.hdf/volumes/raw_affs as 3\n"
     ]
    },
    {
     "data": {
      "text/html": [
       "<iframe src=\"http://localhost:8880/neuroglancer#!%7B%22layers%22:%7B%22../snapshots/prediction/batch_0.hdf/volumes/labels/labels%22:%7B%22source%22:%22python://http://localhost:8880/a5edd50291a5aa58bca959999bd31db4961abc3f%22,%22type%22:%22segmentation%22%7D,%22../snapshots/prediction/batch_0.hdf/volumes/raw%22:%7B%22source%22:%22python://http://localhost:8880/c7f9ed653df4294d24ffbc487e685affd3c02405%22,%22type%22:%22image%22%7D,%22../snapshots/prediction/batch_0.hdf/volumes/raw_affs%22:%7B%22source%22:%22python://http://localhost:8880/348b149179a7227c69c4f5bc53906cdee77c2804%22,%22type%22:%22image%22,%22shader%22:%22void%20main()%20%7B%20emitRGB(vec3(toNormalized(getDataValue(0)),toNormalized(getDataValue(1)),toNormalized(getDataValue(2))));%20%7D%22%7D%7D%7D\" width=\"100%\" height=\"1024px\"><\\iframe>"
      ],
      "text/plain": [
       "<IPython.core.display.HTML object>"
      ]
     },
     "execution_count": 333,
     "metadata": {},
     "output_type": "execute_result"
    }
   ],
   "source": [
    "filename = '../snapshots/prediction/batch_0.hdf'\n",
    "\n",
    "viewer = nyroglancer.Hdf5Viewer(filename)\n",
    "viewer.set_hostname('localhost:8880')\n",
    "viewer.show()"
   ]
  },
  {
   "cell_type": "code",
   "execution_count": null,
   "metadata": {},
   "outputs": [],
   "source": []
  }
 ],
 "metadata": {
  "kernelspec": {
   "display_name": "Python 2",
   "language": "python",
   "name": "python2"
  },
  "language_info": {
   "codemirror_mode": {
    "name": "ipython",
    "version": 2
   },
   "file_extension": ".py",
   "mimetype": "text/x-python",
   "name": "python",
   "nbconvert_exporter": "python",
   "pygments_lexer": "ipython2",
   "version": "2.7.12"
  }
 },
 "nbformat": 4,
 "nbformat_minor": 2
}
