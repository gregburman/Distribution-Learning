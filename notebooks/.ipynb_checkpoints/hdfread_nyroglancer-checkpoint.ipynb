{
 "cells": [
  {
   "cell_type": "code",
   "execution_count": 4,
   "metadata": {
    "scrolled": false
   },
   "outputs": [
    {
     "ename": "NameError",
     "evalue": "name 'logits' is not defined",
     "output_type": "error",
     "traceback": [
      "\u001b[0;31m---------------------------------------------------------------------------\u001b[0m",
      "\u001b[0;31mNameError\u001b[0m                                 Traceback (most recent call last)",
      "\u001b[0;32m<ipython-input-4-a11e6c3412c5>\u001b[0m in \u001b[0;36m<module>\u001b[0;34m()\u001b[0m\n\u001b[1;32m     10\u001b[0m \u001b[0;31m#         logits = np.array(f['volumes/pred_logits'], dtype=np.float32)\u001b[0m\u001b[0;34m\u001b[0m\u001b[0;34m\u001b[0m\u001b[0m\n\u001b[1;32m     11\u001b[0m \u001b[0;34m\u001b[0m\u001b[0m\n\u001b[0;32m---> 12\u001b[0;31m         \u001b[0;32mprint\u001b[0m\u001b[0;34m(\u001b[0m\u001b[0mlogits\u001b[0m\u001b[0;34m.\u001b[0m\u001b[0mshape\u001b[0m\u001b[0;34m)\u001b[0m\u001b[0;34m\u001b[0m\u001b[0m\n\u001b[0m\u001b[1;32m     13\u001b[0m \u001b[0;34m\u001b[0m\u001b[0m\n\u001b[1;32m     14\u001b[0m         \u001b[0mviewer\u001b[0m\u001b[0;34m.\u001b[0m\u001b[0madd\u001b[0m\u001b[0;34m(\u001b[0m\u001b[0maffs\u001b[0m\u001b[0;34m,\u001b[0m \u001b[0;34m\"affs\"\u001b[0m\u001b[0;34m,\u001b[0m \u001b[0mshader\u001b[0m\u001b[0;34m=\u001b[0m\u001b[0mnyroglancer\u001b[0m\u001b[0;34m.\u001b[0m\u001b[0mshaders\u001b[0m\u001b[0;34m.\u001b[0m\u001b[0mrgb\u001b[0m\u001b[0;34m(\u001b[0m\u001b[0;34m)\u001b[0m\u001b[0;34m)\u001b[0m\u001b[0;34m\u001b[0m\u001b[0m\n",
      "\u001b[0;31mNameError\u001b[0m: name 'logits' is not defined"
     ]
    }
   ],
   "source": [
    "import nyroglancer\n",
    "import numpy as np\n",
    "import h5py\n",
    "\n",
    "viewer = nyroglancer.Viewer()\n",
    "for i in range(1):\n",
    "    with h5py.File('../snapshots/prob_unet/setup_16/prediction_0000000{}.hdf'.format(i), 'r') as f:\n",
    "        affs = np.array(f['volumes/pred_affs'], dtype=np.float32)\n",
    "        raw = np.array(f['volumes/raw'], dtype=np.float32)\n",
    "#         logits = np.array(f['volumes/pred_logits'], dtype=np.float32)\n",
    "        \n",
    "#         print(logits.shape)\n",
    "\n",
    "        viewer.add(affs, \"affs\", shader=nyroglancer.shaders.rgb())\n",
    "        viewer.add(raw, \"raw\", shader=nyroglancer.shaders.rgb())\n",
    "#         viewer.add(logits, \"logits\", shader=nyroglancer.shaders.rgb())\n",
    "\n",
    "\n",
    "# with h5py.File('../snapshots/prob_unet/test_sample.hdf', 'r') as f:\n",
    "#     labels = np.array(f[\"volumes/labels\"])\n",
    "#     gt_affs = np.array(f[\"volumes/gt_affs\"])\n",
    "#     raw = np.array(f[\"volumes/raw\"])\n",
    "\n",
    "    \n",
    "# with h5py.File('../snapshots/prob_unet/setup_15/prediction_00000000.hdf', 'r') as f:\n",
    "#     pred_1 = np.array(f[\"volumes/pred_affs\"])\n",
    "#     print(pred_1.shape)\n",
    "\n",
    "# with h5py.File('../snapshots/prob_unet/setup_15/prediction_00000001.hdf', 'r') as f:\n",
    "#     pred_2 = np.array(f[\"volumes/pred_affs\"])\n",
    "        \n",
    "# with h5py.File('../snapshots/prob_unet/setup_15/prediction_00000002.hdf', 'r') as f:\n",
    "#     pred_3 = np.array(f[\"volumes/pred_affs\"])\n",
    "        \n",
    "# with h5py.File('../snapshots/prob_unet/setup_15/prediction_00000003.hdf', 'r') as f:\n",
    "#     pred_4 = np.array(f[\"volumes/pred_affs\"])\n",
    "\n",
    "\n",
    "#viewer.add(labels, \"labels\")\n",
    "#viewer.add(gt_affs, \"gt_affs\")\n",
    "#viewer.add(raw, \"raw\")\n",
    "# viewer.add(pred_1, \"pred_1\")\n",
    "# viewer.add(pred_1, \"pred_2\",  shader=nyroglancer.shaders.rgb())\n",
    "# viewer.add(pred_1, \"pred_3\",  shader=nyroglancer.shaders.rgb())\n",
    "# viewer.add(pred_1, \"pred_4\",  shader=nyroglancer.shaders.rgb())\n",
    "# viewer.add(dataset2, \"plus\", shader=nyroglancer.shaders.rgb())\n",
    "# viewer.add(dataset3, \"zero\", shader=nyroglancer.shaders.rgb())\n",
    "# viewer.add(dataset4, \"both5\", shader=nyroglancer.shaders.rgb())\n",
    "# viewer.add(dataset5, \"times10\", shader=nyroglancer.shaders.rgb())\n",
    "# viewer.add(dataset6[1,:,:,:], \"times100\")\n",
    "# viewer.add(dataset6_affs, \"affs_times100\", shader=nyroglancer.shaders.rgb())\n",
    "\n",
    "# viewer.add(dataset7[1,:,:,:], \"bc\")\n",
    "# viewer.add(dataset7_affs, \"bc_affs\", shader=nyroglancer.shaders.rgb())\n",
    "# print(dataset7[0,0,:,:,:])\n",
    "\n",
    "\n",
    "# viewer.add(dataset7[0,:,0,:,:], \"bc_mc\")\n",
    "# viewer.add(dataset8_affs, \"bc_mc_affs\", shader=nyroglancer.shaders.rgb())\n",
    "\n",
    "\n",
    "viewer.set_hostname('localhost:8880')\n",
    "viewer.set_large()\n",
    "viewer.show()"
   ]
  },
  {
   "cell_type": "code",
   "execution_count": 943,
   "metadata": {},
   "outputs": [
    {
     "data": {
      "text/html": [
       "<style>.container { width:100% !important; }</style><iframe src=\"http://localhost:8880/neuroglancer#!%7B%22layers%22:%7B%22image%22:%7B%22source%22:%22python://http://localhost:8880/61fadc827a1ab92be8225582f885933d9505e461%22,%22type%22:%22image%22,%22shader%22:%22void%20main()%20%7B%20emitRGB(vec3(toNormalized(getDataValue(0)),toNormalized(getDataValue(1)),toNormalized(getDataValue(2))));%20%7D%22%7D%7D%7D\" width=\"100%\" height=\"1024px\"><\\iframe>"
      ],
      "text/plain": [
       "<IPython.core.display.HTML object>"
      ]
     },
     "execution_count": 943,
     "metadata": {},
     "output_type": "execute_result"
    }
   ],
   "source": [
    "import nyroglancer\n",
    "import numpy as np\n",
    "import  h5py\n",
    "\n",
    "filename = '../snapshots/prob_unet//test_sample.hdf'\n",
    "\n",
    "#viewer = nyroglancer.Hdf5Viewer(filename)\n",
    "viewer = nyroglancer.Viewer()\n",
    "with h5py.File(filename, \"r\") as f:\n",
    "    affs = np.array(f[\"volumes/raw\"], dtype=np.float32)\n",
    "    \n",
    "viewer.add(affs,  shader=nyroglancer.shaders.rgb())\n",
    "    \n",
    "viewer.set_hostname('localhost:8880')\n",
    "viewer.set_large()\n",
    "viewer.show()"
   ]
  },
  {
   "cell_type": "code",
   "execution_count": 101,
   "metadata": {},
   "outputs": [
    {
     "name": "stdout",
     "output_type": "stream",
     "text": [
      "(1, 6, 44, 44, 44)\n"
     ]
    }
   ],
   "source": [
    "import nyroglancer\n",
    "import numpy as np\n",
    "\n",
    "with h5py.File('../snapshots/prob_unet/setup_15/batch_44001.hdf', 'r') as f:\n",
    "    broadcast = np.array(f[\"volumes/broadcast\"])\n",
    "    \n",
    "print(broadcast.shape)\n",
    "\n",
    "# filename = '../snapshots/prob_unet/setup_15/prediction_00000000.hdf'\n",
    "\n",
    "# viewer = nyroglancer.Hdf5Viewer(filename)\n",
    "# viewer.set_hostname('localhost:8880')\n",
    "# viewer.set_large()\n",
    "# viewer.show()"
   ]
  },
  {
   "cell_type": "code",
   "execution_count": 127,
   "metadata": {},
   "outputs": [
    {
     "name": "stdout",
     "output_type": "stream",
     "text": [
      "Adding dataset ../snapshots/prob_unet/setup_15/batch_44001.hdf/volumes/gt_affs_in as 1\n",
      "Adding dataset ../snapshots/prob_unet/setup_15/batch_44001.hdf/volumes/gt_affs_out as 2\n",
      "Adding dataset ../snapshots/prob_unet/setup_15/batch_44001.hdf/volumes/labels as 3\n",
      "Adding dataset ../snapshots/prob_unet/setup_15/batch_44001.hdf/volumes/merged_labels as 4\n",
      "Adding dataset ../snapshots/prob_unet/setup_15/batch_44001.hdf/volumes/pred_affs as 5\n",
      "Adding dataset ../snapshots/prob_unet/setup_15/batch_44001.hdf/volumes/raw as 6\n",
      "Adding dataset ../snapshots/prob_unet/setup_15/batch_44001.hdf/volumes/raw_affs as 7\n"
     ]
    },
    {
     "data": {
      "text/html": [
       "<style>.container { width:100% !important; }</style><iframe src=\"http://localhost:8880/neuroglancer#!%7B%22layers%22:%7B%22../snapshots/prob_unet/setup_15/batch_44001.hdf/volumes/gt_affs_in%22:%7B%22source%22:%22python://http://localhost:8880/7076a94107a25853944cc831c9b1377efa6d9aab%22,%22type%22:%22image%22,%22shader%22:%22void%20main()%20%7B%20emitRGB(vec3(toNormalized(getDataValue(0)),toNormalized(getDataValue(1)),toNormalized(getDataValue(2))));%20%7D%22%7D,%22../snapshots/prob_unet/setup_15/batch_44001.hdf/volumes/gt_affs_out%22:%7B%22source%22:%22python://http://localhost:8880/04877bb1246c6b5846a3b9ed149f0e7654b0c3df%22,%22type%22:%22image%22,%22shader%22:%22void%20main()%20%7B%20emitRGB(vec3(toNormalized(getDataValue(0)),toNormalized(getDataValue(1)),toNormalized(getDataValue(2))));%20%7D%22%7D,%22../snapshots/prob_unet/setup_15/batch_44001.hdf/volumes/labels%22:%7B%22source%22:%22python://http://localhost:8880/514bfade12c0a02dc9180b18481154071bd1238a%22,%22type%22:%22segmentation%22%7D,%22../snapshots/prob_unet/setup_15/batch_44001.hdf/volumes/merged_labels%22:%7B%22source%22:%22python://http://localhost:8880/a42c44ebe69f96c5ad8ea17eddf100f061208c9a%22,%22type%22:%22segmentation%22%7D,%22../snapshots/prob_unet/setup_15/batch_44001.hdf/volumes/pred_affs%22:%7B%22source%22:%22python://http://localhost:8880/605c7d3f5975275c6360c40c9038c40d814d9aba%22,%22type%22:%22image%22,%22shader%22:%22void%20main()%20%7B%20emitRGB(vec3(toNormalized(getDataValue(0)),toNormalized(getDataValue(1)),toNormalized(getDataValue(2))));%20%7D%22%7D,%22../snapshots/prob_unet/setup_15/batch_44001.hdf/volumes/raw%22:%7B%22source%22:%22python://http://localhost:8880/a6531c76d192f25011edb04e14937c9470bae3ee%22,%22type%22:%22image%22%7D,%22../snapshots/prob_unet/setup_15/batch_44001.hdf/volumes/raw_affs%22:%7B%22source%22:%22python://http://localhost:8880/b067daf302fbc793cd0ba08d6bc8b25dd7c95dde%22,%22type%22:%22image%22,%22shader%22:%22void%20main()%20%7B%20emitRGB(vec3(toNormalized(getDataValue(0)),toNormalized(getDataValue(1)),toNormalized(getDataValue(2))));%20%7D%22%7D%7D%7D\" width=\"100%\" height=\"1024px\"><\\iframe>"
      ],
      "text/plain": [
       "<IPython.core.display.HTML object>"
      ]
     },
     "execution_count": 127,
     "metadata": {},
     "output_type": "execute_result"
    }
   ],
   "source": [
    "import nyroglancer\n",
    "import numpy as np\n",
    "\n",
    "filename = '../snapshots/prob_unet/setup_15/batch_44001.hdf'\n",
    "\n",
    "viewer = nyroglancer.Hdf5Viewer(filename)\n",
    "viewer.set_hostname('localhost:8880')\n",
    "viewer.set_large()\n",
    "viewer.show()"
   ]
  },
  {
   "cell_type": "code",
   "execution_count": null,
   "metadata": {},
   "outputs": [],
   "source": []
  }
 ],
 "metadata": {
  "kernelspec": {
   "display_name": "Python 2",
   "language": "python",
   "name": "python2"
  },
  "language_info": {
   "codemirror_mode": {
    "name": "ipython",
    "version": 2
   },
   "file_extension": ".py",
   "mimetype": "text/x-python",
   "name": "python",
   "nbconvert_exporter": "python",
   "pygments_lexer": "ipython2",
   "version": "2.7.12"
  }
 },
 "nbformat": 4,
 "nbformat_minor": 2
}
