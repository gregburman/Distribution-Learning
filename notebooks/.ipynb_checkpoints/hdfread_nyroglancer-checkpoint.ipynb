{
 "cells": [
  {
   "cell_type": "code",
   "execution_count": 282,
   "metadata": {
    "scrolled": false
   },
   "outputs": [
    {
     "name": "stdout",
     "output_type": "stream",
     "text": [
      "(6, 44, 44, 44)\n"
     ]
    },
    {
     "data": {
      "text/html": [
       "<style>.container { width:100% !important; }</style><iframe src=\"http://localhost:8880/neuroglancer#!%7B%22layers%22:%7B%22minus%22:%7B%22source%22:%22python://http://localhost:8880/1c2ab2acddb1f816e8d2d8cc47a5f78172c65103%22,%22type%22:%22image%22,%22shader%22:%22void%20main()%20%7B%20emitRGB(vec3(toNormalized(getDataValue(0)),toNormalized(getDataValue(1)),toNormalized(getDataValue(2))));%20%7D%22%7D,%22plus%22:%7B%22source%22:%22python://http://localhost:8880/0525ba4c47e64e6a908f66512a79dc49ab156a7b%22,%22type%22:%22image%22,%22shader%22:%22void%20main()%20%7B%20emitRGB(vec3(toNormalized(getDataValue(0)),toNormalized(getDataValue(1)),toNormalized(getDataValue(2))));%20%7D%22%7D,%22zero%22:%7B%22source%22:%22python://http://localhost:8880/52ecd73f7c92b37aaa7753b286428e83c9989d38%22,%22type%22:%22image%22,%22shader%22:%22void%20main()%20%7B%20emitRGB(vec3(toNormalized(getDataValue(0)),toNormalized(getDataValue(1)),toNormalized(getDataValue(2))));%20%7D%22%7D,%22both5%22:%7B%22source%22:%22python://http://localhost:8880/3da408d89a3f05682e4d3790e337ecb0aaf7d524%22,%22type%22:%22image%22,%22shader%22:%22void%20main()%20%7B%20emitRGB(vec3(toNormalized(getDataValue(0)),toNormalized(getDataValue(1)),toNormalized(getDataValue(2))));%20%7D%22%7D,%22times10%22:%7B%22source%22:%22python://http://localhost:8880/6fb4b3d9adeca1a37aef16cfcbea94bffe236aa5%22,%22type%22:%22image%22,%22shader%22:%22void%20main()%20%7B%20emitRGB(vec3(toNormalized(getDataValue(0)),toNormalized(getDataValue(1)),toNormalized(getDataValue(2))));%20%7D%22%7D,%22times100%22:%7B%22source%22:%22python://http://localhost:8880/6592a93c17efe9f61a218b0a787e56613a6627c3%22,%22type%22:%22image%22%7D,%22affs_times100%22:%7B%22source%22:%22python://http://localhost:8880/86bc4a1507853fc6f59bfc6df9f7214995491530%22,%22type%22:%22image%22,%22shader%22:%22void%20main()%20%7B%20emitRGB(vec3(toNormalized(getDataValue(0)),toNormalized(getDataValue(1)),toNormalized(getDataValue(2))));%20%7D%22%7D%7D%7D\" width=\"100%\" height=\"1024px\"><\\iframe>"
      ],
      "text/plain": [
       "<IPython.core.display.HTML object>"
      ]
     },
     "execution_count": 282,
     "metadata": {},
     "output_type": "execute_result"
    }
   ],
   "source": [
    "import nyroglancer\n",
    "import numpy as np\n",
    "import h5py\n",
    "\n",
    "viewer = nyroglancer.Viewer()\n",
    "# for i in range(4):\n",
    "#     dataset = h5py.File('../snapshots/prob_unet/setup_12/prediction_0000000{}.hdf'.format(i), 'r')['volumes/pred_affs']\n",
    "#     print(dataset.shape)\n",
    "#     viewer.add_dataset(dataset, \"pred_%i\"%(i+1))\n",
    "\n",
    "#dataset1 = h5py.File('../minus_5.hdf', 'r')['volumes/pred_affs'].value\n",
    "#dataset2 = h5py.File('../plus_5.hdf', 'r')['volumes/pred_affs'].value\n",
    "#dataset3 = h5py.File('../zero.hdf', 'r')['volumes/pred_affs'].value\n",
    "#dataset4 = h5py.File('../both_5.hdf', 'r')['volumes/pred_affs'].value\n",
    "#dataset5 = h5py.File('../times10.hdf', 'r')['volumes/pred_affs'].value\n",
    "\n",
    "with h5py.File('../minus_5.hdf', 'r') as f:\n",
    "    dataset1 = np.array(f[\"volumes/pred_affs\"])\n",
    "    \n",
    "with h5py.File('../plus_5.hdf', 'r') as f:\n",
    "    dataset2 = np.array(f[\"volumes/pred_affs\"])\n",
    "    \n",
    "with h5py.File('../zero.hdf', 'r') as f:\n",
    "    dataset3 = np.array(f[\"volumes/pred_affs\"])\n",
    "    \n",
    "with h5py.File('../both_5.hdf', 'r') as f:\n",
    "    dataset4 = np.array(f[\"volumes/pred_affs\"])\n",
    "    \n",
    "with h5py.File('../times10.hdf', 'r') as f:\n",
    "    dataset5 = np.array(f[\"volumes/pred_affs\"])\n",
    "\n",
    "with h5py.File('../times100.hdf', 'r') as f:\n",
    "    dataset6 = np.array(f[\"volumes/broadcast\"])[0,:,:,:,:]\n",
    "    dataset6_affs = np.array(f[\"volumes/pred_affs\"])\n",
    "    \n",
    "with h5py.File('../broadcast.hdf', 'r') as f:\n",
    "    dataset6 = np.array(f[\"volumes/broadcast\"])[0,:,:,:,:]\n",
    "    dataset6_affs = np.array(f[\"volumes/pred_affs\"])\n",
    "\n",
    "print(np.shape(dataset6))\n",
    "viewer.add(dataset1, \"minus\", shader=nyroglancer.shaders.rgb())\n",
    "viewer.add(dataset2, \"plus\", shader=nyroglancer.shaders.rgb())\n",
    "viewer.add(dataset3, \"zero\", shader=nyroglancer.shaders.rgb())\n",
    "viewer.add(dataset4, \"both5\", shader=nyroglancer.shaders.rgb())\n",
    "viewer.add(dataset5, \"times10\", shader=nyroglancer.shaders.rgb())\n",
    "viewer.add(dataset6[1,:,:,:], \"times100\")\n",
    "viewer.add(dataset6_affs, \"affs_times100\", shader=nyroglancer.shaders.rgb())\n",
    "\n",
    "\n",
    "viewer.set_hostname('localhost:8880')\n",
    "viewer.set_large()\n",
    "viewer.show()"
   ]
  },
  {
   "cell_type": "markdown",
   "metadata": {},
   "source": [
    "import nyroglancer\n",
    "import numpy as np\n",
    "import h5py\n",
    "\n",
    "viewer = nyroglancer.Hdf5Viewer()\n",
    "for i in range(4):\n",
    "    dataset = h5py.File('../snapshots/prob_unet/setup_12/prediction_0000000{}.hdf'.format(i), 'r')['volumes/pred_affs']\n",
    "    print(dataset.shape)\n",
    "    viewer.add_dataset(dataset, \"pred_%i\"%(i+1))\n",
    "\n",
    "\n",
    "viewer.set_hostname('localhost:8880')\n",
    "viewer.set_large()\n",
    "viewer.show()"
   ]
  },
  {
   "cell_type": "code",
   "execution_count": 203,
   "metadata": {},
   "outputs": [
    {
     "name": "stdout",
     "output_type": "stream",
     "text": [
      "Adding dataset ../snapshots/prob_unet/setup_12/prediction_00000000.hdf/volumes/broadcast as 1\n",
      "Adding dataset ../snapshots/prob_unet/setup_12/prediction_00000000.hdf/volumes/broadcast as 2\n",
      "Adding dataset ../snapshots/prob_unet/setup_12/prediction_00000000.hdf/volumes/gt_affs as 3\n",
      "Adding dataset ../snapshots/prob_unet/setup_12/prediction_00000000.hdf/volumes/labels as 4\n",
      "Adding dataset ../snapshots/prob_unet/setup_12/prediction_00000000.hdf/volumes/pred_affs as 5\n",
      "Adding dataset ../snapshots/prob_unet/setup_12/prediction_00000000.hdf/volumes/raw as 6\n"
     ]
    },
    {
     "data": {
      "text/html": [
       "<style>.container { width:100% !important; }</style><iframe src=\"http://localhost:8880/neuroglancer#!%7B%22layers%22:%7B%22../snapshots/prob_unet/setup_12/prediction_00000000.hdf/volumes/broadcast%22:%7B%22source%22:%22python://http://localhost:8880/4181bb3b0c7f6f8102b4e6d47c686b6fac1bcf4d%22,%22type%22:%22image%22,%22shader%22:%22void%20main()%20%7B%20emitRGB(vec3(toNormalized(getDataValue(0)),toNormalized(getDataValue(1)),toNormalized(getDataValue(2))));%20%7D%22%7D,%22../snapshots/prob_unet/setup_12/prediction_00000000.hdf/volumes/gt_affs%22:%7B%22source%22:%22python://http://localhost:8880/6dc516e9be249f58831c8200fded8a53e71528c4%22,%22type%22:%22image%22,%22shader%22:%22void%20main()%20%7B%20emitRGB(vec3(toNormalized(getDataValue(0)),toNormalized(getDataValue(1)),toNormalized(getDataValue(2))));%20%7D%22%7D,%22../snapshots/prob_unet/setup_12/prediction_00000000.hdf/volumes/labels%22:%7B%22source%22:%22python://http://localhost:8880/f54e7b32b27d28cf354087bdebe3751ad6c030aa%22,%22type%22:%22segmentation%22%7D,%22../snapshots/prob_unet/setup_12/prediction_00000000.hdf/volumes/pred_affs%22:%7B%22source%22:%22python://http://localhost:8880/fdd72fe929d0080c59e2e6740567ff2b426ad2cd%22,%22type%22:%22image%22,%22shader%22:%22void%20main()%20%7B%20emitRGB(vec3(toNormalized(getDataValue(0)),toNormalized(getDataValue(1)),toNormalized(getDataValue(2))));%20%7D%22%7D,%22../snapshots/prob_unet/setup_12/prediction_00000000.hdf/volumes/raw%22:%7B%22source%22:%22python://http://localhost:8880/a4979591e36d05ad6295812a75745ca113b18df4%22,%22type%22:%22image%22%7D%7D%7D\" width=\"100%\" height=\"1024px\"><\\iframe>"
      ],
      "text/plain": [
       "<IPython.core.display.HTML object>"
      ]
     },
     "execution_count": 203,
     "metadata": {},
     "output_type": "execute_result"
    }
   ],
   "source": [
    "import nyroglancer\n",
    "import numpy as np\n",
    "\n",
    "filename = '../snapshots/prob_unet/setup_12/prediction_00000000.hdf'\n",
    "\n",
    "viewer = nyroglancer.Hdf5Viewer(filename)\n",
    "viewer.set_hostname('localhost:8880')\n",
    "viewer.set_large()\n",
    "viewer.show()"
   ]
  },
  {
   "cell_type": "code",
   "execution_count": 2476,
   "metadata": {
    "scrolled": false
   },
   "outputs": [
    {
     "name": "stdout",
     "output_type": "stream",
     "text": [
      "Closing previously open ../snapshots/prob_unet/setup_12/batch_98001.hdf\n",
      "Adding dataset ../snapshots/prob_unet/setup_12/batch_98001.hdf/volumes/gt_affs as 1\n",
      "Adding dataset ../snapshots/prob_unet/setup_12/batch_98001.hdf/volumes/labels as 2\n",
      "Adding dataset ../snapshots/prob_unet/setup_12/batch_98001.hdf/volumes/merged_labels as 3\n",
      "Adding dataset ../snapshots/prob_unet/setup_12/batch_98001.hdf/volumes/raw as 4\n",
      "Adding dataset ../snapshots/prob_unet/setup_12/batch_98001.hdf/volumes/raw_affs as 5\n"
     ]
    },
    {
     "data": {
      "text/html": [
       "<style>.container { width:100% !important; }</style><iframe src=\"http://localhost:8880/neuroglancer#!%7B%22layers%22:%7B%22../snapshots/prob_unet/setup_12/batch_98001.hdf/volumes/gt_affs%22:%7B%22source%22:%22python://http://localhost:8880/acf1369ae3e3857b1761cc2157fd09a07973b68f%22,%22type%22:%22image%22,%22shader%22:%22void%20main()%20%7B%20emitRGB(vec3(toNormalized(getDataValue(0)),toNormalized(getDataValue(1)),toNormalized(getDataValue(2))));%20%7D%22%7D,%22../snapshots/prob_unet/setup_12/batch_98001.hdf/volumes/labels%22:%7B%22source%22:%22python://http://localhost:8880/2db955d362dddd37d8b00ad8817d9795af3c7bf0%22,%22type%22:%22segmentation%22%7D,%22../snapshots/prob_unet/setup_12/batch_98001.hdf/volumes/merged_labels%22:%7B%22source%22:%22python://http://localhost:8880/0516608058a7bc4643b536f420f4d9e3b59aa62e%22,%22type%22:%22segmentation%22%7D,%22../snapshots/prob_unet/setup_12/batch_98001.hdf/volumes/raw%22:%7B%22source%22:%22python://http://localhost:8880/f089289d765ef8cd89e873833f47626670357ab3%22,%22type%22:%22image%22%7D,%22../snapshots/prob_unet/setup_12/batch_98001.hdf/volumes/raw_affs%22:%7B%22source%22:%22python://http://localhost:8880/2335ceaee0a9d18307ff11da0352293d66429b48%22,%22type%22:%22image%22,%22shader%22:%22void%20main()%20%7B%20emitRGB(vec3(toNormalized(getDataValue(0)),toNormalized(getDataValue(1)),toNormalized(getDataValue(2))));%20%7D%22%7D%7D%7D\" width=\"100%\" height=\"1024px\"><\\iframe>"
      ],
      "text/plain": [
       "<IPython.core.display.HTML object>"
      ]
     },
     "execution_count": 2476,
     "metadata": {},
     "output_type": "execute_result"
    }
   ],
   "source": [
    "import nyroglancer\n",
    "import numpy as np\n",
    "\n",
    "filename = '../snapshots/prob_unet/setup_12/batch_98001.hdf'\n",
    "\n",
    "viewer = nyroglancer.Hdf5Viewer(filename)\n",
    "viewer.set_hostname('localhost:8880')\n",
    "viewer.set_large()\n",
    "viewer.show()"
   ]
  },
  {
   "cell_type": "code",
   "execution_count": 204,
   "metadata": {},
   "outputs": [
    {
     "name": "stdout",
     "output_type": "stream",
     "text": [
      "Adding dataset ../snapshots/prob_unet/setup_12/batch_2001.hdf/volumes/gt_affs as 1\n",
      "Adding dataset ../snapshots/prob_unet/setup_12/batch_2001.hdf/volumes/labels as 2\n",
      "Adding dataset ../snapshots/prob_unet/setup_12/batch_2001.hdf/volumes/merged_labels as 3\n",
      "Adding dataset ../snapshots/prob_unet/setup_12/batch_2001.hdf/volumes/raw as 4\n",
      "Adding dataset ../snapshots/prob_unet/setup_12/batch_2001.hdf/volumes/raw_affs as 5\n"
     ]
    },
    {
     "data": {
      "text/html": [
       "<style>.container { width:100% !important; }</style><iframe src=\"http://localhost:8880/neuroglancer#!%7B%22layers%22:%7B%22../snapshots/prob_unet/setup_12/batch_2001.hdf/volumes/gt_affs%22:%7B%22source%22:%22python://http://localhost:8880/d0dbb5c606e1d9af4a3aefa6cbaf7c92ca088bcf%22,%22type%22:%22image%22,%22shader%22:%22void%20main()%20%7B%20emitRGB(vec3(toNormalized(getDataValue(0)),toNormalized(getDataValue(1)),toNormalized(getDataValue(2))));%20%7D%22%7D,%22../snapshots/prob_unet/setup_12/batch_2001.hdf/volumes/labels%22:%7B%22source%22:%22python://http://localhost:8880/1a408bc0364977dca53114f16626cbf414f1f988%22,%22type%22:%22segmentation%22%7D,%22../snapshots/prob_unet/setup_12/batch_2001.hdf/volumes/merged_labels%22:%7B%22source%22:%22python://http://localhost:8880/64a114fc5e18576bd9cfb70d2326aecd8b745607%22,%22type%22:%22segmentation%22%7D,%22../snapshots/prob_unet/setup_12/batch_2001.hdf/volumes/raw%22:%7B%22source%22:%22python://http://localhost:8880/c78d257f824f83fa1b312fd6427c561204514809%22,%22type%22:%22image%22%7D,%22../snapshots/prob_unet/setup_12/batch_2001.hdf/volumes/raw_affs%22:%7B%22source%22:%22python://http://localhost:8880/8eefd201587df84c568f1f7f2ed056a93986fb47%22,%22type%22:%22image%22,%22shader%22:%22void%20main()%20%7B%20emitRGB(vec3(toNormalized(getDataValue(0)),toNormalized(getDataValue(1)),toNormalized(getDataValue(2))));%20%7D%22%7D%7D%7D\" width=\"100%\" height=\"1024px\"><\\iframe>"
      ],
      "text/plain": [
       "<IPython.core.display.HTML object>"
      ]
     },
     "execution_count": 204,
     "metadata": {},
     "output_type": "execute_result"
    }
   ],
   "source": [
    "import nyroglancer\n",
    "import numpy as np\n",
    "\n",
    "filename = '../snapshots/prob_unet/setup_12/batch_2001.hdf'\n",
    "\n",
    "viewer = nyroglancer.Hdf5Viewer(filename)\n",
    "viewer.set_hostname('localhost:8880')\n",
    "viewer.set_large()\n",
    "viewer.show()"
   ]
  },
  {
   "cell_type": "code",
   "execution_count": null,
   "metadata": {},
   "outputs": [],
   "source": []
  }
 ],
 "metadata": {
  "kernelspec": {
   "display_name": "Python 2",
   "language": "python",
   "name": "python2"
  },
  "language_info": {
   "codemirror_mode": {
    "name": "ipython",
    "version": 2
   },
   "file_extension": ".py",
   "mimetype": "text/x-python",
   "name": "python",
   "nbconvert_exporter": "python",
   "pygments_lexer": "ipython2",
   "version": "2.7.12"
  }
 },
 "nbformat": 4,
 "nbformat_minor": 2
}
