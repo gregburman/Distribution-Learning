{
 "cells": [
  {
   "cell_type": "code",
   "execution_count": 31,
   "metadata": {
    "scrolled": false
   },
   "outputs": [
    {
     "name": "stdout",
     "output_type": "stream",
     "text": [
      "(1, 6, 44, 44, 44)\n"
     ]
    },
    {
     "data": {
      "text/html": [
       "<style>.container { width:100% !important; }</style><iframe src=\"http://localhost:8880/neuroglancer#!%7B%22layers%22:%7B%22bc_mc%22:%7B%22source%22:%22python://http://localhost:8880/c8981c123f3625d9ebe9ccc8c8eccde92d9742b2%22,%22type%22:%22image%22%7D%7D%7D\" width=\"100%\" height=\"1024px\"><\\iframe>"
      ],
      "text/plain": [
       "<IPython.core.display.HTML object>"
      ]
     },
     "execution_count": 31,
     "metadata": {},
     "output_type": "execute_result"
    }
   ],
   "source": [
    "import nyroglancer\n",
    "import numpy as np\n",
    "import h5py\n",
    "\n",
    "viewer = nyroglancer.Viewer()\n",
    "# for i in range(4):\n",
    "#     dataset = h5py.File('../snapshots/prob_unet/setup_12/prediction_0000000{}.hdf'.format(i), 'r')['volumes/pred_affs']\n",
    "#     print(dataset.shape)\n",
    "#     viewer.add_dataset(dataset, \"pred_%i\"%(i+1))\n",
    "\n",
    "#dataset1 = h5py.File('../minus_5.hdf', 'r')['volumes/pred_affs'].value\n",
    "#dataset2 = h5py.File('../plus_5.hdf', 'r')['volumes/pred_affs'].value\n",
    "#dataset3 = h5py.File('../zero.hdf', 'r')['volumes/pred_affs'].value\n",
    "#dataset4 = h5py.File('../both_5.hdf', 'r')['volumes/pred_affs'].value\n",
    "#dataset5 = h5py.File('../times10.hdf', 'r')['volumes/pred_affs'].value\n",
    "\n",
    "# with h5py.File('../minus_5.hdf', 'r') as f:\n",
    "#     dataset1 = np.array(f[\"volumes/pred_affs\"])\n",
    "    \n",
    "# with h5py.File('../plus_5.hdf', 'r') as f:\n",
    "#     dataset2 = np.array(f[\"volumes/pred_affs\"])\n",
    "    \n",
    "# with h5py.File('../zero.hdf', 'r') as f:\n",
    "#     dataset3 = np.array(f[\"volumes/pred_affs\"])\n",
    "    \n",
    "# with h5py.File('../both_5.hdf', 'r') as f:\n",
    "#     dataset4 = np.array(f[\"volumes/pred_affs\"])\n",
    "    \n",
    "# with h5py.File('../times10.hdf', 'r') as f:\n",
    "#     dataset5 = np.array(f[\"volumes/pred_affs\"])\n",
    "\n",
    "# with h5py.File('../times100.hdf', 'r') as f:\n",
    "#     dataset6 = np.array(f[\"volumes/broadcast\"])[0,:,:,:,:]\n",
    "#     dataset6_affs = np.array(f[\"volumes/pred_affs\"])\n",
    "    \n",
    "with h5py.File('../snapshots/prob_unet/setup_12/prediction_00000000.hdf', 'r') as f:\n",
    "    dataset7 = np.array(f[\"volumes/broadcast\"])\n",
    "#     dataset7_affs = np.array(f[\"volumes/pred_affs\"])\n",
    "\n",
    "    \n",
    "print np.shape(dataset7)\n",
    "# with h5py.File('../broadcast_mc.hdf', 'r') as f:\n",
    "#     dataset8 = np.array(f[\"volumes/broadcast\"])\n",
    "#     dataset8_affs = np.array(f[\"volumes/pred_affs\"])\n",
    "\n",
    "# print(np.shape(dataset6))\n",
    "# viewer.add(dataset1, \"minus\", shader=nyroglancer.shaders.rgb())\n",
    "# viewer.add(dataset2, \"plus\", shader=nyroglancer.shaders.rgb())\n",
    "# viewer.add(dataset3, \"zero\", shader=nyroglancer.shaders.rgb())\n",
    "# viewer.add(dataset4, \"both5\", shader=nyroglancer.shaders.rgb())\n",
    "# viewer.add(dataset5, \"times10\", shader=nyroglancer.shaders.rgb())\n",
    "# viewer.add(dataset6[1,:,:,:], \"times100\")\n",
    "# viewer.add(dataset6_affs, \"affs_times100\", shader=nyroglancer.shaders.rgb())\n",
    "\n",
    "# viewer.add(dataset7[1,:,:,:], \"bc\")\n",
    "# viewer.add(dataset7_affs, \"bc_affs\", shader=nyroglancer.shaders.rgb())\n",
    "print(dataset7[0,0,:,:,:])\n",
    "\n",
    "\n",
    "viewer.add(dataset7[0,:,0,:,:], \"bc_mc\")\n",
    "# viewer.add(dataset8_affs, \"bc_mc_affs\", shader=nyroglancer.shaders.rgb())\n",
    "\n",
    "\n",
    "viewer.set_hostname('localhost:8880')\n",
    "viewer.set_large()\n",
    "viewer.show()"
   ]
  },
  {
   "cell_type": "markdown",
   "metadata": {},
   "source": [
    "import nyroglancer\n",
    "import numpy as np\n",
    "import h5py\n",
    "\n",
    "viewer = nyroglancer.Hdf5Viewer()\n",
    "for i in range(4):\n",
    "    dataset = h5py.File('../snapshots/prob_unet/setup_12/prediction_0000000{}.hdf'.format(i), 'r')['volumes/pred_affs']\n",
    "    print(dataset.shape)\n",
    "    viewer.add_dataset(dataset, \"pred_%i\"%(i+1))\n",
    "\n",
    "\n",
    "viewer.set_hostname('localhost:8880')\n",
    "viewer.set_large()\n",
    "viewer.show()"
   ]
  },
  {
   "cell_type": "code",
   "execution_count": 1321,
   "metadata": {},
   "outputs": [
    {
     "name": "stdout",
     "output_type": "stream",
     "text": [
      "Adding dataset ../snapshots/prob_unet/setup_15/batch_1.hdf/volumes/gt_affs_in as 1\n",
      "Adding dataset ../snapshots/prob_unet/setup_15/batch_1.hdf/volumes/gt_affs_out as 2\n",
      "Adding dataset ../snapshots/prob_unet/setup_15/batch_1.hdf/volumes/labels as 3\n",
      "Adding dataset ../snapshots/prob_unet/setup_15/batch_1.hdf/volumes/merged_labels as 4\n",
      "Adding dataset ../snapshots/prob_unet/setup_15/batch_1.hdf/volumes/pred_affs as 5\n",
      "Adding dataset ../snapshots/prob_unet/setup_15/batch_1.hdf/volumes/raw as 6\n",
      "Adding dataset ../snapshots/prob_unet/setup_15/batch_1.hdf/volumes/raw_affs as 7\n"
     ]
    },
    {
     "data": {
      "text/html": [
       "<style>.container { width:100% !important; }</style><iframe src=\"http://localhost:8880/neuroglancer#!%7B%22layers%22:%7B%22../snapshots/prob_unet/setup_15/batch_1.hdf/volumes/gt_affs_in%22:%7B%22source%22:%22python://http://localhost:8880/db71dd9c98664a861c2b33d4872ab98bc749d52a%22,%22type%22:%22image%22,%22shader%22:%22void%20main()%20%7B%20emitRGB(vec3(toNormalized(getDataValue(0)),toNormalized(getDataValue(1)),toNormalized(getDataValue(2))));%20%7D%22%7D,%22../snapshots/prob_unet/setup_15/batch_1.hdf/volumes/gt_affs_out%22:%7B%22source%22:%22python://http://localhost:8880/312b3eb6b27339846fe2babb9709870a6c34e7f5%22,%22type%22:%22image%22,%22shader%22:%22void%20main()%20%7B%20emitRGB(vec3(toNormalized(getDataValue(0)),toNormalized(getDataValue(1)),toNormalized(getDataValue(2))));%20%7D%22%7D,%22../snapshots/prob_unet/setup_15/batch_1.hdf/volumes/labels%22:%7B%22source%22:%22python://http://localhost:8880/d8674cd73d39752d941c13f325114f20ec1bcafc%22,%22type%22:%22segmentation%22%7D,%22../snapshots/prob_unet/setup_15/batch_1.hdf/volumes/merged_labels%22:%7B%22source%22:%22python://http://localhost:8880/f83d6b407be920c99a4c036a83a29f954a9a3bbb%22,%22type%22:%22segmentation%22%7D,%22../snapshots/prob_unet/setup_15/batch_1.hdf/volumes/pred_affs%22:%7B%22source%22:%22python://http://localhost:8880/d51863905834c2884bf686e2ca9e177e7fbc8890%22,%22type%22:%22image%22,%22shader%22:%22void%20main()%20%7B%20emitRGB(vec3(toNormalized(getDataValue(0)),toNormalized(getDataValue(1)),toNormalized(getDataValue(2))));%20%7D%22%7D,%22../snapshots/prob_unet/setup_15/batch_1.hdf/volumes/raw%22:%7B%22source%22:%22python://http://localhost:8880/25d24dc54884cb4c3384ad1451dc6d96e994f558%22,%22type%22:%22image%22%7D,%22../snapshots/prob_unet/setup_15/batch_1.hdf/volumes/raw_affs%22:%7B%22source%22:%22python://http://localhost:8880/29487772a5018cd03e94bd0397035ae6b3f275f8%22,%22type%22:%22image%22,%22shader%22:%22void%20main()%20%7B%20emitRGB(vec3(toNormalized(getDataValue(0)),toNormalized(getDataValue(1)),toNormalized(getDataValue(2))));%20%7D%22%7D%7D%7D\" width=\"100%\" height=\"1024px\"><\\iframe>"
      ],
      "text/plain": [
       "<IPython.core.display.HTML object>"
      ]
     },
     "execution_count": 1321,
     "metadata": {},
     "output_type": "execute_result"
    }
   ],
   "source": [
    "import nyroglancer\n",
    "import numpy as np\n",
    "\n",
    "filename = '../snapshots/prob_unet/setup_15/batch_1.hdf'\n",
    "\n",
    "viewer = nyroglancer.Hdf5Viewer(filename)\n",
    "viewer.set_hostname('localhost:8880')\n",
    "viewer.set_large()\n",
    "viewer.show()"
   ]
  },
  {
   "cell_type": "markdown",
   "metadata": {
    "scrolled": false
   },
   "source": [
    "### import nyroglancer\n",
    "import numpy as np\n",
    "\n",
    "filename = '../snapshots/prob_unet/setup_12/batch_98001.hdf'\n",
    "\n",
    "viewer = nyroglancer.Hdf5Viewer(filename)\n",
    "viewer.set_hostname('localhost:8880')\n",
    "viewer.set_large()\n",
    "viewer.show()"
   ]
  },
  {
   "cell_type": "code",
   "execution_count": 204,
   "metadata": {},
   "outputs": [
    {
     "name": "stdout",
     "output_type": "stream",
     "text": [
      "Adding dataset ../snapshots/prob_unet/setup_12/batch_2001.hdf/volumes/gt_affs as 1\n",
      "Adding dataset ../snapshots/prob_unet/setup_12/batch_2001.hdf/volumes/labels as 2\n",
      "Adding dataset ../snapshots/prob_unet/setup_12/batch_2001.hdf/volumes/merged_labels as 3\n",
      "Adding dataset ../snapshots/prob_unet/setup_12/batch_2001.hdf/volumes/raw as 4\n",
      "Adding dataset ../snapshots/prob_unet/setup_12/batch_2001.hdf/volumes/raw_affs as 5\n"
     ]
    },
    {
     "data": {
      "text/html": [
       "<style>.container { width:100% !important; }</style><iframe src=\"http://localhost:8880/neuroglancer#!%7B%22layers%22:%7B%22../snapshots/prob_unet/setup_12/batch_2001.hdf/volumes/gt_affs%22:%7B%22source%22:%22python://http://localhost:8880/d0dbb5c606e1d9af4a3aefa6cbaf7c92ca088bcf%22,%22type%22:%22image%22,%22shader%22:%22void%20main()%20%7B%20emitRGB(vec3(toNormalized(getDataValue(0)),toNormalized(getDataValue(1)),toNormalized(getDataValue(2))));%20%7D%22%7D,%22../snapshots/prob_unet/setup_12/batch_2001.hdf/volumes/labels%22:%7B%22source%22:%22python://http://localhost:8880/1a408bc0364977dca53114f16626cbf414f1f988%22,%22type%22:%22segmentation%22%7D,%22../snapshots/prob_unet/setup_12/batch_2001.hdf/volumes/merged_labels%22:%7B%22source%22:%22python://http://localhost:8880/64a114fc5e18576bd9cfb70d2326aecd8b745607%22,%22type%22:%22segmentation%22%7D,%22../snapshots/prob_unet/setup_12/batch_2001.hdf/volumes/raw%22:%7B%22source%22:%22python://http://localhost:8880/c78d257f824f83fa1b312fd6427c561204514809%22,%22type%22:%22image%22%7D,%22../snapshots/prob_unet/setup_12/batch_2001.hdf/volumes/raw_affs%22:%7B%22source%22:%22python://http://localhost:8880/8eefd201587df84c568f1f7f2ed056a93986fb47%22,%22type%22:%22image%22,%22shader%22:%22void%20main()%20%7B%20emitRGB(vec3(toNormalized(getDataValue(0)),toNormalized(getDataValue(1)),toNormalized(getDataValue(2))));%20%7D%22%7D%7D%7D\" width=\"100%\" height=\"1024px\"><\\iframe>"
      ],
      "text/plain": [
       "<IPython.core.display.HTML object>"
      ]
     },
     "execution_count": 204,
     "metadata": {},
     "output_type": "execute_result"
    }
   ],
   "source": [
    "import nyroglancer\n",
    "import numpy as np\n",
    "\n",
    "filename = '../snapshots/prob_unet/setup_12/batch_2001.hdf'\n",
    "\n",
    "viewer = nyroglancer.Hdf5Viewer(filename)\n",
    "viewer.set_hostname('localhost:8880')\n",
    "viewer.set_large()\n",
    "viewer.show()"
   ]
  },
  {
   "cell_type": "code",
   "execution_count": null,
   "metadata": {},
   "outputs": [],
   "source": []
  }
 ],
 "metadata": {
  "kernelspec": {
   "display_name": "Python 2",
   "language": "python",
   "name": "python2"
  },
  "language_info": {
   "codemirror_mode": {
    "name": "ipython",
    "version": 2
   },
   "file_extension": ".py",
   "mimetype": "text/x-python",
   "name": "python",
   "nbconvert_exporter": "python",
   "pygments_lexer": "ipython2",
   "version": "2.7.12"
  }
 },
 "nbformat": 4,
 "nbformat_minor": 2
}
