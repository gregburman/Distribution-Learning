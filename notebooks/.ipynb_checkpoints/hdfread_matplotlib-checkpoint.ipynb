{
 "cells": [
  {
   "cell_type": "code",
   "execution_count": 53,
   "metadata": {},
   "outputs": [
    {
     "data": {
      "image/png": "[encoded data removed]",
      "text/plain": [
       "<Figure size 432x288 with 20 Axes>"
      ]
     },
     "metadata": {},
     "output_type": "display_data"
    }
   ],
   "source": [
    "import matplotlib.pyplot as plt\n",
    "import numpy as np\n",
    "import h5py\n",
    "\n",
    "num_samples = 10\n",
    "\n",
    "f = h5py.File('../tests/snapshots/data_00000000.hdf', 'r')\n",
    "volumes = f['volumes']\n",
    "labels = volumes['labels']\n",
    "raw = volumes['raw']\n",
    "\n",
    "f, axes = plt.subplots(2, num_samples)\n",
    "\n",
    "for i in xrange(len(axes)):\n",
    "    for j, ax in enumerate(axes[i]):\n",
    "        if i == 0:\n",
    "            ax.imshow(labels[i], aspect='auto')\n",
    "        elif i == 1:\n",
    "            ax.imshow(raw[i], cmap=\"Greys_r\", aspect='auto')\n",
    "        ax.get_xaxis().set_ticks([])\n",
    "        ax.get_yaxis().set_ticks([])\n"
   ]
  },
  {
   "cell_type": "code",
   "execution_count": null,
   "metadata": {},
   "outputs": [],
   "source": []
  }
 ],
 "metadata": {
  "kernelspec": {
   "display_name": "Python 2",
   "language": "python",
   "name": "python2"
  },
  "language_info": {
   "codemirror_mode": {
    "name": "ipython",
    "version": 2
   },
   "file_extension": ".py",
   "mimetype": "text/x-python",
   "name": "python",
   "nbconvert_exporter": "python",
   "pygments_lexer": "ipython2",
   "version": "2.7.12"
  }
 },
 "nbformat": 4,
 "nbformat_minor": 2
}
