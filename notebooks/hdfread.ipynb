{
 "cells": [
  {
   "cell_type": "code",
   "execution_count": 482,
   "metadata": {
    "scrolled": false
   },
   "outputs": [
    {
     "name": "stdout",
     "output_type": "stream",
     "text": [
      "Closing previously open ../snapshots/batch_2451.hdf\n",
      "Adding dataset ../snapshots/batch_2451.hdf/volumes/joined_affinities as 1\n",
      "Adding dataset ../snapshots/batch_2451.hdf/volumes/labels/labels as 2\n",
      "Adding dataset ../snapshots/batch_2451.hdf/volumes/pred_affinities as 3\n",
      "Adding dataset ../snapshots/batch_2451.hdf/volumes/raw as 4\n"
     ]
    },
    {
     "data": {
      "text/html": [
       "<iframe src=\"http://localhost:8880/neuroglancer#!%7B%22layers%22:%7B%22../snapshots/batch_2451.hdf/volumes/joined_affinities%22:%7B%22source%22:%22python://http://localhost:8880/15881e121806f72135a4feec21af7729e8fcd94d%22,%22type%22:%22image%22%7D,%22../snapshots/batch_2451.hdf/volumes/labels/labels%22:%7B%22source%22:%22python://http://localhost:8880/de25bcda7eb56ac95412d57ac4aa3fe922f10c31%22,%22type%22:%22segmentation%22%7D,%22../snapshots/batch_2451.hdf/volumes/pred_affinities%22:%7B%22source%22:%22python://http://localhost:8880/bb10642e0c067d3bf3d1ae3435a49e8d162369d0%22,%22type%22:%22image%22,%22shader%22:%22void%20main()%20%7B%20emitRGB(vec3(toNormalized(getDataValue(0)),toNormalized(getDataValue(1)),toNormalized(getDataValue(2))));%20%7D%22%7D,%22../snapshots/batch_2451.hdf/volumes/raw%22:%7B%22source%22:%22python://http://localhost:8880/6c7d672de09103383346a87c5b2b6759c4aee3bb%22,%22type%22:%22image%22%7D%7D%7D\" width=\"100%\" height=\"1024px\"><\\iframe>"
      ],
      "text/plain": [
       "<IPython.core.display.HTML object>"
      ]
     },
     "execution_count": 482,
     "metadata": {},
     "output_type": "execute_result"
    }
   ],
   "source": [
    "import nyroglancer\n",
    "import numpy as np\n",
    "import h5py\n",
    "\n",
    "filename = '../snapshots/batch_2451.hdf'\n",
    "# f = h5py.File(filename, 'r')\n",
    "# volumes = f['volumes'].value\n",
    "# labels = volumes['labels'].value\n",
    "# f.close()\n",
    "\n",
    "# filename = '../snapshots/affmaps/00000000.hdf'\n",
    "# f = h5py.File(filename, 'r')\n",
    "# affmap = f['affmap'].value \n",
    "# f.close()\n",
    "\n",
    "# filename = '../snapshots/raw/00000000.hdf'\n",
    "# f = h5py.File(filename, 'r')\n",
    "# f.close()\n",
    "\n",
    "viewer = nyroglancer.Hdf5Viewer(filename)\n",
    "# viewer.add(labels.astype(np.uint16), name='labels', voxel_size=[1, 1, 1])\n",
    "# # viewer.add(affmap.astype(np.float32), name='affmaps', voxel_size=[1, 1, 1])\n",
    "# viewer.add(raw.astype(np.float32)/255, name='raw', voxel_size=[1, 1, 1])\n",
    "viewer.set_hostname('localhost:8880')\n",
    "\n",
    "viewer.show()\n"
   ]
  },
  {
   "cell_type": "code",
   "execution_count": null,
   "metadata": {},
   "outputs": [],
   "source": []
  },
  {
   "cell_type": "code",
   "execution_count": null,
   "metadata": {},
   "outputs": [],
   "source": []
  }
 ],
 "metadata": {
  "kernelspec": {
   "display_name": "Python 2",
   "language": "python",
   "name": "python2"
  },
  "language_info": {
   "codemirror_mode": {
    "name": "ipython",
    "version": 2
   },
   "file_extension": ".py",
   "mimetype": "text/x-python",
   "name": "python",
   "nbconvert_exporter": "python",
   "pygments_lexer": "ipython2",
   "version": "2.7.12"
  }
 },
 "nbformat": 4,
 "nbformat_minor": 2
}
