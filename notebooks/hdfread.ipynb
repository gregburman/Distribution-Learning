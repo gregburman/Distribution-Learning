{
 "cells": [
  {
   "cell_type": "code",
   "execution_count": 2119,
   "metadata": {
    "scrolled": false
   },
   "outputs": [
    {
     "data": {
      "text/html": [
       "<iframe src=\"http://localhost:8880/neuroglancer#!%7B%22layers%22:%7B%22raw%22:%7B%22source%22:%22python://http://localhost:8880/cbebbf55c7a9f1eb5e5b08ee1ef89579cda0753d%22,%22type%22:%22segmentation%22%7D%7D%7D\" width=\"100%\" height=\"1024px\"><\\iframe>"
      ],
      "text/plain": [
       "<IPython.core.display.HTML object>"
      ]
     },
     "execution_count": 2119,
     "metadata": {},
     "output_type": "execute_result"
    }
   ],
   "source": [
    "import nyroglancer\n",
    "import numpy as np\n",
    "import h5py\n",
    "\n",
    "filename = '../snapshots/labels/00000000.hdf'\n",
    "f = h5py.File(filename, 'r')\n",
    "labels = f['labels'].value \n",
    "f.close()\n",
    "\n",
    "filename = '../snapshots/affmap/00000000.hdf'\n",
    "f = h5py.File(filename, 'r')\n",
    "affmap = f['affmap'].value \n",
    "f.close()\n",
    "\n",
    "filename = '../snapshots/raw/00000000.hdf'\n",
    "f = h5py.File(filename, 'r')\n",
    "raw = f['raw'].value*255\n",
    "# print (raw*128).astype(np.uint32)\n",
    "f.close()\n",
    "\n",
    "viewer = nyroglancer.Viewer()\n",
    "# viewer.add(labels.astype(np.uint32), name='labels', voxel_size=[1, 1, 1])\n",
    "# viewer.add(affmap.astype(np.uint32), name='affmaps', voxel_size=[1, 1, 1])\n",
    "viewer.add(raw.astype(np.uint32), name='raw', voxel_size=[1, 1, 1])\n",
    "viewer.set_hostname('localhost:8880')\n",
    "\n",
    "viewer.show()\n"
   ]
  },
  {
   "cell_type": "code",
   "execution_count": null,
   "metadata": {},
   "outputs": [],
   "source": []
  },
  {
   "cell_type": "code",
   "execution_count": null,
   "metadata": {},
   "outputs": [],
   "source": []
  }
 ],
 "metadata": {
  "kernelspec": {
   "display_name": "Python 2",
   "language": "python",
   "name": "python2"
  },
  "language_info": {
   "codemirror_mode": {
    "name": "ipython",
    "version": 2
   },
   "file_extension": ".py",
   "mimetype": "text/x-python",
   "name": "python",
   "nbconvert_exporter": "python",
   "pygments_lexer": "ipython2",
   "version": "2.7.12"
  }
 },
 "nbformat": 4,
 "nbformat_minor": 2
}
