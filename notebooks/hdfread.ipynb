{
 "cells": [
  {
   "cell_type": "code",
   "execution_count": 1786,
   "metadata": {
    "scrolled": false
   },
   "outputs": [
    {
     "name": "stdout",
     "output_type": "stream",
     "text": [
      "Adding dataset ../snapshots/batch_2501.hdf/volumes/input_affinities_key as 1\n",
      "Adding dataset ../snapshots/batch_2501.hdf/volumes/labels/labels as 2\n",
      "Adding dataset ../snapshots/batch_2501.hdf/volumes/output_affinities_key as 3\n",
      "Adding dataset ../snapshots/batch_2501.hdf/volumes/pred_affinities as 4\n",
      "Adding dataset ../snapshots/batch_2501.hdf/volumes/raw as 5\n"
     ]
    },
    {
     "data": {
      "text/html": [
       "<iframe src=\"http://localhost:8880/neuroglancer#!%7B%22layers%22:%7B%22../snapshots/batch_2501.hdf/volumes/input_affinities_key%22:%7B%22source%22:%22python://http://localhost:8880/d65c5f6e00e32d5c08fd92e9ea3b943cf0a488ec%22,%22type%22:%22image%22,%22shader%22:%22void%20main()%20%7B%20emitRGB(vec3(toNormalized(getDataValue(0)),toNormalized(getDataValue(1)),toNormalized(getDataValue(2))));%20%7D%22%7D,%22../snapshots/batch_2501.hdf/volumes/labels/labels%22:%7B%22source%22:%22python://http://localhost:8880/98e3fbfe10f94e0a087f7773cea7309518589a1b%22,%22type%22:%22segmentation%22%7D,%22../snapshots/batch_2501.hdf/volumes/output_affinities_key%22:%7B%22source%22:%22python://http://localhost:8880/ff8f673309b3a1752b86332c4f538817a5af8408%22,%22type%22:%22image%22,%22shader%22:%22void%20main()%20%7B%20emitRGB(vec3(toNormalized(getDataValue(0)),toNormalized(getDataValue(1)),toNormalized(getDataValue(2))));%20%7D%22%7D,%22../snapshots/batch_2501.hdf/volumes/pred_affinities%22:%7B%22source%22:%22python://http://localhost:8880/75f58ff69ace16506fe778b291403a48e5af9cb5%22,%22type%22:%22image%22,%22shader%22:%22void%20main()%20%7B%20emitRGB(vec3(toNormalized(getDataValue(0)),toNormalized(getDataValue(1)),toNormalized(getDataValue(2))));%20%7D%22%7D,%22../snapshots/batch_2501.hdf/volumes/raw%22:%7B%22source%22:%22python://http://localhost:8880/828b29b76ac58a9aff321f72b7c99b23529a77f9%22,%22type%22:%22image%22%7D%7D%7D\" width=\"100%\" height=\"1024px\"><\\iframe>"
      ],
      "text/plain": [
       "<IPython.core.display.HTML object>"
      ]
     },
     "execution_count": 1786,
     "metadata": {},
     "output_type": "execute_result"
    }
   ],
   "source": [
    "import nyroglancer\n",
    "import numpy as np\n",
    "import h5py\n",
    "\n",
    "filename = '../snapshots/batch_2501.hdf'\n",
    "\n",
    "viewer = nyroglancer.Hdf5Viewer(filename)\n",
    "viewer.set_hostname('localhost:8880')\n",
    "viewer.show()"
   ]
  },
  {
   "cell_type": "code",
   "execution_count": 1858,
   "metadata": {},
   "outputs": [
    {
     "name": "stdout",
     "output_type": "stream",
     "text": [
      "Adding dataset ../snapshots/batch_3501.hdf/volumes/input_affinities_key as 1\n",
      "Adding dataset ../snapshots/batch_3501.hdf/volumes/labels/labels as 2\n",
      "Adding dataset ../snapshots/batch_3501.hdf/volumes/output_affinities_key as 3\n",
      "Adding dataset ../snapshots/batch_3501.hdf/volumes/pred_affinities as 4\n",
      "Adding dataset ../snapshots/batch_3501.hdf/volumes/raw as 5\n"
     ]
    },
    {
     "data": {
      "text/html": [
       "<iframe src=\"http://localhost:8880/neuroglancer#!%7B%22layers%22:%7B%22../snapshots/batch_3501.hdf/volumes/input_affinities_key%22:%7B%22source%22:%22python://http://localhost:8880/c7ed5c25e2c210951bf6344fbf2cae57f03179aa%22,%22type%22:%22image%22,%22shader%22:%22void%20main()%20%7B%20emitRGB(vec3(toNormalized(getDataValue(0)),toNormalized(getDataValue(1)),toNormalized(getDataValue(2))));%20%7D%22%7D,%22../snapshots/batch_3501.hdf/volumes/labels/labels%22:%7B%22source%22:%22python://http://localhost:8880/7607b6017db3699fd8f7de1ba06e830d57275566%22,%22type%22:%22segmentation%22%7D,%22../snapshots/batch_3501.hdf/volumes/output_affinities_key%22:%7B%22source%22:%22python://http://localhost:8880/d00472c7efc90b8284d1a472680a7c8a32f6b650%22,%22type%22:%22image%22,%22shader%22:%22void%20main()%20%7B%20emitRGB(vec3(toNormalized(getDataValue(0)),toNormalized(getDataValue(1)),toNormalized(getDataValue(2))));%20%7D%22%7D,%22../snapshots/batch_3501.hdf/volumes/pred_affinities%22:%7B%22source%22:%22python://http://localhost:8880/2476f05a26a14c619a34d61a29692a3b88e68cc0%22,%22type%22:%22image%22,%22shader%22:%22void%20main()%20%7B%20emitRGB(vec3(toNormalized(getDataValue(0)),toNormalized(getDataValue(1)),toNormalized(getDataValue(2))));%20%7D%22%7D,%22../snapshots/batch_3501.hdf/volumes/raw%22:%7B%22source%22:%22python://http://localhost:8880/c57080b56ff58cfc88fe2bfb5e4810dd44ef655c%22,%22type%22:%22image%22%7D%7D%7D\" width=\"100%\" height=\"1024px\"><\\iframe>"
      ],
      "text/plain": [
       "<IPython.core.display.HTML object>"
      ]
     },
     "execution_count": 1858,
     "metadata": {},
     "output_type": "execute_result"
    }
   ],
   "source": [
    "filename = '../snapshots/batch_3501.hdf'\n",
    "# filename = '../snapshots/tests/non-isotropic.hdf'\n",
    "\n",
    "viewer = nyroglancer.Hdf5Viewer(filename)\n",
    "viewer.set_hostname('localhost:8880')\n",
    "viewer.show()"
   ]
  },
  {
   "cell_type": "code",
   "execution_count": null,
   "metadata": {},
   "outputs": [],
   "source": []
  }
 ],
 "metadata": {
  "kernelspec": {
   "display_name": "Python 2",
   "language": "python",
   "name": "python2"
  },
  "language_info": {
   "codemirror_mode": {
    "name": "ipython",
    "version": 2
   },
   "file_extension": ".py",
   "mimetype": "text/x-python",
   "name": "python",
   "nbconvert_exporter": "python",
   "pygments_lexer": "ipython2",
   "version": "2.7.12"
  }
 },
 "nbformat": 4,
 "nbformat_minor": 2
}
