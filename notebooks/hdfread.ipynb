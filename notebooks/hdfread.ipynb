{
 "cells": [
  {
   "cell_type": "code",
   "execution_count": 552,
   "metadata": {
    "scrolled": false
   },
   "outputs": [
    {
     "name": "stdout",
     "output_type": "stream",
     "text": [
      "Closing previously open ../snapshots/batch_51.hdf\n",
      "Adding dataset ../snapshots/batch_51.hdf/volumes/input_affinities_key as 1\n",
      "Adding dataset ../snapshots/batch_51.hdf/volumes/labels/labels as 2\n",
      "Adding dataset ../snapshots/batch_51.hdf/volumes/output_affinities_key as 3\n",
      "Adding dataset ../snapshots/batch_51.hdf/volumes/pred_affinities as 4\n",
      "Adding dataset ../snapshots/batch_51.hdf/volumes/raw as 5\n"
     ]
    },
    {
     "data": {
      "text/html": [
       "<iframe src=\"http://localhost:8880/neuroglancer#!%7B%22layers%22:%7B%22../snapshots/batch_51.hdf/volumes/input_affinities_key%22:%7B%22source%22:%22python://http://localhost:8880/ce04dd64f4419358f2a6e5799fe8eead72bfb8db%22,%22type%22:%22image%22,%22shader%22:%22void%20main()%20%7B%20emitRGB(vec3(toNormalized(getDataValue(0)),toNormalized(getDataValue(1)),toNormalized(getDataValue(2))));%20%7D%22%7D,%22../snapshots/batch_51.hdf/volumes/labels/labels%22:%7B%22source%22:%22python://http://localhost:8880/a797b549d8b68f33c18efebf5a80e867f75b07bd%22,%22type%22:%22segmentation%22%7D,%22../snapshots/batch_51.hdf/volumes/output_affinities_key%22:%7B%22source%22:%22python://http://localhost:8880/f873402e51520156c92a32bdb262effa72b7fb1b%22,%22type%22:%22image%22,%22shader%22:%22void%20main()%20%7B%20emitRGB(vec3(toNormalized(getDataValue(0)),toNormalized(getDataValue(1)),toNormalized(getDataValue(2))));%20%7D%22%7D,%22../snapshots/batch_51.hdf/volumes/pred_affinities%22:%7B%22source%22:%22python://http://localhost:8880/21246d64a545c831a1e05baed46c41093e38222c%22,%22type%22:%22image%22,%22shader%22:%22void%20main()%20%7B%20emitRGB(vec3(toNormalized(getDataValue(0)),toNormalized(getDataValue(1)),toNormalized(getDataValue(2))));%20%7D%22%7D,%22../snapshots/batch_51.hdf/volumes/raw%22:%7B%22source%22:%22python://http://localhost:8880/16f5af5756ec9481d47d341e7cb8bce02065f94a%22,%22type%22:%22image%22%7D%7D%7D\" width=\"100%\" height=\"1024px\"><\\iframe>"
      ],
      "text/plain": [
       "<IPython.core.display.HTML object>"
      ]
     },
     "execution_count": 552,
     "metadata": {},
     "output_type": "execute_result"
    }
   ],
   "source": [
    "import nyroglancer\n",
    "import numpy as np\n",
    "import h5py\n",
    "\n",
    "filename = '../snapshots/batch_51.hdf'\n",
    "\n",
    "viewer = nyroglancer.Hdf5Viewer(filename)\n",
    "viewer.set_hostname('localhost:8880')\n",
    "viewer.show()"
   ]
  },
  {
   "cell_type": "code",
   "execution_count": 631,
   "metadata": {},
   "outputs": [
    {
     "name": "stdout",
     "output_type": "stream",
     "text": [
      "Adding dataset ../snapshots/batch_9951.hdf/volumes/input_affinities_key as 1\n",
      "Adding dataset ../snapshots/batch_9951.hdf/volumes/labels/labels as 2\n",
      "Adding dataset ../snapshots/batch_9951.hdf/volumes/output_affinities_key as 3\n",
      "Adding dataset ../snapshots/batch_9951.hdf/volumes/pred_affinities as 4\n",
      "Adding dataset ../snapshots/batch_9951.hdf/volumes/raw as 5\n"
     ]
    },
    {
     "data": {
      "text/html": [
       "<iframe src=\"http://localhost:8880/neuroglancer#!%7B%22layers%22:%7B%22../snapshots/batch_9951.hdf/volumes/input_affinities_key%22:%7B%22source%22:%22python://http://localhost:8880/9ab2b7f75117fd27480442f328817dec776b833a%22,%22type%22:%22image%22,%22shader%22:%22void%20main()%20%7B%20emitRGB(vec3(toNormalized(getDataValue(0)),toNormalized(getDataValue(1)),toNormalized(getDataValue(2))));%20%7D%22%7D,%22../snapshots/batch_9951.hdf/volumes/labels/labels%22:%7B%22source%22:%22python://http://localhost:8880/4aacb8de91ad0f8e474970d7790c46695e4af559%22,%22type%22:%22segmentation%22%7D,%22../snapshots/batch_9951.hdf/volumes/output_affinities_key%22:%7B%22source%22:%22python://http://localhost:8880/338d905c032e1cd4ed4bc32b145d517e97dc3987%22,%22type%22:%22image%22,%22shader%22:%22void%20main()%20%7B%20emitRGB(vec3(toNormalized(getDataValue(0)),toNormalized(getDataValue(1)),toNormalized(getDataValue(2))));%20%7D%22%7D,%22../snapshots/batch_9951.hdf/volumes/pred_affinities%22:%7B%22source%22:%22python://http://localhost:8880/b01e4e8635b6cacc0a7cacb537a04bd23c54d578%22,%22type%22:%22image%22,%22shader%22:%22void%20main()%20%7B%20emitRGB(vec3(toNormalized(getDataValue(0)),toNormalized(getDataValue(1)),toNormalized(getDataValue(2))));%20%7D%22%7D,%22../snapshots/batch_9951.hdf/volumes/raw%22:%7B%22source%22:%22python://http://localhost:8880/bbc2bb05a5bdca049b66d73784961631c352b10b%22,%22type%22:%22image%22%7D%7D%7D\" width=\"100%\" height=\"1024px\"><\\iframe>"
      ],
      "text/plain": [
       "<IPython.core.display.HTML object>"
      ]
     },
     "execution_count": 631,
     "metadata": {},
     "output_type": "execute_result"
    }
   ],
   "source": [
    "filename = '../snapshots/batch_9951.hdf'\n",
    "# filename = '../snapshots/tests/non-isotropic.hdf'\n",
    "\n",
    "viewer = nyroglancer.Hdf5Viewer(filename)\n",
    "viewer.set_hostname('localhost:8880')\n",
    "viewer.show()"
   ]
  },
  {
   "cell_type": "code",
   "execution_count": null,
   "metadata": {},
   "outputs": [],
   "source": []
  }
 ],
 "metadata": {
  "kernelspec": {
   "display_name": "Python 2",
   "language": "python",
   "name": "python2"
  },
  "language_info": {
   "codemirror_mode": {
    "name": "ipython",
    "version": 2
   },
   "file_extension": ".py",
   "mimetype": "text/x-python",
   "name": "python",
   "nbconvert_exporter": "python",
   "pygments_lexer": "ipython2",
   "version": "2.7.12"
  }
 },
 "nbformat": 4,
 "nbformat_minor": 2
}
