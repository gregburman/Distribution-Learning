{
 "cells": [
  {
   "cell_type": "code",
   "execution_count": 1,
   "metadata": {
    "scrolled": false
   },
   "outputs": [
    {
     "name": "stdout",
     "output_type": "stream",
     "text": [
      "Adding dataset ../snapshots/unet/train/batch_251.hdf/volumes/labels/labels as 1\n",
      "Adding dataset ../snapshots/unet/train/batch_251.hdf/volumes/output_affs as 2\n",
      "Adding dataset ../snapshots/unet/train/batch_251.hdf/volumes/pred_affs as 3\n",
      "Adding dataset ../snapshots/unet/train/batch_251.hdf/volumes/raw as 4\n"
     ]
    },
    {
     "data": {
      "text/html": [
       "<iframe src=\"http://localhost:8880/neuroglancer#!%7B%22layers%22:%7B%22../snapshots/unet/train/batch_251.hdf/volumes/labels/labels%22:%7B%22source%22:%22python://http://localhost:8880/927b6d0dc205f689b157e3bc2e728ff32d624b97%22,%22type%22:%22segmentation%22%7D,%22../snapshots/unet/train/batch_251.hdf/volumes/output_affs%22:%7B%22source%22:%22python://http://localhost:8880/2241883e66e0f7ba3cf39f811e181cc7d9e9f205%22,%22type%22:%22image%22,%22shader%22:%22void%20main()%20%7B%20emitRGB(vec3(toNormalized(getDataValue(0)),toNormalized(getDataValue(1)),toNormalized(getDataValue(2))));%20%7D%22%7D,%22../snapshots/unet/train/batch_251.hdf/volumes/pred_affs%22:%7B%22source%22:%22python://http://localhost:8880/ab52930353f6d763eaad85ea3697f8fca0ff7a12%22,%22type%22:%22image%22,%22shader%22:%22void%20main()%20%7B%20emitRGB(vec3(toNormalized(getDataValue(0)),toNormalized(getDataValue(1)),toNormalized(getDataValue(2))));%20%7D%22%7D,%22../snapshots/unet/train/batch_251.hdf/volumes/raw%22:%7B%22source%22:%22python://http://localhost:8880/4d1c5ce831537b97e7e028aaaa24b91cd014c59f%22,%22type%22:%22image%22%7D%7D%7D\" width=\"100%\" height=\"1024px\"><\\iframe>"
      ],
      "text/plain": [
       "<IPython.core.display.HTML object>"
      ]
     },
     "execution_count": 1,
     "metadata": {},
     "output_type": "execute_result"
    }
   ],
   "source": [
    "import nyroglancer\n",
    "import numpy as np\n",
    "import h5py\n",
    "\n",
    "filename = '../snapshots/unet/train/batch_51.hdf'\n",
    "\n",
    "viewer = nyroglancer.Hdf5Viewer(filename)\n",
    "viewer.set_hostname('localhost:8880')\n",
    "viewer.show()"
   ]
  },
  {
   "cell_type": "code",
   "execution_count": 53,
   "metadata": {},
   "outputs": [
    {
     "name": "stdout",
     "output_type": "stream",
     "text": [
      "Adding dataset ../snapshots/unet/train/batch_51.hdf/volumes/labels/labels as 1\n",
      "Adding dataset ../snapshots/unet/train/batch_51.hdf/volumes/output_affs as 2\n",
      "Adding dataset ../snapshots/unet/train/batch_51.hdf/volumes/pred_affs as 3\n",
      "Adding dataset ../snapshots/unet/train/batch_51.hdf/volumes/raw as 4\n"
     ]
    },
    {
     "data": {
      "text/html": [
       "<iframe src=\"http://localhost:8880/neuroglancer#!%7B%22layers%22:%7B%22../snapshots/unet/train/batch_51.hdf/volumes/labels/labels%22:%7B%22source%22:%22python://http://localhost:8880/d5aee79ce6aae515ecf16200cfecaf51d5e11c7f%22,%22type%22:%22segmentation%22%7D,%22../snapshots/unet/train/batch_51.hdf/volumes/output_affs%22:%7B%22source%22:%22python://http://localhost:8880/bc39584ed256ff497631d5389b13b1406ceecb7b%22,%22type%22:%22image%22,%22shader%22:%22void%20main()%20%7B%20emitRGB(vec3(toNormalized(getDataValue(0)),toNormalized(getDataValue(1)),toNormalized(getDataValue(2))));%20%7D%22%7D,%22../snapshots/unet/train/batch_51.hdf/volumes/pred_affs%22:%7B%22source%22:%22python://http://localhost:8880/3394cc40904b522b67cadbf7ab5b500ee0a4aebf%22,%22type%22:%22image%22,%22shader%22:%22void%20main()%20%7B%20emitRGB(vec3(toNormalized(getDataValue(0)),toNormalized(getDataValue(1)),toNormalized(getDataValue(2))));%20%7D%22%7D,%22../snapshots/unet/train/batch_51.hdf/volumes/raw%22:%7B%22source%22:%22python://http://localhost:8880/81d46816e4011f73bee117f96a2a409a4f10da6f%22,%22type%22:%22image%22%7D%7D%7D\" width=\"100%\" height=\"1024px\"><\\iframe>"
      ],
      "text/plain": [
       "<IPython.core.display.HTML object>"
      ]
     },
     "execution_count": 53,
     "metadata": {},
     "output_type": "execute_result"
    }
   ],
   "source": [
    "filename = '../snapshots/unet/train/batch_51.hdf'\n",
    "\n",
    "viewer = nyroglancer.Hdf5Viewer(filename)\n",
    "viewer.set_hostname('localhost:8880')\n",
    "viewer.show()"
   ]
  },
  {
   "cell_type": "code",
   "execution_count": null,
   "metadata": {},
   "outputs": [],
   "source": []
  }
 ],
 "metadata": {
  "kernelspec": {
   "display_name": "Python 2",
   "language": "python",
   "name": "python2"
  },
  "language_info": {
   "codemirror_mode": {
    "name": "ipython",
    "version": 2
   },
   "file_extension": ".py",
   "mimetype": "text/x-python",
   "name": "python",
   "nbconvert_exporter": "python",
   "pygments_lexer": "ipython2",
   "version": "2.7.12"
  }
 },
 "nbformat": 4,
 "nbformat_minor": 2
}
