{
 "cells": [
  {
   "cell_type": "code",
   "execution_count": 1405,
   "metadata": {
    "scrolled": false
   },
   "outputs": [
    {
     "name": "stdout",
     "output_type": "stream",
     "text": [
      "Adding dataset ../snapshots/train/batch_201.hdf/volumes/input_affs as 1\n",
      "Adding dataset ../snapshots/train/batch_201.hdf/volumes/labels/labels as 2\n",
      "Adding dataset ../snapshots/train/batch_201.hdf/volumes/output_affs as 3\n",
      "Adding dataset ../snapshots/train/batch_201.hdf/volumes/pred_affs as 4\n",
      "Adding dataset ../snapshots/train/batch_201.hdf/volumes/raw as 5\n"
     ]
    },
    {
     "data": {
      "text/html": [
       "<iframe src=\"http://localhost:8880/neuroglancer#!%7B%22layers%22:%7B%22../snapshots/train/batch_201.hdf/volumes/input_affs%22:%7B%22source%22:%22python://http://localhost:8880/9cb2b0154049afb249a0425ec3028df489afc7d0%22,%22type%22:%22image%22,%22shader%22:%22void%20main()%20%7B%20emitRGB(vec3(toNormalized(getDataValue(0)),toNormalized(getDataValue(1)),toNormalized(getDataValue(2))));%20%7D%22%7D,%22../snapshots/train/batch_201.hdf/volumes/labels/labels%22:%7B%22source%22:%22python://http://localhost:8880/48ec6840243589ad36c7e0791f0634157dfd5180%22,%22type%22:%22segmentation%22%7D,%22../snapshots/train/batch_201.hdf/volumes/output_affs%22:%7B%22source%22:%22python://http://localhost:8880/de9c141882883a57c2919d6fa40a5ec2560cc8dc%22,%22type%22:%22image%22,%22shader%22:%22void%20main()%20%7B%20emitRGB(vec3(toNormalized(getDataValue(0)),toNormalized(getDataValue(1)),toNormalized(getDataValue(2))));%20%7D%22%7D,%22../snapshots/train/batch_201.hdf/volumes/pred_affs%22:%7B%22source%22:%22python://http://localhost:8880/bc20c84cc17f5e50c30fcc22cf7838609f2335a5%22,%22type%22:%22image%22,%22shader%22:%22void%20main()%20%7B%20emitRGB(vec3(toNormalized(getDataValue(0)),toNormalized(getDataValue(1)),toNormalized(getDataValue(2))));%20%7D%22%7D,%22../snapshots/train/batch_201.hdf/volumes/raw%22:%7B%22source%22:%22python://http://localhost:8880/bbe04b0a3041b101b4ea79bf9213870648ddffb8%22,%22type%22:%22image%22%7D%7D%7D\" width=\"100%\" height=\"1024px\"><\\iframe>"
      ],
      "text/plain": [
       "<IPython.core.display.HTML object>"
      ]
     },
     "execution_count": 1405,
     "metadata": {},
     "output_type": "execute_result"
    }
   ],
   "source": [
    "import nyroglancer\n",
    "import numpy as np\n",
    "import h5py\n",
    "\n",
    "filename = '../snapshots/train/batch_201.hdf'\n",
    "\n",
    "viewer = nyroglancer.Hdf5Viewer(filename)\n",
    "viewer.set_hostname('localhost:8880')\n",
    "viewer.show()"
   ]
  },
  {
   "cell_type": "code",
   "execution_count": 1345,
   "metadata": {},
   "outputs": [
    {
     "name": "stdout",
     "output_type": "stream",
     "text": [
      "Adding dataset ../snapshots/predict/batch_0.hdf/volumes/labels/labels as 1\n",
      "Adding dataset ../snapshots/predict/batch_0.hdf/volumes/pred_affs as 2\n",
      "Adding dataset ../snapshots/predict/batch_0.hdf/volumes/raw as 3\n",
      "Adding dataset ../snapshots/predict/batch_0.hdf/volumes/raw_affs as 4\n"
     ]
    },
    {
     "data": {
      "text/html": [
       "<iframe src=\"http://localhost:8880/neuroglancer#!%7B%22layers%22:%7B%22../snapshots/predict/batch_0.hdf/volumes/labels/labels%22:%7B%22source%22:%22python://http://localhost:8880/21c980dea7111d71b251e93a29a810aa33958842%22,%22type%22:%22segmentation%22%7D,%22../snapshots/predict/batch_0.hdf/volumes/pred_affs%22:%7B%22source%22:%22python://http://localhost:8880/6da2d4b9627ef71eda3e9643a97d0a1ca0b60416%22,%22type%22:%22image%22,%22shader%22:%22void%20main()%20%7B%20emitRGB(vec3(toNormalized(getDataValue(0)),toNormalized(getDataValue(1)),toNormalized(getDataValue(2))));%20%7D%22%7D,%22../snapshots/predict/batch_0.hdf/volumes/raw%22:%7B%22source%22:%22python://http://localhost:8880/95fb4c2143db52f48e22c4ff62581d00b67971a9%22,%22type%22:%22image%22%7D,%22../snapshots/predict/batch_0.hdf/volumes/raw_affs%22:%7B%22source%22:%22python://http://localhost:8880/b0bf978caeb2d2735bee50ca9b75416f5c5d5934%22,%22type%22:%22image%22,%22shader%22:%22void%20main()%20%7B%20emitRGB(vec3(toNormalized(getDataValue(0)),toNormalized(getDataValue(1)),toNormalized(getDataValue(2))));%20%7D%22%7D%7D%7D\" width=\"100%\" height=\"1024px\"><\\iframe>"
      ],
      "text/plain": [
       "<IPython.core.display.HTML object>"
      ]
     },
     "execution_count": 1345,
     "metadata": {},
     "output_type": "execute_result"
    }
   ],
   "source": [
    "filename = '../snapshots/predict/batch_0.hdf'\n",
    "\n",
    "viewer = nyroglancer.Hdf5Viewer(filename)\n",
    "viewer.set_hostname('localhost:8880')\n",
    "viewer.show()"
   ]
  },
  {
   "cell_type": "code",
   "execution_count": null,
   "metadata": {},
   "outputs": [],
   "source": []
  }
 ],
 "metadata": {
  "kernelspec": {
   "display_name": "Python 2",
   "language": "python",
   "name": "python2"
  },
  "language_info": {
   "codemirror_mode": {
    "name": "ipython",
    "version": 2
   },
   "file_extension": ".py",
   "mimetype": "text/x-python",
   "name": "python",
   "nbconvert_exporter": "python",
   "pygments_lexer": "ipython2",
   "version": "2.7.12"
  }
 },
 "nbformat": 4,
 "nbformat_minor": 2
}
