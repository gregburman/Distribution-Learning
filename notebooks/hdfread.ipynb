{
 "cells": [
  {
   "cell_type": "code",
   "execution_count": 105,
   "metadata": {
    "scrolled": false
   },
   "outputs": [
    {
     "name": "stdout",
     "output_type": "stream",
     "text": [
      "Adding dataset ../snapshots/unet/prediction.hdf/volumes/labels/labels as 1\n",
      "Adding dataset ../snapshots/unet/prediction.hdf/volumes/pred_affs as 2\n",
      "Adding dataset ../snapshots/unet/prediction.hdf/volumes/raw as 3\n",
      "Adding dataset ../snapshots/unet/prediction.hdf/volumes/raw_affs as 4\n"
     ]
    },
    {
     "data": {
      "text/html": [
       "<iframe src=\"http://localhost:8880/neuroglancer#!%7B%22layers%22:%7B%22../snapshots/unet/prediction.hdf/volumes/labels/labels%22:%7B%22source%22:%22python://http://localhost:8880/cea0047b0188543286bd635708d9e8cbcbae81f3%22,%22type%22:%22segmentation%22%7D,%22../snapshots/unet/prediction.hdf/volumes/pred_affs%22:%7B%22source%22:%22python://http://localhost:8880/d205ac71f6b14de1ade067d1bac84e3d61f2035b%22,%22type%22:%22image%22,%22shader%22:%22void%20main()%20%7B%20emitRGB(vec3(toNormalized(getDataValue(0)),toNormalized(getDataValue(1)),toNormalized(getDataValue(2))));%20%7D%22%7D,%22../snapshots/unet/prediction.hdf/volumes/raw%22:%7B%22source%22:%22python://http://localhost:8880/98e357e8759f685a5259381130565f3e9966954f%22,%22type%22:%22image%22%7D,%22../snapshots/unet/prediction.hdf/volumes/raw_affs%22:%7B%22source%22:%22python://http://localhost:8880/76a70581a91f14ce387cf5ada3fa44cdb94fb131%22,%22type%22:%22image%22,%22shader%22:%22void%20main()%20%7B%20emitRGB(vec3(toNormalized(getDataValue(0)),toNormalized(getDataValue(1)),toNormalized(getDataValue(2))));%20%7D%22%7D%7D%7D\" width=\"100%\" height=\"1024px\"><\\iframe>"
      ],
      "text/plain": [
       "<IPython.core.display.HTML object>"
      ]
     },
     "execution_count": 105,
     "metadata": {},
     "output_type": "execute_result"
    }
   ],
   "source": [
    "import nyroglancer\n",
    "import numpy as np\n",
    "import h5py\n",
    "\n",
    "filename = '../snapshots/unet/prediction.hdf'\n",
    "\n",
    "viewer = nyroglancer.Hdf5Viewer(filename)\n",
    "viewer.set_hostname('localhost:8880')\n",
    "viewer.show()"
   ]
  },
  {
   "cell_type": "code",
   "execution_count": 53,
   "metadata": {},
   "outputs": [
    {
     "name": "stdout",
     "output_type": "stream",
     "text": [
      "Adding dataset ../snapshots/unet/train/batch_2151.hdf/volumes/labels/labels as 1\n",
      "Adding dataset ../snapshots/unet/train/batch_2151.hdf/volumes/output_affs as 2\n",
      "Adding dataset ../snapshots/unet/train/batch_2151.hdf/volumes/pred_affs as 3\n",
      "Adding dataset ../snapshots/unet/train/batch_2151.hdf/volumes/raw as 4\n"
     ]
    },
    {
     "data": {
      "text/html": [
       "<iframe src=\"http://localhost:8880/neuroglancer#!%7B%22layers%22:%7B%22../snapshots/unet/train/batch_2151.hdf/volumes/labels/labels%22:%7B%22source%22:%22python://http://localhost:8880/d6052b4dc413e53ea5ca0923c3ca39bcb43113ca%22,%22type%22:%22segmentation%22%7D,%22../snapshots/unet/train/batch_2151.hdf/volumes/output_affs%22:%7B%22source%22:%22python://http://localhost:8880/35755a2d3eb77c405f2c5a6ca36a4191d13b17b1%22,%22type%22:%22image%22,%22shader%22:%22void%20main()%20%7B%20emitRGB(vec3(toNormalized(getDataValue(0)),toNormalized(getDataValue(1)),toNormalized(getDataValue(2))));%20%7D%22%7D,%22../snapshots/unet/train/batch_2151.hdf/volumes/pred_affs%22:%7B%22source%22:%22python://http://localhost:8880/672455eb3445b65f7edd080b70bc654e7654c37e%22,%22type%22:%22image%22,%22shader%22:%22void%20main()%20%7B%20emitRGB(vec3(toNormalized(getDataValue(0)),toNormalized(getDataValue(1)),toNormalized(getDataValue(2))));%20%7D%22%7D,%22../snapshots/unet/train/batch_2151.hdf/volumes/raw%22:%7B%22source%22:%22python://http://localhost:8880/36604c41b944f343ff9b5fd9615b8b9e5ea8bd47%22,%22type%22:%22image%22%7D%7D%7D\" width=\"100%\" height=\"1024px\"><\\iframe>"
      ],
      "text/plain": [
       "<IPython.core.display.HTML object>"
      ]
     },
     "execution_count": 53,
     "metadata": {},
     "output_type": "execute_result"
    }
   ],
   "source": [
    "filename = '../snapshots/unet/train/batch_2151.hdf'\n",
    "\n",
    "viewer = nyroglancer.Hdf5Viewer(filename)\n",
    "viewer.set_hostname('localhost:8880')\n",
    "viewer.show()"
   ]
  },
  {
   "cell_type": "code",
   "execution_count": null,
   "metadata": {},
   "outputs": [],
   "source": []
  }
 ],
 "metadata": {
  "kernelspec": {
   "display_name": "Python 2",
   "language": "python",
   "name": "python2"
  },
  "language_info": {
   "codemirror_mode": {
    "name": "ipython",
    "version": 2
   },
   "file_extension": ".py",
   "mimetype": "text/x-python",
   "name": "python",
   "nbconvert_exporter": "python",
   "pygments_lexer": "ipython2",
   "version": "2.7.12"
  }
 },
 "nbformat": 4,
 "nbformat_minor": 2
}
