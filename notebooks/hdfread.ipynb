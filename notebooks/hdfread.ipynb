{
 "cells": [
  {
   "cell_type": "code",
   "execution_count": 5,
   "metadata": {
    "scrolled": false
   },
   "outputs": [
    {
     "name": "stdout",
     "output_type": "stream",
     "text": [
      "Closing previously open ../snapshots/00000007.hdf\n",
      "Adding dataset ../snapshots/00000007.hdf/volumes/joined_affinities as 1\n",
      "Adding dataset ../snapshots/00000007.hdf/volumes/labels/labels as 2\n",
      "Adding dataset ../snapshots/00000007.hdf/volumes/pred_affinities as 3\n",
      "Adding dataset ../snapshots/00000007.hdf/volumes/raw as 4\n"
     ]
    },
    {
     "data": {
      "text/html": [
       "<iframe src=\"http://localhost:8880/neuroglancer#!%7B%22layers%22:%7B%22../snapshots/00000007.hdf/volumes/joined_affinities%22:%7B%22source%22:%22python://http://localhost:8880/7d577c235e47bc0eaaa9cecc4c075508f9ac6e11%22,%22type%22:%22image%22%7D,%22../snapshots/00000007.hdf/volumes/labels/labels%22:%7B%22source%22:%22python://http://localhost:8880/5dd03095f317202104948c4cec65f139d0921c9f%22,%22type%22:%22segmentation%22%7D,%22../snapshots/00000007.hdf/volumes/pred_affinities%22:%7B%22source%22:%22python://http://localhost:8880/73c55a4eaedfbf0cf1268921dd968a601e736f13%22,%22type%22:%22image%22,%22shader%22:%22void%20main()%20%7B%20emitRGB(vec3(toNormalized(getDataValue(0)),toNormalized(getDataValue(1)),toNormalized(getDataValue(2))));%20%7D%22%7D,%22../snapshots/00000007.hdf/volumes/raw%22:%7B%22source%22:%22python://http://localhost:8880/c95fc65529325427889b24593f11604a0d9296a1%22,%22type%22:%22image%22%7D%7D%7D\" width=\"100%\" height=\"1024px\"><\\iframe>"
      ],
      "text/plain": [
       "<IPython.core.display.HTML object>"
      ]
     },
     "execution_count": 5,
     "metadata": {},
     "output_type": "execute_result"
    }
   ],
   "source": [
    "import nyroglancer\n",
    "import numpy as np\n",
    "import h5py\n",
    "\n",
    "filename = '../snapshots/00000007.hdf'\n",
    "# f = h5py.File(filename, 'r')\n",
    "# volumes = f['volumes'].value\n",
    "# labels = volumes['labels'].value\n",
    "# f.close()\n",
    "\n",
    "# filename = '../snapshots/affmaps/00000000.hdf'\n",
    "# f = h5py.File(filename, 'r')\n",
    "# affmap = f['affmap'].value \n",
    "# f.close()\n",
    "\n",
    "# filename = '../snapshots/raw/00000000.hdf'\n",
    "# f = h5py.File(filename, 'r')\n",
    "# f.close()\n",
    "\n",
    "viewer = nyroglancer.Hdf5Viewer(filename)\n",
    "# viewer.add(labels.astype(np.uint16), name='labels', voxel_size=[1, 1, 1])\n",
    "# # viewer.add(affmap.astype(np.float32), name='affmaps', voxel_size=[1, 1, 1])\n",
    "# viewer.add(raw.astype(np.float32)/255, name='raw', voxel_size=[1, 1, 1])\n",
    "viewer.set_hostname('localhost:8880')\n",
    "\n",
    "viewer.show()\n"
   ]
  },
  {
   "cell_type": "code",
   "execution_count": null,
   "metadata": {},
   "outputs": [],
   "source": []
  },
  {
   "cell_type": "code",
   "execution_count": null,
   "metadata": {},
   "outputs": [],
   "source": []
  }
 ],
 "metadata": {
  "kernelspec": {
   "display_name": "Python 2",
   "language": "python",
   "name": "python2"
  },
  "language_info": {
   "codemirror_mode": {
    "name": "ipython",
    "version": 2
   },
   "file_extension": ".py",
   "mimetype": "text/x-python",
   "name": "python",
   "nbconvert_exporter": "python",
   "pygments_lexer": "ipython2",
   "version": "2.7.12"
  }
 },
 "nbformat": 4,
 "nbformat_minor": 2
}
