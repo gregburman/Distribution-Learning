{
 "cells": [
  {
   "cell_type": "code",
   "execution_count": 1,
   "metadata": {
    "scrolled": false
   },
   "outputs": [
    {
     "name": "stdout",
     "output_type": "stream",
     "text": [
      "Adding dataset ../tests/snapshots/data_00000000.hdf/volumes/affinities_joined as 1\n",
      "Adding dataset ../tests/snapshots/data_00000000.hdf/volumes/affinities_raw as 2\n",
      "Adding dataset ../tests/snapshots/data_00000000.hdf/volumes/labels as 3\n",
      "Adding dataset ../tests/snapshots/data_00000000.hdf/volumes/raw as 4\n"
     ]
    },
    {
     "data": {
      "text/html": [
       "<style>.container { width:100% !important; }</style><iframe src=\"http://localhost:8880/neuroglancer#!%7B%22layers%22:%7B%22../tests/snapshots/data_00000000.hdf/volumes/affinities_joined%22:%7B%22source%22:%22python://http://localhost:8880/da38ffd17a4c36d536ac0e081d77df0c11745f85%22,%22type%22:%22image%22%7D,%22../tests/snapshots/data_00000000.hdf/volumes/affinities_raw%22:%7B%22source%22:%22python://http://localhost:8880/edb62a2c5ccec8a23db29e812a5cf60df8ef080c%22,%22type%22:%22image%22,%22shader%22:%22void%20main()%20%7B%20emitRGB(vec3(toNormalized(getDataValue(0)),toNormalized(getDataValue(1)),toNormalized(getDataValue(2))));%20%7D%22%7D,%22../tests/snapshots/data_00000000.hdf/volumes/labels%22:%7B%22source%22:%22python://http://localhost:8880/35f56314bfe1a6a14e2de2c733ef709cfa1a19c6%22,%22type%22:%22segmentation%22%7D,%22../tests/snapshots/data_00000000.hdf/volumes/raw%22:%7B%22source%22:%22python://http://localhost:8880/779d139ed09bd0e6c7967392287a75776328011a%22,%22type%22:%22image%22%7D%7D%7D\" width=\"100%\" height=\"1024px\"><\\iframe>"
      ],
      "text/plain": [
       "<IPython.core.display.HTML object>"
      ]
     },
     "execution_count": 1,
     "metadata": {},
     "output_type": "execute_result"
    }
   ],
   "source": [
    "import nyroglancer\n",
    "import numpy as np\n",
    "import h5py\n",
    "\n",
    "filename = '../tests/snapshots/data_00000000.hdf'\n",
    "\n",
    "viewer = nyroglancer.Hdf5Viewer(filename)\n",
    "viewer.set_hostname('localhost:8880')\n",
    "viewer.set_large()\n",
    "viewer.show()"
   ]
  },
  {
   "cell_type": "code",
   "execution_count": 6246,
   "metadata": {
    "scrolled": false
   },
   "outputs": [
    {
     "name": "stdout",
     "output_type": "stream",
     "text": [
      "Closing previously open ../tests/snapshots/data_00000000.hdf\n",
      "Adding dataset ../tests/snapshots/data_00000000.hdf/volumes/labels as 1\n"
     ]
    },
    {
     "data": {
      "text/html": [
       "<iframe src=\"http://localhost:8880/neuroglancer#!%7B%22layers%22:%7B%22../tests/snapshots/data_00000000.hdf/volumes/labels%22:%7B%22source%22:%22python://http://localhost:8880/6ccd3dffabaa9ce1bb7108e60ee301b32d1bc763%22,%22type%22:%22segmentation%22%7D%7D%7D\" width=\"100%\" height=\"1024px\"><\\iframe>"
      ],
      "text/plain": [
       "<IPython.core.display.HTML object>"
      ]
     },
     "execution_count": 6246,
     "metadata": {},
     "output_type": "execute_result"
    }
   ],
   "source": [
    "filename = '../tests/snapshots/data_00000000.hdf'\n",
    "\n",
    "viewer = nyroglancer.Hdf5Viewer(filename)\n",
    "viewer.set_hostname('localhost:8880')\n",
    "viewer.show()"
   ]
  },
  {
   "cell_type": "code",
   "execution_count": null,
   "metadata": {},
   "outputs": [],
   "source": []
  }
 ],
 "metadata": {
  "kernelspec": {
   "display_name": "Python 2",
   "language": "python",
   "name": "python2"
  },
  "language_info": {
   "codemirror_mode": {
    "name": "ipython",
    "version": 2
   },
   "file_extension": ".py",
   "mimetype": "text/x-python",
   "name": "python",
   "nbconvert_exporter": "python",
   "pygments_lexer": "ipython2",
   "version": "2.7.12"
  }
 },
 "nbformat": 4,
 "nbformat_minor": 2
}
