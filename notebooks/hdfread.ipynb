{
 "cells": [
  {
   "cell_type": "code",
   "execution_count": 2288,
   "metadata": {
    "scrolled": false
   },
   "outputs": [
    {
     "name": "stdout",
     "output_type": "stream",
     "text": [
      "Adding dataset ../snapshots/batch_101.hdf/volumes/input_affinities_key as 1\n",
      "Adding dataset ../snapshots/batch_101.hdf/volumes/labels/labels as 2\n",
      "Adding dataset ../snapshots/batch_101.hdf/volumes/output_affinities_key as 3\n",
      "Adding dataset ../snapshots/batch_101.hdf/volumes/pred_affinities as 4\n",
      "Adding dataset ../snapshots/batch_101.hdf/volumes/raw as 5\n"
     ]
    },
    {
     "data": {
      "text/html": [
       "<iframe src=\"http://localhost:8880/neuroglancer#!%7B%22layers%22:%7B%22../snapshots/batch_101.hdf/volumes/input_affinities_key%22:%7B%22source%22:%22python://http://localhost:8880/8dac1b98a5d8adbe0001d5f06287cea85107687a%22,%22type%22:%22image%22,%22shader%22:%22void%20main()%20%7B%20emitRGB(vec3(toNormalized(getDataValue(0)),toNormalized(getDataValue(1)),toNormalized(getDataValue(2))));%20%7D%22%7D,%22../snapshots/batch_101.hdf/volumes/labels/labels%22:%7B%22source%22:%22python://http://localhost:8880/83a75dd559149ea4ee8657bf8017598eed5c5a6c%22,%22type%22:%22segmentation%22%7D,%22../snapshots/batch_101.hdf/volumes/output_affinities_key%22:%7B%22source%22:%22python://http://localhost:8880/e4dcdc7a9cbf575e9294cca9677ebc02e2a5ca6b%22,%22type%22:%22image%22,%22shader%22:%22void%20main()%20%7B%20emitRGB(vec3(toNormalized(getDataValue(0)),toNormalized(getDataValue(1)),toNormalized(getDataValue(2))));%20%7D%22%7D,%22../snapshots/batch_101.hdf/volumes/pred_affinities%22:%7B%22source%22:%22python://http://localhost:8880/5aa7fa9ac0635d8703686ffa0676d8d535f97581%22,%22type%22:%22image%22,%22shader%22:%22void%20main()%20%7B%20emitRGB(vec3(toNormalized(getDataValue(0)),toNormalized(getDataValue(1)),toNormalized(getDataValue(2))));%20%7D%22%7D,%22../snapshots/batch_101.hdf/volumes/raw%22:%7B%22source%22:%22python://http://localhost:8880/83ff0405fb743a048f10f119b0768369e319b486%22,%22type%22:%22image%22%7D%7D%7D\" width=\"100%\" height=\"1024px\"><\\iframe>"
      ],
      "text/plain": [
       "<IPython.core.display.HTML object>"
      ]
     },
     "execution_count": 2288,
     "metadata": {},
     "output_type": "execute_result"
    }
   ],
   "source": [
    "import nyroglancer\n",
    "import numpy as np\n",
    "import h5py\n",
    "\n",
    "filename = '../snapshots/batch_101.hdf'\n",
    "\n",
    "viewer = nyroglancer.Hdf5Viewer(filename)\n",
    "viewer.set_hostname('localhost:8880')\n",
    "viewer.show()"
   ]
  },
  {
   "cell_type": "code",
   "execution_count": 2008,
   "metadata": {},
   "outputs": [
    {
     "name": "stdout",
     "output_type": "stream",
     "text": [
      "Closing previously open ../tests/snapshots/data_00000000.hdf\n",
      "Adding dataset ../tests/snapshots/data_00000000.hdf/volumes/affinities_raw as 1\n",
      "Adding dataset ../tests/snapshots/data_00000000.hdf/volumes/labels as 2\n",
      "Adding dataset ../tests/snapshots/data_00000000.hdf/volumes/raw as 3\n"
     ]
    },
    {
     "data": {
      "text/html": [
       "<iframe src=\"http://localhost:8880/neuroglancer#!%7B%22layers%22:%7B%22../tests/snapshots/data_00000000.hdf/volumes/affinities_raw%22:%7B%22source%22:%22python://http://localhost:8880/ab0f960942b3c8faa5dcfe9eb6a62e906dfe235a%22,%22type%22:%22image%22,%22shader%22:%22void%20main()%20%7B%20emitRGB(vec3(toNormalized(getDataValue(0)),toNormalized(getDataValue(1)),toNormalized(getDataValue(2))));%20%7D%22%7D,%22../tests/snapshots/data_00000000.hdf/volumes/labels%22:%7B%22source%22:%22python://http://localhost:8880/2dbf5ca92304cbd2f44cd7d71852d0b2fe56134b%22,%22type%22:%22segmentation%22%7D,%22../tests/snapshots/data_00000000.hdf/volumes/raw%22:%7B%22source%22:%22python://http://localhost:8880/70ba779fa771cdc01fcf14a96df6a5e5c4eee8ff%22,%22type%22:%22image%22%7D%7D%7D\" width=\"100%\" height=\"1024px\"><\\iframe>"
      ],
      "text/plain": [
       "<IPython.core.display.HTML object>"
      ]
     },
     "execution_count": 2008,
     "metadata": {},
     "output_type": "execute_result"
    }
   ],
   "source": [
    "filename = '../tests/snapshots/data_00000000.hdf'\n",
    "# filename = '../snapshots/tests/non-isotropic.hdf'\n",
    "\n",
    "viewer = nyroglancer.Hdf5Viewer(filename)\n",
    "viewer.set_hostname('localhost:8880')\n",
    "viewer.show()"
   ]
  },
  {
   "cell_type": "code",
   "execution_count": null,
   "metadata": {},
   "outputs": [],
   "source": []
  }
 ],
 "metadata": {
  "kernelspec": {
   "display_name": "Python 2",
   "language": "python",
   "name": "python2"
  },
  "language_info": {
   "codemirror_mode": {
    "name": "ipython",
    "version": 2
   },
   "file_extension": ".py",
   "mimetype": "text/x-python",
   "name": "python",
   "nbconvert_exporter": "python",
   "pygments_lexer": "ipython2",
   "version": "2.7.12"
  }
 },
 "nbformat": 4,
 "nbformat_minor": 2
}
