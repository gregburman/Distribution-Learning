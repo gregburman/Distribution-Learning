{
 "cells": [
  {
   "cell_type": "code",
   "execution_count": 35,
   "metadata": {
    "scrolled": false
   },
   "outputs": [
    {
     "name": "stdout",
     "output_type": "stream",
     "text": [
      "Adding dataset ../tests/snapshots/affinities.hdf/volumes/affinities as 1\n",
      "Adding dataset ../tests/snapshots/affinities.hdf/volumes/labels as 2\n"
     ]
    },
    {
     "data": {
      "text/html": [
       "<iframe src=\"http://localhost:8881/neuroglancer#!%7B%22layers%22:%7B%22../tests/snapshots/affinities.hdf/volumes/affinities%22:%7B%22source%22:%22python://http://localhost:8881/a1dac2bcfe7093821ed3777f92d74991c4db8bb6%22,%22type%22:%22image%22,%22shader%22:%22void%20main()%20%7B%20emitRGB(vec3(toNormalized(getDataValue(0)),toNormalized(getDataValue(1)),toNormalized(getDataValue(2))));%20%7D%22%7D,%22../tests/snapshots/affinities.hdf/volumes/labels%22:%7B%22source%22:%22python://http://localhost:8881/a2c2477ef723f39b389546cc3a11da34e0d067d9%22,%22type%22:%22segmentation%22%7D%7D%7D\" width=\"100%\" height=\"1024px\"><\\iframe>"
      ],
      "text/plain": [
       "<IPython.core.display.HTML object>"
      ]
     },
     "execution_count": 35,
     "metadata": {},
     "output_type": "execute_result"
    }
   ],
   "source": [
    "import nyroglancer\n",
    "import numpy as np\n",
    "import h5py\n",
    "\n",
    "filename = '../tests/snapshots/affinities.hdf'\n",
    "# filename = '../snapshots/tests/isotropic.hdf'\n",
    "\n",
    "viewer = nyroglancer.Hdf5Viewer(filename)\n",
    "viewer.set_hostname('localhost:8881')\n",
    "viewer.show()"
   ]
  },
  {
   "cell_type": "code",
   "execution_count": 97,
   "metadata": {},
   "outputs": [
    {
     "name": "stdout",
     "output_type": "stream",
     "text": [
      "Adding dataset ../snapshots/train/batch_301.hdf/volumes/joined_affinities as 1\n",
      "Adding dataset ../snapshots/train/batch_301.hdf/volumes/labels/labels as 2\n",
      "Adding dataset ../snapshots/train/batch_301.hdf/volumes/pred_affinities as 3\n",
      "Adding dataset ../snapshots/train/batch_301.hdf/volumes/raw as 4\n"
     ]
    },
    {
     "data": {
      "text/html": [
       "<iframe src=\"http://localhost:8880/neuroglancer#!%7B%22layers%22:%7B%22../snapshots/train/batch_301.hdf/volumes/joined_affinities%22:%7B%22source%22:%22python://http://localhost:8880/5af093facdcba8f916b689a88d9b79f36082123a%22,%22type%22:%22image%22%7D,%22../snapshots/train/batch_301.hdf/volumes/labels/labels%22:%7B%22source%22:%22python://http://localhost:8880/4568359da46e98afdd3f32cfc9d5a49e54c79724%22,%22type%22:%22segmentation%22%7D,%22../snapshots/train/batch_301.hdf/volumes/pred_affinities%22:%7B%22source%22:%22python://http://localhost:8880/7555fbf00da52c0b3c066668760789b087b195f8%22,%22type%22:%22image%22,%22shader%22:%22void%20main()%20%7B%20emitRGB(vec3(toNormalized(getDataValue(0)),toNormalized(getDataValue(1)),toNormalized(getDataValue(2))));%20%7D%22%7D,%22../snapshots/train/batch_301.hdf/volumes/raw%22:%7B%22source%22:%22python://http://localhost:8880/9d4cad116746d3fe96aed63b56e9bb925ec2c97e%22,%22type%22:%22segmentation%22%7D%7D%7D\" width=\"100%\" height=\"1024px\"><\\iframe>"
      ],
      "text/plain": [
       "<IPython.core.display.HTML object>"
      ]
     },
     "execution_count": 97,
     "metadata": {},
     "output_type": "execute_result"
    }
   ],
   "source": [
    "filename = '../snapshots/train/batch_301.hdf'\n",
    "# filename = '../snapshots/tests/non-isotropic.hdf'\n",
    "\n",
    "viewer = nyroglancer.Hdf5Viewer(filename)\n",
    "viewer.set_hostname('localhost:8880')\n",
    "viewer.show()"
   ]
  },
  {
   "cell_type": "code",
   "execution_count": null,
   "metadata": {},
   "outputs": [],
   "source": []
  }
 ],
 "metadata": {
  "kernelspec": {
   "display_name": "Python 2",
   "language": "python",
   "name": "python2"
  },
  "language_info": {
   "codemirror_mode": {
    "name": "ipython",
    "version": 2
   },
   "file_extension": ".py",
   "mimetype": "text/x-python",
   "name": "python",
   "nbconvert_exporter": "python",
   "pygments_lexer": "ipython2",
   "version": "2.7.12"
  }
 },
 "nbformat": 4,
 "nbformat_minor": 2
}
