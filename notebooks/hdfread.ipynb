{
 "cells": [
  {
   "cell_type": "code",
   "execution_count": 567,
   "metadata": {
    "scrolled": false
   },
   "outputs": [
    {
     "name": "stdout",
     "output_type": "stream",
     "text": [
      "Adding dataset ../snapshots/prob_unet/train/batch_401.hdf/volumes/input_affs as 1\n",
      "Adding dataset ../snapshots/prob_unet/train/batch_401.hdf/volumes/labels/labels as 2\n",
      "Adding dataset ../snapshots/prob_unet/train/batch_401.hdf/volumes/output_affs as 3\n",
      "Adding dataset ../snapshots/prob_unet/train/batch_401.hdf/volumes/pred_affs as 4\n",
      "Adding dataset ../snapshots/prob_unet/train/batch_401.hdf/volumes/raw as 5\n"
     ]
    },
    {
     "data": {
      "text/html": [
       "<iframe src=\"http://localhost:8880/neuroglancer#!%7B%22layers%22:%7B%22../snapshots/prob_unet/train/batch_401.hdf/volumes/input_affs%22:%7B%22source%22:%22python://http://localhost:8880/be1683fa0bffb1f0755a7d0fe1eb4a7fd3b7b614%22,%22type%22:%22image%22,%22shader%22:%22void%20main()%20%7B%20emitRGB(vec3(toNormalized(getDataValue(0)),toNormalized(getDataValue(1)),toNormalized(getDataValue(2))));%20%7D%22%7D,%22../snapshots/prob_unet/train/batch_401.hdf/volumes/labels/labels%22:%7B%22source%22:%22python://http://localhost:8880/1fcdf064c137a317421c36a93b4dd1cc32046e05%22,%22type%22:%22segmentation%22%7D,%22../snapshots/prob_unet/train/batch_401.hdf/volumes/output_affs%22:%7B%22source%22:%22python://http://localhost:8880/9292cd2aae56610fe34a7bc0f993caebfbbaf887%22,%22type%22:%22image%22,%22shader%22:%22void%20main()%20%7B%20emitRGB(vec3(toNormalized(getDataValue(0)),toNormalized(getDataValue(1)),toNormalized(getDataValue(2))));%20%7D%22%7D,%22../snapshots/prob_unet/train/batch_401.hdf/volumes/pred_affs%22:%7B%22source%22:%22python://http://localhost:8880/aec5693b103169aa8a29a5359c5c893ee081f7f2%22,%22type%22:%22image%22,%22shader%22:%22void%20main()%20%7B%20emitRGB(vec3(toNormalized(getDataValue(0)),toNormalized(getDataValue(1)),toNormalized(getDataValue(2))));%20%7D%22%7D,%22../snapshots/prob_unet/train/batch_401.hdf/volumes/raw%22:%7B%22source%22:%22python://http://localhost:8880/d5ad7c66da8c1d68810fac97ac2ef52f77275f32%22,%22type%22:%22image%22%7D%7D%7D\" width=\"100%\" height=\"1024px\"><\\iframe>"
      ],
      "text/plain": [
       "<IPython.core.display.HTML object>"
      ]
     },
     "execution_count": 567,
     "metadata": {},
     "output_type": "execute_result"
    }
   ],
   "source": [
    "import nyroglancer\n",
    "import numpy as np\n",
    "import h5py\n",
    "\n",
    "filename = '../snapshots/prob_unet/train/batch_401.hdf'\n",
    "\n",
    "viewer = nyroglancer.Hdf5Viewer(filename)\n",
    "viewer.set_hostname('localhost:8880')\n",
    "viewer.show()"
   ]
  },
  {
   "cell_type": "code",
   "execution_count": 743,
   "metadata": {},
   "outputs": [
    {
     "name": "stdout",
     "output_type": "stream",
     "text": [
      "Closing previously open ../snapshots/prob_unet/prediction.hdf\n",
      "Adding dataset ../snapshots/prob_unet/prediction.hdf/volumes/labels/labels as 1\n",
      "Adding dataset ../snapshots/prob_unet/prediction.hdf/volumes/pred_affs_1 as 2\n",
      "Adding dataset ../snapshots/prob_unet/prediction.hdf/volumes/pred_affs_2 as 3\n",
      "Adding dataset ../snapshots/prob_unet/prediction.hdf/volumes/raw as 4\n",
      "Adding dataset ../snapshots/prob_unet/prediction.hdf/volumes/raw_affs as 5\n"
     ]
    },
    {
     "data": {
      "text/html": [
       "<iframe src=\"http://localhost:8880/neuroglancer#!%7B%22layers%22:%7B%22../snapshots/prob_unet/prediction.hdf/volumes/labels/labels%22:%7B%22source%22:%22python://http://localhost:8880/d723422408a1d0bd4b3a0f59b695a42a8ab30b5e%22,%22type%22:%22segmentation%22%7D,%22../snapshots/prob_unet/prediction.hdf/volumes/pred_affs_1%22:%7B%22source%22:%22python://http://localhost:8880/0301a43be43e45f5fa9e9cc2152c6c851d95107c%22,%22type%22:%22image%22,%22shader%22:%22void%20main()%20%7B%20emitRGB(vec3(toNormalized(getDataValue(0)),toNormalized(getDataValue(1)),toNormalized(getDataValue(2))));%20%7D%22%7D,%22../snapshots/prob_unet/prediction.hdf/volumes/pred_affs_2%22:%7B%22source%22:%22python://http://localhost:8880/72bdfa482ba16a6b16e7ac8825555bcd11026ac3%22,%22type%22:%22image%22,%22shader%22:%22void%20main()%20%7B%20emitRGB(vec3(toNormalized(getDataValue(0)),toNormalized(getDataValue(1)),toNormalized(getDataValue(2))));%20%7D%22%7D,%22../snapshots/prob_unet/prediction.hdf/volumes/raw%22:%7B%22source%22:%22python://http://localhost:8880/c4cc975b5ba4621c069ff65d33025bdd38c83c23%22,%22type%22:%22image%22%7D,%22../snapshots/prob_unet/prediction.hdf/volumes/raw_affs%22:%7B%22source%22:%22python://http://localhost:8880/52c061fb055c7bd6a885d17c5141fe6b21fe5f4a%22,%22type%22:%22image%22,%22shader%22:%22void%20main()%20%7B%20emitRGB(vec3(toNormalized(getDataValue(0)),toNormalized(getDataValue(1)),toNormalized(getDataValue(2))));%20%7D%22%7D%7D%7D\" width=\"100%\" height=\"1024px\"><\\iframe>"
      ],
      "text/plain": [
       "<IPython.core.display.HTML object>"
      ]
     },
     "execution_count": 743,
     "metadata": {},
     "output_type": "execute_result"
    }
   ],
   "source": [
    "filename = '../snapshots/prob_unet/prediction.hdf'\n",
    "\n",
    "viewer = nyroglancer.Hdf5Viewer(filename)\n",
    "viewer.set_hostname('localhost:8880')\n",
    "viewer.show()"
   ]
  },
  {
   "cell_type": "code",
   "execution_count": null,
   "metadata": {},
   "outputs": [],
   "source": []
  }
 ],
 "metadata": {
  "kernelspec": {
   "display_name": "Python 2",
   "language": "python",
   "name": "python2"
  },
  "language_info": {
   "codemirror_mode": {
    "name": "ipython",
    "version": 2
   },
   "file_extension": ".py",
   "mimetype": "text/x-python",
   "name": "python",
   "nbconvert_exporter": "python",
   "pygments_lexer": "ipython2",
   "version": "2.7.12"
  }
 },
 "nbformat": 4,
 "nbformat_minor": 2
}
