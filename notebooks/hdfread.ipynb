{
 "cells": [
  {
   "cell_type": "code",
   "execution_count": 359,
   "metadata": {
    "scrolled": false
   },
   "outputs": [
    {
     "name": "stdout",
     "output_type": "stream",
     "text": [
      "Adding dataset ../snapshots/train/batch_101.hdf/volumes/joined_affinities as 1\n",
      "Adding dataset ../snapshots/train/batch_101.hdf/volumes/labels/labels as 2\n",
      "Adding dataset ../snapshots/train/batch_101.hdf/volumes/pred_affinities as 3\n",
      "Adding dataset ../snapshots/train/batch_101.hdf/volumes/raw as 4\n"
     ]
    },
    {
     "data": {
      "text/html": [
       "<iframe src=\"http://localhost:8880/neuroglancer#!%7B%22layers%22:%7B%22../snapshots/train/batch_101.hdf/volumes/joined_affinities%22:%7B%22source%22:%22python://http://localhost:8880/484280f6659d4495b255c0bd2e7a147531ffe9e5%22,%22type%22:%22image%22%7D,%22../snapshots/train/batch_101.hdf/volumes/labels/labels%22:%7B%22source%22:%22python://http://localhost:8880/10d36bf251115bc89e371bbdf8f96cf3b90e8121%22,%22type%22:%22segmentation%22%7D,%22../snapshots/train/batch_101.hdf/volumes/pred_affinities%22:%7B%22source%22:%22python://http://localhost:8880/8fc3d285b26d0fc73627f3ad329ff9ca995ecf12%22,%22type%22:%22image%22,%22shader%22:%22void%20main()%20%7B%20emitRGB(vec3(toNormalized(getDataValue(0)),toNormalized(getDataValue(1)),toNormalized(getDataValue(2))));%20%7D%22%7D,%22../snapshots/train/batch_101.hdf/volumes/raw%22:%7B%22source%22:%22python://http://localhost:8880/58991d448295166a85eca14856df9d6039800c1a%22,%22type%22:%22segmentation%22%7D%7D%7D\" width=\"100%\" height=\"1024px\"><\\iframe>"
      ],
      "text/plain": [
       "<IPython.core.display.HTML object>"
      ]
     },
     "execution_count": 359,
     "metadata": {},
     "output_type": "execute_result"
    }
   ],
   "source": [
    "import nyroglancer\n",
    "import numpy as np\n",
    "import h5py\n",
    "\n",
    "filename = '../snapshots/train/batch_101.hdf'\n",
    "# filename = '../snapshots/tests/isotropic.hdf'\n",
    "\n",
    "viewer = nyroglancer.Hdf5Viewer(filename)\n",
    "viewer.set_hostname('localhost:8880')\n",
    "viewer.show()"
   ]
  },
  {
   "cell_type": "code",
   "execution_count": 97,
   "metadata": {},
   "outputs": [
    {
     "name": "stdout",
     "output_type": "stream",
     "text": [
      "Adding dataset ../snapshots/train/batch_301.hdf/volumes/joined_affinities as 1\n",
      "Adding dataset ../snapshots/train/batch_301.hdf/volumes/labels/labels as 2\n",
      "Adding dataset ../snapshots/train/batch_301.hdf/volumes/pred_affinities as 3\n",
      "Adding dataset ../snapshots/train/batch_301.hdf/volumes/raw as 4\n"
     ]
    },
    {
     "data": {
      "text/html": [
       "<iframe src=\"http://localhost:8880/neuroglancer#!%7B%22layers%22:%7B%22../snapshots/train/batch_301.hdf/volumes/joined_affinities%22:%7B%22source%22:%22python://http://localhost:8880/5af093facdcba8f916b689a88d9b79f36082123a%22,%22type%22:%22image%22%7D,%22../snapshots/train/batch_301.hdf/volumes/labels/labels%22:%7B%22source%22:%22python://http://localhost:8880/4568359da46e98afdd3f32cfc9d5a49e54c79724%22,%22type%22:%22segmentation%22%7D,%22../snapshots/train/batch_301.hdf/volumes/pred_affinities%22:%7B%22source%22:%22python://http://localhost:8880/7555fbf00da52c0b3c066668760789b087b195f8%22,%22type%22:%22image%22,%22shader%22:%22void%20main()%20%7B%20emitRGB(vec3(toNormalized(getDataValue(0)),toNormalized(getDataValue(1)),toNormalized(getDataValue(2))));%20%7D%22%7D,%22../snapshots/train/batch_301.hdf/volumes/raw%22:%7B%22source%22:%22python://http://localhost:8880/9d4cad116746d3fe96aed63b56e9bb925ec2c97e%22,%22type%22:%22segmentation%22%7D%7D%7D\" width=\"100%\" height=\"1024px\"><\\iframe>"
      ],
      "text/plain": [
       "<IPython.core.display.HTML object>"
      ]
     },
     "execution_count": 97,
     "metadata": {},
     "output_type": "execute_result"
    }
   ],
   "source": [
    "filename = '../snapshots/train/batch_301.hdf'\n",
    "# filename = '../snapshots/tests/non-isotropic.hdf'\n",
    "\n",
    "viewer = nyroglancer.Hdf5Viewer(filename)\n",
    "viewer.set_hostname('localhost:8880')\n",
    "viewer.show()"
   ]
  },
  {
   "cell_type": "code",
   "execution_count": null,
   "metadata": {},
   "outputs": [],
   "source": []
  }
 ],
 "metadata": {
  "kernelspec": {
   "display_name": "Python 2",
   "language": "python",
   "name": "python2"
  },
  "language_info": {
   "codemirror_mode": {
    "name": "ipython",
    "version": 2
   },
   "file_extension": ".py",
   "mimetype": "text/x-python",
   "name": "python",
   "nbconvert_exporter": "python",
   "pygments_lexer": "ipython2",
   "version": "2.7.12"
  }
 },
 "nbformat": 4,
 "nbformat_minor": 2
}
