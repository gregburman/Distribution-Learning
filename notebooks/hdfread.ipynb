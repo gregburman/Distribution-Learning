{
 "cells": [
  {
   "cell_type": "code",
   "execution_count": 585,
   "metadata": {
    "scrolled": false
   },
   "outputs": [
    {
     "name": "stdout",
     "output_type": "stream",
     "text": [
      "Adding dataset ../tests/snapshots/data_00000003.hdf/volumes/affinities_in as 1\n",
      "Adding dataset ../tests/snapshots/data_00000003.hdf/volumes/affinities_joined as 2\n",
      "Adding dataset ../tests/snapshots/data_00000003.hdf/volumes/affinities_out as 3\n",
      "Adding dataset ../tests/snapshots/data_00000003.hdf/volumes/labels as 4\n",
      "Adding dataset ../tests/snapshots/data_00000003.hdf/volumes/raw as 5\n"
     ]
    },
    {
     "data": {
      "text/html": [
       "<iframe src=\"http://localhost:8880/neuroglancer#!%7B%22layers%22:%7B%22../tests/snapshots/data_00000003.hdf/volumes/affinities_in%22:%7B%22source%22:%22python://http://localhost:8880/da4ec0ff5d37cbf8e08b84f382c778b5e8d10640%22,%22type%22:%22image%22,%22shader%22:%22void%20main()%20%7B%20emitRGB(vec3(toNormalized(getDataValue(0)),toNormalized(getDataValue(1)),toNormalized(getDataValue(2))));%20%7D%22%7D,%22../tests/snapshots/data_00000003.hdf/volumes/affinities_joined%22:%7B%22source%22:%22python://http://localhost:8880/f9b8e602c411c2f33f3ddc04f6e298906ed47077%22,%22type%22:%22image%22%7D,%22../tests/snapshots/data_00000003.hdf/volumes/affinities_out%22:%7B%22source%22:%22python://http://localhost:8880/759535031f7f61c898af3aac1752c551d2cc7d85%22,%22type%22:%22image%22,%22shader%22:%22void%20main()%20%7B%20emitRGB(vec3(toNormalized(getDataValue(0)),toNormalized(getDataValue(1)),toNormalized(getDataValue(2))));%20%7D%22%7D,%22../tests/snapshots/data_00000003.hdf/volumes/labels%22:%7B%22source%22:%22python://http://localhost:8880/fff1fea10cb39b0dec733cf718b14aff585b2fde%22,%22type%22:%22segmentation%22%7D,%22../tests/snapshots/data_00000003.hdf/volumes/raw%22:%7B%22source%22:%22python://http://localhost:8880/9f512071158bc2799bb59f5da260472a739cc397%22,%22type%22:%22image%22%7D%7D%7D\" width=\"100%\" height=\"1024px\"><\\iframe>"
      ],
      "text/plain": [
       "<IPython.core.display.HTML object>"
      ]
     },
     "execution_count": 585,
     "metadata": {},
     "output_type": "execute_result"
    }
   ],
   "source": [
    "import nyroglancer\n",
    "import numpy as np\n",
    "import h5py\n",
    "\n",
    "filename = '../snapshots/batch_.hdf'\n",
    "\n",
    "viewer = nyroglancer.Hdf5Viewer(filename)\n",
    "viewer.set_hostname('localhost:8880')\n",
    "viewer.show()"
   ]
  },
  {
   "cell_type": "code",
   "execution_count": 683,
   "metadata": {},
   "outputs": [
    {
     "name": "stdout",
     "output_type": "stream",
     "text": [
      "Adding dataset ../tests/snapshots/data_00000004.hdf/volumes/affinities_in as 1\n",
      "Adding dataset ../tests/snapshots/data_00000004.hdf/volumes/affinities_joined as 2\n",
      "Adding dataset ../tests/snapshots/data_00000004.hdf/volumes/affinities_out as 3\n",
      "Adding dataset ../tests/snapshots/data_00000004.hdf/volumes/labels as 4\n",
      "Adding dataset ../tests/snapshots/data_00000004.hdf/volumes/raw as 5\n"
     ]
    },
    {
     "data": {
      "text/html": [
       "<iframe src=\"http://localhost:8880/neuroglancer#!%7B%22layers%22:%7B%22../tests/snapshots/data_00000004.hdf/volumes/affinities_in%22:%7B%22source%22:%22python://http://localhost:8880/1c0eb62eb0714913de23b86f0278ca7777e75b96%22,%22type%22:%22image%22,%22shader%22:%22void%20main()%20%7B%20emitRGB(vec3(toNormalized(getDataValue(0)),toNormalized(getDataValue(1)),toNormalized(getDataValue(2))));%20%7D%22%7D,%22../tests/snapshots/data_00000004.hdf/volumes/affinities_joined%22:%7B%22source%22:%22python://http://localhost:8880/d4ead4cc3a921ff4e6796f9831ec5ac9747bdaa6%22,%22type%22:%22image%22%7D,%22../tests/snapshots/data_00000004.hdf/volumes/affinities_out%22:%7B%22source%22:%22python://http://localhost:8880/0fd7bafb123d03b44a85ecdd95e6061cd90f7aac%22,%22type%22:%22image%22,%22shader%22:%22void%20main()%20%7B%20emitRGB(vec3(toNormalized(getDataValue(0)),toNormalized(getDataValue(1)),toNormalized(getDataValue(2))));%20%7D%22%7D,%22../tests/snapshots/data_00000004.hdf/volumes/labels%22:%7B%22source%22:%22python://http://localhost:8880/f20087d246e80d7298a2975999e4914427c0e449%22,%22type%22:%22segmentation%22%7D,%22../tests/snapshots/data_00000004.hdf/volumes/raw%22:%7B%22source%22:%22python://http://localhost:8880/c872a9e0a7be239d86c9dbc7db2fae617602f60a%22,%22type%22:%22image%22%7D%7D%7D\" width=\"100%\" height=\"1024px\"><\\iframe>"
      ],
      "text/plain": [
       "<IPython.core.display.HTML object>"
      ]
     },
     "execution_count": 683,
     "metadata": {},
     "output_type": "execute_result"
    }
   ],
   "source": [
    "filename = '../tests/snapshots/data_00000004.hdf'\n",
    "# filename = '../snapshots/tests/non-isotropic.hdf'\n",
    "\n",
    "viewer = nyroglancer.Hdf5Viewer(filename)\n",
    "viewer.set_hostname('localhost:8880')\n",
    "viewer.show()"
   ]
  },
  {
   "cell_type": "code",
   "execution_count": null,
   "metadata": {},
   "outputs": [],
   "source": []
  }
 ],
 "metadata": {
  "kernelspec": {
   "display_name": "Python 2",
   "language": "python",
   "name": "python2"
  },
  "language_info": {
   "codemirror_mode": {
    "name": "ipython",
    "version": 2
   },
   "file_extension": ".py",
   "mimetype": "text/x-python",
   "name": "python",
   "nbconvert_exporter": "python",
   "pygments_lexer": "ipython2",
   "version": "2.7.12"
  }
 },
 "nbformat": 4,
 "nbformat_minor": 2
}
